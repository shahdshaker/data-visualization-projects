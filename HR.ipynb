{
 "cells": [
  {
   "cell_type": "markdown",
   "id": "c61d022c",
   "metadata": {},
   "source": [
    "### Load The Data"
   ]
  },
  {
   "cell_type": "code",
   "execution_count": 2,
   "id": "1b072ea0",
   "metadata": {},
   "outputs": [],
   "source": [
    "import pandas as pd\n",
    "import numpy as np\n",
    "import seaborn as sns\n",
    "import matplotlib.pyplot as plt"
   ]
  },
  {
   "cell_type": "code",
   "execution_count": 5,
   "id": "e514f1cd",
   "metadata": {},
   "outputs": [
    {
     "data": {
      "application/vnd.microsoft.datawrangler.viewer.v0+json": {
       "columns": [
        {
         "name": "index",
         "rawType": "int64",
         "type": "integer"
        },
        {
         "name": "Unnamed: 0",
         "rawType": "int64",
         "type": "integer"
        },
        {
         "name": "Employee_ID",
         "rawType": "object",
         "type": "string"
        },
        {
         "name": "Full_Name",
         "rawType": "object",
         "type": "string"
        },
        {
         "name": "Department",
         "rawType": "object",
         "type": "string"
        },
        {
         "name": "Job_Title",
         "rawType": "object",
         "type": "string"
        },
        {
         "name": "Hire_Date",
         "rawType": "object",
         "type": "string"
        },
        {
         "name": "Location",
         "rawType": "object",
         "type": "string"
        },
        {
         "name": "Performance_Rating",
         "rawType": "int64",
         "type": "integer"
        },
        {
         "name": "Experience_Years",
         "rawType": "int64",
         "type": "integer"
        },
        {
         "name": "Status",
         "rawType": "object",
         "type": "string"
        },
        {
         "name": "Work_Mode",
         "rawType": "object",
         "type": "string"
        },
        {
         "name": "Salary_INR",
         "rawType": "int64",
         "type": "integer"
        }
       ],
       "ref": "62113eb8-1fac-4c8e-8bf6-72be93c15870",
       "rows": [
        [
         "0",
         "0",
         "EMP0000001",
         "Joshua Nguyen",
         "IT",
         "Software Engineer",
         "2011-08-10",
         "Isaacland, Denmark",
         "5",
         "14",
         "Resigned",
         "On-site",
         "1585363"
        ],
        [
         "1",
         "1",
         "EMP0000002",
         "Julie Williams",
         "Marketing",
         "SEO Specialist",
         "2018-03-02",
         "Anthonyside, Costa Rica",
         "2",
         "7",
         "Active",
         "On-site",
         "847686"
        ],
        [
         "2",
         "2",
         "EMP0000003",
         "Alyssa Martinez",
         "HR",
         "HR Manager",
         "2023-03-20",
         "Port Christinaport, Saudi Arabia",
         "1",
         "2",
         "Active",
         "On-site",
         "1430084"
        ],
        [
         "3",
         "3",
         "EMP0000004",
         "Nicholas Valdez",
         "IT",
         "Software Engineer",
         "2023-10-12",
         "Port Shelbychester, Antigua and Barbuda",
         "1",
         "1",
         "Active",
         "On-site",
         "990689"
        ],
        [
         "4",
         "4",
         "EMP0000005",
         "Joel Hendricks",
         "Operations",
         "Logistics Coordinator",
         "2024-12-09",
         "Lake Kimberly, Palestinian Territory",
         "5",
         "0",
         "Active",
         "On-site",
         "535082"
        ],
        [
         "5",
         "5",
         "EMP0000006",
         "Jason Gardner",
         "Operations",
         "Logistics Coordinator",
         "2021-02-23",
         "Zimmermanstad, Bulgaria",
         "5",
         "4",
         "Active",
         "On-site",
         "641393"
        ],
        [
         "6",
         "6",
         "EMP0000007",
         "Julie Wright",
         "Finance",
         "Finance Manager",
         "2016-04-04",
         "Karenfort, South Africa",
         "2",
         "9",
         "Active",
         "On-site",
         "1383891"
        ],
        [
         "7",
         "7",
         "EMP0000008",
         "Scott Wilson",
         "Sales",
         "Account Manager",
         "2020-04-04",
         "Moniqueview, British Virgin Islands",
         "2",
         "5",
         "Active",
         "Remote",
         "423091"
        ],
        [
         "8",
         "8",
         "EMP0000009",
         "Cathy Thompson",
         "Finance",
         "Financial Analyst",
         "2018-05-29",
         "South Catherine, Belize",
         "4",
         "7",
         "Resigned",
         "Remote",
         "1138452"
        ],
        [
         "9",
         "9",
         "EMP0000010",
         "Maria Yu MD",
         "IT",
         "Software Engineer",
         "2015-10-08",
         "Brownport, Yemen",
         "4",
         "9",
         "Active",
         "Remote",
         "1543102"
        ],
        [
         "10",
         "10",
         "EMP0000011",
         "Jordan Haynes",
         "Sales",
         "Sales Executive",
         "2018-10-27",
         "Lake Katherineland, Gambia",
         "1",
         "6",
         "Active",
         "On-site",
         "617992"
        ],
        [
         "11",
         "11",
         "EMP0000012",
         "Kevin Lowe",
         "Sales",
         "Account Manager",
         "2024-07-02",
         "East Kent, Qatar",
         "3",
         "1",
         "Resigned",
         "On-site",
         "1111759"
        ],
        [
         "12",
         "12",
         "EMP0000013",
         "Glen Miller",
         "Operations",
         "Operations Executive",
         "2011-05-03",
         "Coreybury, Libyan Arab Jamahiriya",
         "3",
         "14",
         "Active",
         "On-site",
         "512635"
        ],
        [
         "13",
         "13",
         "EMP0000014",
         "Roberto Nguyen",
         "HR",
         "HR Executive",
         "2020-08-24",
         "South Sandraview, India",
         "4",
         "4",
         "Active",
         "On-site",
         "572479"
        ],
        [
         "14",
         "14",
         "EMP0000015",
         "Megan Hernandez",
         "Sales",
         "Account Manager",
         "2016-01-14",
         "New Royberg, Thailand",
         "5",
         "9",
         "Active",
         "Remote",
         "1158764"
        ],
        [
         "15",
         "15",
         "EMP0000016",
         "Julie Marshall",
         "Marketing",
         "SEO Specialist",
         "2021-07-19",
         "Port Phillip, Poland",
         "5",
         "4",
         "Active",
         "On-site",
         "602022"
        ],
        [
         "16",
         "16",
         "EMP0000017",
         "Robert Martin",
         "Operations",
         "Logistics Coordinator",
         "2025-05-13",
         "Laurahaven, Afghanistan",
         "3",
         "0",
         "Resigned",
         "On-site",
         "859025"
        ],
        [
         "17",
         "17",
         "EMP0000018",
         "Mark Rodriguez",
         "Sales",
         "Sales Director",
         "2016-09-17",
         "Maryshire, Botswana",
         "3",
         "8",
         "Active",
         "Remote",
         "508563"
        ],
        [
         "18",
         "18",
         "EMP0000019",
         "Samuel Ferguson",
         "IT",
         "DevOps Engineer",
         "2025-04-05",
         "Matthewsville, Ghana",
         "2",
         "0",
         "Active",
         "On-site",
         "631273"
        ],
        [
         "19",
         "19",
         "EMP0000020",
         "Donald Hoffman",
         "Marketing",
         "Content Strategist",
         "2022-04-01",
         "South James, New Zealand",
         "3",
         "3",
         "Resigned",
         "On-site",
         "965154"
        ],
        [
         "20",
         "20",
         "EMP0000021",
         "Mr. Billy Rodgers DDS",
         "Marketing",
         "Marketing Executive",
         "2017-10-12",
         "West Bryanton, Saint Martin",
         "3",
         "7",
         "Terminated",
         "On-site",
         "796532"
        ],
        [
         "21",
         "21",
         "EMP0000022",
         "Kylie May",
         "IT",
         "DevOps Engineer",
         "2015-07-07",
         "Houstonland, Qatar",
         "2",
         "10",
         "Active",
         "On-site",
         "723820"
        ],
        [
         "22",
         "22",
         "EMP0000023",
         "James Valdez",
         "R&D",
         "Research Scientist",
         "2017-10-30",
         "East Scott, Mauritius",
         "5",
         "7",
         "Retired",
         "On-site",
         "789283"
        ],
        [
         "23",
         "23",
         "EMP0000024",
         "Allen Palmer",
         "Finance",
         "Accountant",
         "2022-05-17",
         "Lake Brittney, Albania",
         "4",
         "3",
         "Resigned",
         "Remote",
         "577616"
        ],
        [
         "24",
         "24",
         "EMP0000025",
         "Amanda Miller",
         "IT",
         "IT Manager",
         "2021-07-31",
         "Tammyview, Barbados",
         "2",
         "4",
         "Active",
         "Remote",
         "2153098"
        ],
        [
         "25",
         "25",
         "EMP0000026",
         "Craig Kelly",
         "IT",
         "Software Engineer",
         "2025-01-15",
         "Martinmouth, Switzerland",
         "1",
         "0",
         "Resigned",
         "Remote",
         "1201087"
        ],
        [
         "26",
         "26",
         "EMP0000027",
         "Daniel Hernandez",
         "Sales",
         "Sales Executive",
         "2019-09-12",
         "Port Jacob, Falkland Islands (Malvinas)",
         "3",
         "5",
         "Active",
         "On-site",
         "742262"
        ],
        [
         "27",
         "27",
         "EMP0000028",
         "James Young",
         "Marketing",
         "Marketing Executive",
         "2020-11-17",
         "Limouth, Saint Vincent and the Grenadines",
         "2",
         "4",
         "Active",
         "Remote",
         "670863"
        ],
        [
         "28",
         "28",
         "EMP0000029",
         "Steven Castillo",
         "Operations",
         "Supply Chain Manager",
         "2023-08-04",
         "Troyberg, Guadeloupe",
         "2",
         "2",
         "Active",
         "On-site",
         "969155"
        ],
        [
         "29",
         "29",
         "EMP0000030",
         "Kimberly Russo",
         "Finance",
         "Finance Manager",
         "2021-08-15",
         "New Hollyhaven, Vietnam",
         "4",
         "4",
         "Active",
         "Remote",
         "1508236"
        ],
        [
         "30",
         "30",
         "EMP0000031",
         "Nathan Smith",
         "IT",
         "Software Engineer",
         "2019-02-13",
         "Anthonyburgh, Bahamas",
         "4",
         "6",
         "Active",
         "On-site",
         "1076433"
        ],
        [
         "31",
         "31",
         "EMP0000032",
         "Jeffery Chapman",
         "Sales",
         "Account Manager",
         "2020-10-21",
         "New Tyler, Kazakhstan",
         "4",
         "4",
         "Active",
         "On-site",
         "512557"
        ],
        [
         "32",
         "32",
         "EMP0000033",
         "Cristian Thomas",
         "IT",
         "IT Manager",
         "2021-02-14",
         "North Markbury, San Marino",
         "3",
         "4",
         "Active",
         "Remote",
         "2408177"
        ],
        [
         "33",
         "33",
         "EMP0000034",
         "Steve Carlson",
         "IT",
         "Software Engineer",
         "2020-04-25",
         "Grahamfurt, Jamaica",
         "5",
         "5",
         "Terminated",
         "On-site",
         "1039192"
        ],
        [
         "34",
         "34",
         "EMP0000035",
         "Kathleen Shields",
         "IT",
         "IT Manager",
         "2023-07-26",
         "North Brianmouth, Zambia",
         "1",
         "2",
         "Retired",
         "On-site",
         "2615626"
        ],
        [
         "35",
         "35",
         "EMP0000036",
         "Amanda Mooney",
         "IT",
         "Data Analyst",
         "2024-04-05",
         "Colehaven, Singapore",
         "4",
         "1",
         "Active",
         "Remote",
         "511161"
        ],
        [
         "36",
         "36",
         "EMP0000037",
         "Jennifer Conway",
         "Marketing",
         "SEO Specialist",
         "2024-12-11",
         "South Madison, Nigeria",
         "4",
         "0",
         "Active",
         "Remote",
         "814964"
        ],
        [
         "37",
         "37",
         "EMP0000038",
         "Doris Lambert",
         "HR",
         "Talent Acquisition Specialist",
         "2019-03-14",
         "Ayalafurt, Estonia",
         "1",
         "6",
         "Active",
         "On-site",
         "892414"
        ],
        [
         "38",
         "38",
         "EMP0000039",
         "Jeffrey Lucas",
         "IT",
         "Software Engineer",
         "2021-10-20",
         "Thompsonport, Paraguay",
         "1",
         "3",
         "Active",
         "On-site",
         "1054801"
        ],
        [
         "39",
         "39",
         "EMP0000040",
         "Emily Hudson",
         "Finance",
         "Finance Manager",
         "2021-05-25",
         "Ortizbury, Senegal",
         "2",
         "4",
         "Resigned",
         "Remote",
         "1448066"
        ],
        [
         "40",
         "40",
         "EMP0000041",
         "Vanessa Rodriguez",
         "Sales",
         "Sales Executive",
         "2011-01-29",
         "West Paula, Nepal",
         "2",
         "14",
         "Active",
         "Remote",
         "865319"
        ],
        [
         "41",
         "41",
         "EMP0000042",
         "Justin Hendricks",
         "IT",
         "Software Engineer",
         "2015-12-31",
         "Laurafort, Bahrain",
         "1",
         "9",
         "Active",
         "On-site",
         "746812"
        ],
        [
         "42",
         "42",
         "EMP0000043",
         "John Daniels",
         "Marketing",
         "Marketing Executive",
         "2019-03-25",
         "East Charles, Qatar",
         "4",
         "6",
         "Resigned",
         "On-site",
         "671963"
        ],
        [
         "43",
         "43",
         "EMP0000044",
         "Sandra Wolf",
         "R&D",
         "Product Developer",
         "2025-02-22",
         "Lake Jennifer, United States Minor Outlying Islands",
         "3",
         "0",
         "Active",
         "On-site",
         "1033879"
        ],
        [
         "44",
         "44",
         "EMP0000045",
         "Annette Mcdowell",
         "Sales",
         "Sales Executive",
         "2017-12-08",
         "Lake Heather, Dominica",
         "4",
         "7",
         "Resigned",
         "On-site",
         "845092"
        ],
        [
         "45",
         "45",
         "EMP0000046",
         "James Miller",
         "Marketing",
         "SEO Specialist",
         "2022-03-24",
         "Melissafurt, Brunei Darussalam",
         "5",
         "3",
         "Active",
         "Remote",
         "768681"
        ],
        [
         "46",
         "46",
         "EMP0000047",
         "Donna Estes",
         "Operations",
         "Operations Director",
         "2011-06-15",
         "East Tina, China",
         "2",
         "14",
         "Active",
         "On-site",
         "982133"
        ],
        [
         "47",
         "47",
         "EMP0000048",
         "Tom Mills",
         "HR",
         "HR Executive",
         "2024-01-31",
         "Johnsonside, Ghana",
         "1",
         "1",
         "Active",
         "Remote",
         "565467"
        ],
        [
         "48",
         "48",
         "EMP0000049",
         "Chad Newton",
         "IT",
         "DevOps Engineer",
         "2015-10-15",
         "South Jerryhaven, Mongolia",
         "3",
         "9",
         "Resigned",
         "Remote",
         "709525"
        ],
        [
         "49",
         "49",
         "EMP0000050",
         "Gary Charles",
         "Operations",
         "Supply Chain Manager",
         "2024-09-25",
         "Navarroberg, Switzerland",
         "1",
         "0",
         "Active",
         "On-site",
         "459800"
        ]
       ],
       "shape": {
        "columns": 12,
        "rows": 2000000
       }
      },
      "text/html": [
       "<div>\n",
       "<style scoped>\n",
       "    .dataframe tbody tr th:only-of-type {\n",
       "        vertical-align: middle;\n",
       "    }\n",
       "\n",
       "    .dataframe tbody tr th {\n",
       "        vertical-align: top;\n",
       "    }\n",
       "\n",
       "    .dataframe thead th {\n",
       "        text-align: right;\n",
       "    }\n",
       "</style>\n",
       "<table border=\"1\" class=\"dataframe\">\n",
       "  <thead>\n",
       "    <tr style=\"text-align: right;\">\n",
       "      <th></th>\n",
       "      <th>Unnamed: 0</th>\n",
       "      <th>Employee_ID</th>\n",
       "      <th>Full_Name</th>\n",
       "      <th>Department</th>\n",
       "      <th>Job_Title</th>\n",
       "      <th>Hire_Date</th>\n",
       "      <th>Location</th>\n",
       "      <th>Performance_Rating</th>\n",
       "      <th>Experience_Years</th>\n",
       "      <th>Status</th>\n",
       "      <th>Work_Mode</th>\n",
       "      <th>Salary_INR</th>\n",
       "    </tr>\n",
       "  </thead>\n",
       "  <tbody>\n",
       "    <tr>\n",
       "      <th>0</th>\n",
       "      <td>0</td>\n",
       "      <td>EMP0000001</td>\n",
       "      <td>Joshua Nguyen</td>\n",
       "      <td>IT</td>\n",
       "      <td>Software Engineer</td>\n",
       "      <td>2011-08-10</td>\n",
       "      <td>Isaacland, Denmark</td>\n",
       "      <td>5</td>\n",
       "      <td>14</td>\n",
       "      <td>Resigned</td>\n",
       "      <td>On-site</td>\n",
       "      <td>1585363</td>\n",
       "    </tr>\n",
       "    <tr>\n",
       "      <th>1</th>\n",
       "      <td>1</td>\n",
       "      <td>EMP0000002</td>\n",
       "      <td>Julie Williams</td>\n",
       "      <td>Marketing</td>\n",
       "      <td>SEO Specialist</td>\n",
       "      <td>2018-03-02</td>\n",
       "      <td>Anthonyside, Costa Rica</td>\n",
       "      <td>2</td>\n",
       "      <td>7</td>\n",
       "      <td>Active</td>\n",
       "      <td>On-site</td>\n",
       "      <td>847686</td>\n",
       "    </tr>\n",
       "    <tr>\n",
       "      <th>2</th>\n",
       "      <td>2</td>\n",
       "      <td>EMP0000003</td>\n",
       "      <td>Alyssa Martinez</td>\n",
       "      <td>HR</td>\n",
       "      <td>HR Manager</td>\n",
       "      <td>2023-03-20</td>\n",
       "      <td>Port Christinaport, Saudi Arabia</td>\n",
       "      <td>1</td>\n",
       "      <td>2</td>\n",
       "      <td>Active</td>\n",
       "      <td>On-site</td>\n",
       "      <td>1430084</td>\n",
       "    </tr>\n",
       "    <tr>\n",
       "      <th>3</th>\n",
       "      <td>3</td>\n",
       "      <td>EMP0000004</td>\n",
       "      <td>Nicholas Valdez</td>\n",
       "      <td>IT</td>\n",
       "      <td>Software Engineer</td>\n",
       "      <td>2023-10-12</td>\n",
       "      <td>Port Shelbychester, Antigua and Barbuda</td>\n",
       "      <td>1</td>\n",
       "      <td>1</td>\n",
       "      <td>Active</td>\n",
       "      <td>On-site</td>\n",
       "      <td>990689</td>\n",
       "    </tr>\n",
       "    <tr>\n",
       "      <th>4</th>\n",
       "      <td>4</td>\n",
       "      <td>EMP0000005</td>\n",
       "      <td>Joel Hendricks</td>\n",
       "      <td>Operations</td>\n",
       "      <td>Logistics Coordinator</td>\n",
       "      <td>2024-12-09</td>\n",
       "      <td>Lake Kimberly, Palestinian Territory</td>\n",
       "      <td>5</td>\n",
       "      <td>0</td>\n",
       "      <td>Active</td>\n",
       "      <td>On-site</td>\n",
       "      <td>535082</td>\n",
       "    </tr>\n",
       "    <tr>\n",
       "      <th>...</th>\n",
       "      <td>...</td>\n",
       "      <td>...</td>\n",
       "      <td>...</td>\n",
       "      <td>...</td>\n",
       "      <td>...</td>\n",
       "      <td>...</td>\n",
       "      <td>...</td>\n",
       "      <td>...</td>\n",
       "      <td>...</td>\n",
       "      <td>...</td>\n",
       "      <td>...</td>\n",
       "      <td>...</td>\n",
       "    </tr>\n",
       "    <tr>\n",
       "      <th>1999995</th>\n",
       "      <td>1999995</td>\n",
       "      <td>EMP1999996</td>\n",
       "      <td>Cody Russell</td>\n",
       "      <td>Operations</td>\n",
       "      <td>Logistics Coordinator</td>\n",
       "      <td>2010-08-31</td>\n",
       "      <td>Casefurt, Serbia</td>\n",
       "      <td>3</td>\n",
       "      <td>14</td>\n",
       "      <td>Active</td>\n",
       "      <td>Remote</td>\n",
       "      <td>657648</td>\n",
       "    </tr>\n",
       "    <tr>\n",
       "      <th>1999996</th>\n",
       "      <td>1999996</td>\n",
       "      <td>EMP1999997</td>\n",
       "      <td>Tracey Smith</td>\n",
       "      <td>IT</td>\n",
       "      <td>Software Engineer</td>\n",
       "      <td>2021-05-07</td>\n",
       "      <td>Dannyport, Kuwait</td>\n",
       "      <td>3</td>\n",
       "      <td>4</td>\n",
       "      <td>Active</td>\n",
       "      <td>On-site</td>\n",
       "      <td>1030109</td>\n",
       "    </tr>\n",
       "    <tr>\n",
       "      <th>1999997</th>\n",
       "      <td>1999997</td>\n",
       "      <td>EMP1999998</td>\n",
       "      <td>Tracy Lee</td>\n",
       "      <td>Sales</td>\n",
       "      <td>Business Development Manager</td>\n",
       "      <td>2024-05-29</td>\n",
       "      <td>Craighaven, Nigeria</td>\n",
       "      <td>5</td>\n",
       "      <td>1</td>\n",
       "      <td>Active</td>\n",
       "      <td>Remote</td>\n",
       "      <td>1313085</td>\n",
       "    </tr>\n",
       "    <tr>\n",
       "      <th>1999998</th>\n",
       "      <td>1999998</td>\n",
       "      <td>EMP1999999</td>\n",
       "      <td>Michael Roberson</td>\n",
       "      <td>IT</td>\n",
       "      <td>Software Engineer</td>\n",
       "      <td>2023-02-14</td>\n",
       "      <td>Jonathanmouth, Djibouti</td>\n",
       "      <td>4</td>\n",
       "      <td>2</td>\n",
       "      <td>Retired</td>\n",
       "      <td>On-site</td>\n",
       "      <td>1479727</td>\n",
       "    </tr>\n",
       "    <tr>\n",
       "      <th>1999999</th>\n",
       "      <td>1999999</td>\n",
       "      <td>EMP2000000</td>\n",
       "      <td>Angela Lambert</td>\n",
       "      <td>HR</td>\n",
       "      <td>Talent Acquisition Specialist</td>\n",
       "      <td>2020-11-11</td>\n",
       "      <td>Morganchester, Canada</td>\n",
       "      <td>1</td>\n",
       "      <td>4</td>\n",
       "      <td>Active</td>\n",
       "      <td>Remote</td>\n",
       "      <td>993718</td>\n",
       "    </tr>\n",
       "  </tbody>\n",
       "</table>\n",
       "<p>2000000 rows × 12 columns</p>\n",
       "</div>"
      ],
      "text/plain": [
       "         Unnamed: 0 Employee_ID         Full_Name  Department  \\\n",
       "0                 0  EMP0000001     Joshua Nguyen          IT   \n",
       "1                 1  EMP0000002    Julie Williams   Marketing   \n",
       "2                 2  EMP0000003   Alyssa Martinez          HR   \n",
       "3                 3  EMP0000004   Nicholas Valdez          IT   \n",
       "4                 4  EMP0000005    Joel Hendricks  Operations   \n",
       "...             ...         ...               ...         ...   \n",
       "1999995     1999995  EMP1999996      Cody Russell  Operations   \n",
       "1999996     1999996  EMP1999997      Tracey Smith          IT   \n",
       "1999997     1999997  EMP1999998         Tracy Lee       Sales   \n",
       "1999998     1999998  EMP1999999  Michael Roberson          IT   \n",
       "1999999     1999999  EMP2000000    Angela Lambert          HR   \n",
       "\n",
       "                             Job_Title   Hire_Date  \\\n",
       "0                    Software Engineer  2011-08-10   \n",
       "1                       SEO Specialist  2018-03-02   \n",
       "2                           HR Manager  2023-03-20   \n",
       "3                    Software Engineer  2023-10-12   \n",
       "4                Logistics Coordinator  2024-12-09   \n",
       "...                                ...         ...   \n",
       "1999995          Logistics Coordinator  2010-08-31   \n",
       "1999996              Software Engineer  2021-05-07   \n",
       "1999997   Business Development Manager  2024-05-29   \n",
       "1999998              Software Engineer  2023-02-14   \n",
       "1999999  Talent Acquisition Specialist  2020-11-11   \n",
       "\n",
       "                                        Location  Performance_Rating  \\\n",
       "0                             Isaacland, Denmark                   5   \n",
       "1                        Anthonyside, Costa Rica                   2   \n",
       "2               Port Christinaport, Saudi Arabia                   1   \n",
       "3        Port Shelbychester, Antigua and Barbuda                   1   \n",
       "4           Lake Kimberly, Palestinian Territory                   5   \n",
       "...                                          ...                 ...   \n",
       "1999995                         Casefurt, Serbia                   3   \n",
       "1999996                        Dannyport, Kuwait                   3   \n",
       "1999997                      Craighaven, Nigeria                   5   \n",
       "1999998                  Jonathanmouth, Djibouti                   4   \n",
       "1999999                    Morganchester, Canada                   1   \n",
       "\n",
       "         Experience_Years    Status Work_Mode  Salary_INR  \n",
       "0                      14  Resigned   On-site     1585363  \n",
       "1                       7    Active   On-site      847686  \n",
       "2                       2    Active   On-site     1430084  \n",
       "3                       1    Active   On-site      990689  \n",
       "4                       0    Active   On-site      535082  \n",
       "...                   ...       ...       ...         ...  \n",
       "1999995                14    Active    Remote      657648  \n",
       "1999996                 4    Active   On-site     1030109  \n",
       "1999997                 1    Active    Remote     1313085  \n",
       "1999998                 2   Retired   On-site     1479727  \n",
       "1999999                 4    Active    Remote      993718  \n",
       "\n",
       "[2000000 rows x 12 columns]"
      ]
     },
     "execution_count": 5,
     "metadata": {},
     "output_type": "execute_result"
    }
   ],
   "source": [
    "df = pd.read_csv(\"HR_Data_MNC_Data Science Lovers.csv\")\n",
    "df"
   ]
  },
  {
   "cell_type": "markdown",
   "id": "d2f65e04",
   "metadata": {},
   "source": [
    "### Explore and Check The Data"
   ]
  },
  {
   "cell_type": "code",
   "execution_count": null,
   "id": "b722fa4f",
   "metadata": {},
   "outputs": [
    {
     "data": {
      "application/vnd.microsoft.datawrangler.viewer.v0+json": {
       "columns": [
        {
         "name": "index",
         "rawType": "int64",
         "type": "integer"
        },
        {
         "name": "Unnamed: 0",
         "rawType": "int64",
         "type": "integer"
        },
        {
         "name": "Employee_ID",
         "rawType": "object",
         "type": "string"
        },
        {
         "name": "Full_Name",
         "rawType": "object",
         "type": "string"
        },
        {
         "name": "Department",
         "rawType": "object",
         "type": "string"
        },
        {
         "name": "Job_Title",
         "rawType": "object",
         "type": "string"
        },
        {
         "name": "Hire_Date",
         "rawType": "object",
         "type": "string"
        },
        {
         "name": "Location",
         "rawType": "object",
         "type": "string"
        },
        {
         "name": "Performance_Rating",
         "rawType": "int64",
         "type": "integer"
        },
        {
         "name": "Experience_Years",
         "rawType": "int64",
         "type": "integer"
        },
        {
         "name": "Status",
         "rawType": "object",
         "type": "string"
        },
        {
         "name": "Work_Mode",
         "rawType": "object",
         "type": "string"
        },
        {
         "name": "Salary_INR",
         "rawType": "int64",
         "type": "integer"
        }
       ],
       "ref": "2d45abe2-428f-49d0-8748-120630b51f75",
       "rows": [
        [
         "0",
         "0",
         "EMP0000001",
         "Joshua Nguyen",
         "IT",
         "Software Engineer",
         "2011-08-10",
         "Isaacland, Denmark",
         "5",
         "14",
         "Resigned",
         "On-site",
         "1585363"
        ],
        [
         "1",
         "1",
         "EMP0000002",
         "Julie Williams",
         "Marketing",
         "SEO Specialist",
         "2018-03-02",
         "Anthonyside, Costa Rica",
         "2",
         "7",
         "Active",
         "On-site",
         "847686"
        ],
        [
         "2",
         "2",
         "EMP0000003",
         "Alyssa Martinez",
         "HR",
         "HR Manager",
         "2023-03-20",
         "Port Christinaport, Saudi Arabia",
         "1",
         "2",
         "Active",
         "On-site",
         "1430084"
        ],
        [
         "3",
         "3",
         "EMP0000004",
         "Nicholas Valdez",
         "IT",
         "Software Engineer",
         "2023-10-12",
         "Port Shelbychester, Antigua and Barbuda",
         "1",
         "1",
         "Active",
         "On-site",
         "990689"
        ],
        [
         "4",
         "4",
         "EMP0000005",
         "Joel Hendricks",
         "Operations",
         "Logistics Coordinator",
         "2024-12-09",
         "Lake Kimberly, Palestinian Territory",
         "5",
         "0",
         "Active",
         "On-site",
         "535082"
        ]
       ],
       "shape": {
        "columns": 12,
        "rows": 5
       }
      },
      "text/html": [
       "<div>\n",
       "<style scoped>\n",
       "    .dataframe tbody tr th:only-of-type {\n",
       "        vertical-align: middle;\n",
       "    }\n",
       "\n",
       "    .dataframe tbody tr th {\n",
       "        vertical-align: top;\n",
       "    }\n",
       "\n",
       "    .dataframe thead th {\n",
       "        text-align: right;\n",
       "    }\n",
       "</style>\n",
       "<table border=\"1\" class=\"dataframe\">\n",
       "  <thead>\n",
       "    <tr style=\"text-align: right;\">\n",
       "      <th></th>\n",
       "      <th>Unnamed: 0</th>\n",
       "      <th>Employee_ID</th>\n",
       "      <th>Full_Name</th>\n",
       "      <th>Department</th>\n",
       "      <th>Job_Title</th>\n",
       "      <th>Hire_Date</th>\n",
       "      <th>Location</th>\n",
       "      <th>Performance_Rating</th>\n",
       "      <th>Experience_Years</th>\n",
       "      <th>Status</th>\n",
       "      <th>Work_Mode</th>\n",
       "      <th>Salary_INR</th>\n",
       "    </tr>\n",
       "  </thead>\n",
       "  <tbody>\n",
       "    <tr>\n",
       "      <th>0</th>\n",
       "      <td>0</td>\n",
       "      <td>EMP0000001</td>\n",
       "      <td>Joshua Nguyen</td>\n",
       "      <td>IT</td>\n",
       "      <td>Software Engineer</td>\n",
       "      <td>2011-08-10</td>\n",
       "      <td>Isaacland, Denmark</td>\n",
       "      <td>5</td>\n",
       "      <td>14</td>\n",
       "      <td>Resigned</td>\n",
       "      <td>On-site</td>\n",
       "      <td>1585363</td>\n",
       "    </tr>\n",
       "    <tr>\n",
       "      <th>1</th>\n",
       "      <td>1</td>\n",
       "      <td>EMP0000002</td>\n",
       "      <td>Julie Williams</td>\n",
       "      <td>Marketing</td>\n",
       "      <td>SEO Specialist</td>\n",
       "      <td>2018-03-02</td>\n",
       "      <td>Anthonyside, Costa Rica</td>\n",
       "      <td>2</td>\n",
       "      <td>7</td>\n",
       "      <td>Active</td>\n",
       "      <td>On-site</td>\n",
       "      <td>847686</td>\n",
       "    </tr>\n",
       "    <tr>\n",
       "      <th>2</th>\n",
       "      <td>2</td>\n",
       "      <td>EMP0000003</td>\n",
       "      <td>Alyssa Martinez</td>\n",
       "      <td>HR</td>\n",
       "      <td>HR Manager</td>\n",
       "      <td>2023-03-20</td>\n",
       "      <td>Port Christinaport, Saudi Arabia</td>\n",
       "      <td>1</td>\n",
       "      <td>2</td>\n",
       "      <td>Active</td>\n",
       "      <td>On-site</td>\n",
       "      <td>1430084</td>\n",
       "    </tr>\n",
       "    <tr>\n",
       "      <th>3</th>\n",
       "      <td>3</td>\n",
       "      <td>EMP0000004</td>\n",
       "      <td>Nicholas Valdez</td>\n",
       "      <td>IT</td>\n",
       "      <td>Software Engineer</td>\n",
       "      <td>2023-10-12</td>\n",
       "      <td>Port Shelbychester, Antigua and Barbuda</td>\n",
       "      <td>1</td>\n",
       "      <td>1</td>\n",
       "      <td>Active</td>\n",
       "      <td>On-site</td>\n",
       "      <td>990689</td>\n",
       "    </tr>\n",
       "    <tr>\n",
       "      <th>4</th>\n",
       "      <td>4</td>\n",
       "      <td>EMP0000005</td>\n",
       "      <td>Joel Hendricks</td>\n",
       "      <td>Operations</td>\n",
       "      <td>Logistics Coordinator</td>\n",
       "      <td>2024-12-09</td>\n",
       "      <td>Lake Kimberly, Palestinian Territory</td>\n",
       "      <td>5</td>\n",
       "      <td>0</td>\n",
       "      <td>Active</td>\n",
       "      <td>On-site</td>\n",
       "      <td>535082</td>\n",
       "    </tr>\n",
       "  </tbody>\n",
       "</table>\n",
       "</div>"
      ],
      "text/plain": [
       "   Unnamed: 0 Employee_ID        Full_Name  Department              Job_Title  \\\n",
       "0           0  EMP0000001    Joshua Nguyen          IT      Software Engineer   \n",
       "1           1  EMP0000002   Julie Williams   Marketing         SEO Specialist   \n",
       "2           2  EMP0000003  Alyssa Martinez          HR             HR Manager   \n",
       "3           3  EMP0000004  Nicholas Valdez          IT      Software Engineer   \n",
       "4           4  EMP0000005   Joel Hendricks  Operations  Logistics Coordinator   \n",
       "\n",
       "    Hire_Date                                 Location  Performance_Rating  \\\n",
       "0  2011-08-10                       Isaacland, Denmark                   5   \n",
       "1  2018-03-02                  Anthonyside, Costa Rica                   2   \n",
       "2  2023-03-20         Port Christinaport, Saudi Arabia                   1   \n",
       "3  2023-10-12  Port Shelbychester, Antigua and Barbuda                   1   \n",
       "4  2024-12-09     Lake Kimberly, Palestinian Territory                   5   \n",
       "\n",
       "   Experience_Years    Status Work_Mode  Salary_INR  \n",
       "0                14  Resigned   On-site     1585363  \n",
       "1                 7    Active   On-site      847686  \n",
       "2                 2    Active   On-site     1430084  \n",
       "3                 1    Active   On-site      990689  \n",
       "4                 0    Active   On-site      535082  "
      ]
     },
     "execution_count": 26,
     "metadata": {},
     "output_type": "execute_result"
    }
   ],
   "source": [
    "df.head()"
   ]
  },
  {
   "cell_type": "code",
   "execution_count": null,
   "id": "8773e6df",
   "metadata": {},
   "outputs": [
    {
     "data": {
      "application/vnd.microsoft.datawrangler.viewer.v0+json": {
       "columns": [
        {
         "name": "index",
         "rawType": "object",
         "type": "string"
        },
        {
         "name": "Unnamed: 0",
         "rawType": "float64",
         "type": "float"
        },
        {
         "name": "Performance_Rating",
         "rawType": "float64",
         "type": "float"
        },
        {
         "name": "Experience_Years",
         "rawType": "float64",
         "type": "float"
        },
        {
         "name": "Salary_INR",
         "rawType": "float64",
         "type": "float"
        }
       ],
       "ref": "36714f7f-2a3c-4ce1-8920-20204a2b3c54",
       "rows": [
        [
         "count",
         "2000000.0",
         "2000000.0",
         "2000000.0",
         "2000000.0"
        ],
        [
         "mean",
         "999999.5",
         "3.0001485",
         "5.010287",
         "896887.7556635"
        ],
        [
         "std",
         "577350.413527175",
         "1.4139725872897915",
         "3.608823033820424",
         "402610.3044377476"
        ],
        [
         "min",
         "0.0",
         "1.0",
         "0.0",
         "300000.0"
        ],
        [
         "25%",
         "499999.75",
         "2.0",
         "2.0",
         "616346.0"
        ],
        [
         "50%",
         "999999.5",
         "3.0",
         "5.0",
         "811026.5"
        ],
        [
         "75%",
         "1499999.25",
         "4.0",
         "8.0",
         "1073745.25"
        ],
        [
         "max",
         "1999999.0",
         "5.0",
         "15.0",
         "2999976.0"
        ]
       ],
       "shape": {
        "columns": 4,
        "rows": 8
       }
      },
      "text/html": [
       "<div>\n",
       "<style scoped>\n",
       "    .dataframe tbody tr th:only-of-type {\n",
       "        vertical-align: middle;\n",
       "    }\n",
       "\n",
       "    .dataframe tbody tr th {\n",
       "        vertical-align: top;\n",
       "    }\n",
       "\n",
       "    .dataframe thead th {\n",
       "        text-align: right;\n",
       "    }\n",
       "</style>\n",
       "<table border=\"1\" class=\"dataframe\">\n",
       "  <thead>\n",
       "    <tr style=\"text-align: right;\">\n",
       "      <th></th>\n",
       "      <th>Unnamed: 0</th>\n",
       "      <th>Performance_Rating</th>\n",
       "      <th>Experience_Years</th>\n",
       "      <th>Salary_INR</th>\n",
       "    </tr>\n",
       "  </thead>\n",
       "  <tbody>\n",
       "    <tr>\n",
       "      <th>count</th>\n",
       "      <td>2.000000e+06</td>\n",
       "      <td>2.000000e+06</td>\n",
       "      <td>2.000000e+06</td>\n",
       "      <td>2.000000e+06</td>\n",
       "    </tr>\n",
       "    <tr>\n",
       "      <th>mean</th>\n",
       "      <td>9.999995e+05</td>\n",
       "      <td>3.000148e+00</td>\n",
       "      <td>5.010287e+00</td>\n",
       "      <td>8.968878e+05</td>\n",
       "    </tr>\n",
       "    <tr>\n",
       "      <th>std</th>\n",
       "      <td>5.773504e+05</td>\n",
       "      <td>1.413973e+00</td>\n",
       "      <td>3.608823e+00</td>\n",
       "      <td>4.026103e+05</td>\n",
       "    </tr>\n",
       "    <tr>\n",
       "      <th>min</th>\n",
       "      <td>0.000000e+00</td>\n",
       "      <td>1.000000e+00</td>\n",
       "      <td>0.000000e+00</td>\n",
       "      <td>3.000000e+05</td>\n",
       "    </tr>\n",
       "    <tr>\n",
       "      <th>25%</th>\n",
       "      <td>4.999998e+05</td>\n",
       "      <td>2.000000e+00</td>\n",
       "      <td>2.000000e+00</td>\n",
       "      <td>6.163460e+05</td>\n",
       "    </tr>\n",
       "    <tr>\n",
       "      <th>50%</th>\n",
       "      <td>9.999995e+05</td>\n",
       "      <td>3.000000e+00</td>\n",
       "      <td>5.000000e+00</td>\n",
       "      <td>8.110265e+05</td>\n",
       "    </tr>\n",
       "    <tr>\n",
       "      <th>75%</th>\n",
       "      <td>1.499999e+06</td>\n",
       "      <td>4.000000e+00</td>\n",
       "      <td>8.000000e+00</td>\n",
       "      <td>1.073745e+06</td>\n",
       "    </tr>\n",
       "    <tr>\n",
       "      <th>max</th>\n",
       "      <td>1.999999e+06</td>\n",
       "      <td>5.000000e+00</td>\n",
       "      <td>1.500000e+01</td>\n",
       "      <td>2.999976e+06</td>\n",
       "    </tr>\n",
       "  </tbody>\n",
       "</table>\n",
       "</div>"
      ],
      "text/plain": [
       "         Unnamed: 0  Performance_Rating  Experience_Years    Salary_INR\n",
       "count  2.000000e+06        2.000000e+06      2.000000e+06  2.000000e+06\n",
       "mean   9.999995e+05        3.000148e+00      5.010287e+00  8.968878e+05\n",
       "std    5.773504e+05        1.413973e+00      3.608823e+00  4.026103e+05\n",
       "min    0.000000e+00        1.000000e+00      0.000000e+00  3.000000e+05\n",
       "25%    4.999998e+05        2.000000e+00      2.000000e+00  6.163460e+05\n",
       "50%    9.999995e+05        3.000000e+00      5.000000e+00  8.110265e+05\n",
       "75%    1.499999e+06        4.000000e+00      8.000000e+00  1.073745e+06\n",
       "max    1.999999e+06        5.000000e+00      1.500000e+01  2.999976e+06"
      ]
     },
     "execution_count": 25,
     "metadata": {},
     "output_type": "execute_result"
    }
   ],
   "source": [
    "df.describe()"
   ]
  },
  {
   "cell_type": "code",
   "execution_count": null,
   "id": "d11f119f",
   "metadata": {},
   "outputs": [
    {
     "data": {
      "application/vnd.microsoft.datawrangler.viewer.v0+json": {
       "columns": [
        {
         "name": "index",
         "rawType": "int64",
         "type": "integer"
        },
        {
         "name": "Unnamed: 0",
         "rawType": "int64",
         "type": "integer"
        },
        {
         "name": "Employee_ID",
         "rawType": "object",
         "type": "string"
        },
        {
         "name": "Full_Name",
         "rawType": "object",
         "type": "string"
        },
        {
         "name": "Department",
         "rawType": "object",
         "type": "string"
        },
        {
         "name": "Job_Title",
         "rawType": "object",
         "type": "string"
        },
        {
         "name": "Hire_Date",
         "rawType": "object",
         "type": "string"
        },
        {
         "name": "Location",
         "rawType": "object",
         "type": "string"
        },
        {
         "name": "Performance_Rating",
         "rawType": "int64",
         "type": "integer"
        },
        {
         "name": "Experience_Years",
         "rawType": "int64",
         "type": "integer"
        },
        {
         "name": "Status",
         "rawType": "object",
         "type": "string"
        },
        {
         "name": "Work_Mode",
         "rawType": "object",
         "type": "string"
        },
        {
         "name": "Salary_INR",
         "rawType": "int64",
         "type": "integer"
        }
       ],
       "ref": "bc1aed06-da6c-443a-8d73-fd1543253e93",
       "rows": [
        [
         "1999995",
         "1999995",
         "EMP1999996",
         "Cody Russell",
         "Operations",
         "Logistics Coordinator",
         "2010-08-31",
         "Casefurt, Serbia",
         "3",
         "14",
         "Active",
         "Remote",
         "657648"
        ],
        [
         "1999996",
         "1999996",
         "EMP1999997",
         "Tracey Smith",
         "IT",
         "Software Engineer",
         "2021-05-07",
         "Dannyport, Kuwait",
         "3",
         "4",
         "Active",
         "On-site",
         "1030109"
        ],
        [
         "1999997",
         "1999997",
         "EMP1999998",
         "Tracy Lee",
         "Sales",
         "Business Development Manager",
         "2024-05-29",
         "Craighaven, Nigeria",
         "5",
         "1",
         "Active",
         "Remote",
         "1313085"
        ],
        [
         "1999998",
         "1999998",
         "EMP1999999",
         "Michael Roberson",
         "IT",
         "Software Engineer",
         "2023-02-14",
         "Jonathanmouth, Djibouti",
         "4",
         "2",
         "Retired",
         "On-site",
         "1479727"
        ],
        [
         "1999999",
         "1999999",
         "EMP2000000",
         "Angela Lambert",
         "HR",
         "Talent Acquisition Specialist",
         "2020-11-11",
         "Morganchester, Canada",
         "1",
         "4",
         "Active",
         "Remote",
         "993718"
        ]
       ],
       "shape": {
        "columns": 12,
        "rows": 5
       }
      },
      "text/html": [
       "<div>\n",
       "<style scoped>\n",
       "    .dataframe tbody tr th:only-of-type {\n",
       "        vertical-align: middle;\n",
       "    }\n",
       "\n",
       "    .dataframe tbody tr th {\n",
       "        vertical-align: top;\n",
       "    }\n",
       "\n",
       "    .dataframe thead th {\n",
       "        text-align: right;\n",
       "    }\n",
       "</style>\n",
       "<table border=\"1\" class=\"dataframe\">\n",
       "  <thead>\n",
       "    <tr style=\"text-align: right;\">\n",
       "      <th></th>\n",
       "      <th>Unnamed: 0</th>\n",
       "      <th>Employee_ID</th>\n",
       "      <th>Full_Name</th>\n",
       "      <th>Department</th>\n",
       "      <th>Job_Title</th>\n",
       "      <th>Hire_Date</th>\n",
       "      <th>Location</th>\n",
       "      <th>Performance_Rating</th>\n",
       "      <th>Experience_Years</th>\n",
       "      <th>Status</th>\n",
       "      <th>Work_Mode</th>\n",
       "      <th>Salary_INR</th>\n",
       "    </tr>\n",
       "  </thead>\n",
       "  <tbody>\n",
       "    <tr>\n",
       "      <th>1999995</th>\n",
       "      <td>1999995</td>\n",
       "      <td>EMP1999996</td>\n",
       "      <td>Cody Russell</td>\n",
       "      <td>Operations</td>\n",
       "      <td>Logistics Coordinator</td>\n",
       "      <td>2010-08-31</td>\n",
       "      <td>Casefurt, Serbia</td>\n",
       "      <td>3</td>\n",
       "      <td>14</td>\n",
       "      <td>Active</td>\n",
       "      <td>Remote</td>\n",
       "      <td>657648</td>\n",
       "    </tr>\n",
       "    <tr>\n",
       "      <th>1999996</th>\n",
       "      <td>1999996</td>\n",
       "      <td>EMP1999997</td>\n",
       "      <td>Tracey Smith</td>\n",
       "      <td>IT</td>\n",
       "      <td>Software Engineer</td>\n",
       "      <td>2021-05-07</td>\n",
       "      <td>Dannyport, Kuwait</td>\n",
       "      <td>3</td>\n",
       "      <td>4</td>\n",
       "      <td>Active</td>\n",
       "      <td>On-site</td>\n",
       "      <td>1030109</td>\n",
       "    </tr>\n",
       "    <tr>\n",
       "      <th>1999997</th>\n",
       "      <td>1999997</td>\n",
       "      <td>EMP1999998</td>\n",
       "      <td>Tracy Lee</td>\n",
       "      <td>Sales</td>\n",
       "      <td>Business Development Manager</td>\n",
       "      <td>2024-05-29</td>\n",
       "      <td>Craighaven, Nigeria</td>\n",
       "      <td>5</td>\n",
       "      <td>1</td>\n",
       "      <td>Active</td>\n",
       "      <td>Remote</td>\n",
       "      <td>1313085</td>\n",
       "    </tr>\n",
       "    <tr>\n",
       "      <th>1999998</th>\n",
       "      <td>1999998</td>\n",
       "      <td>EMP1999999</td>\n",
       "      <td>Michael Roberson</td>\n",
       "      <td>IT</td>\n",
       "      <td>Software Engineer</td>\n",
       "      <td>2023-02-14</td>\n",
       "      <td>Jonathanmouth, Djibouti</td>\n",
       "      <td>4</td>\n",
       "      <td>2</td>\n",
       "      <td>Retired</td>\n",
       "      <td>On-site</td>\n",
       "      <td>1479727</td>\n",
       "    </tr>\n",
       "    <tr>\n",
       "      <th>1999999</th>\n",
       "      <td>1999999</td>\n",
       "      <td>EMP2000000</td>\n",
       "      <td>Angela Lambert</td>\n",
       "      <td>HR</td>\n",
       "      <td>Talent Acquisition Specialist</td>\n",
       "      <td>2020-11-11</td>\n",
       "      <td>Morganchester, Canada</td>\n",
       "      <td>1</td>\n",
       "      <td>4</td>\n",
       "      <td>Active</td>\n",
       "      <td>Remote</td>\n",
       "      <td>993718</td>\n",
       "    </tr>\n",
       "  </tbody>\n",
       "</table>\n",
       "</div>"
      ],
      "text/plain": [
       "         Unnamed: 0 Employee_ID         Full_Name  Department  \\\n",
       "1999995     1999995  EMP1999996      Cody Russell  Operations   \n",
       "1999996     1999996  EMP1999997      Tracey Smith          IT   \n",
       "1999997     1999997  EMP1999998         Tracy Lee       Sales   \n",
       "1999998     1999998  EMP1999999  Michael Roberson          IT   \n",
       "1999999     1999999  EMP2000000    Angela Lambert          HR   \n",
       "\n",
       "                             Job_Title   Hire_Date                 Location  \\\n",
       "1999995          Logistics Coordinator  2010-08-31         Casefurt, Serbia   \n",
       "1999996              Software Engineer  2021-05-07        Dannyport, Kuwait   \n",
       "1999997   Business Development Manager  2024-05-29      Craighaven, Nigeria   \n",
       "1999998              Software Engineer  2023-02-14  Jonathanmouth, Djibouti   \n",
       "1999999  Talent Acquisition Specialist  2020-11-11    Morganchester, Canada   \n",
       "\n",
       "         Performance_Rating  Experience_Years   Status Work_Mode  Salary_INR  \n",
       "1999995                   3                14   Active    Remote      657648  \n",
       "1999996                   3                 4   Active   On-site     1030109  \n",
       "1999997                   5                 1   Active    Remote     1313085  \n",
       "1999998                   4                 2  Retired   On-site     1479727  \n",
       "1999999                   1                 4   Active    Remote      993718  "
      ]
     },
     "execution_count": 24,
     "metadata": {},
     "output_type": "execute_result"
    }
   ],
   "source": [
    "df.tail()"
   ]
  },
  {
   "cell_type": "code",
   "execution_count": null,
   "id": "2c7d0b83",
   "metadata": {},
   "outputs": [
    {
     "name": "stdout",
     "output_type": "stream",
     "text": [
      "<class 'pandas.core.frame.DataFrame'>\n",
      "RangeIndex: 2000000 entries, 0 to 1999999\n",
      "Data columns (total 12 columns):\n",
      " #   Column              Dtype \n",
      "---  ------              ----- \n",
      " 0   Unnamed: 0          int64 \n",
      " 1   Employee_ID         object\n",
      " 2   Full_Name           object\n",
      " 3   Department          object\n",
      " 4   Job_Title           object\n",
      " 5   Hire_Date           object\n",
      " 6   Location            object\n",
      " 7   Performance_Rating  int64 \n",
      " 8   Experience_Years    int64 \n",
      " 9   Status              object\n",
      " 10  Work_Mode           object\n",
      " 11  Salary_INR          int64 \n",
      "dtypes: int64(4), object(8)\n",
      "memory usage: 183.1+ MB\n"
     ]
    }
   ],
   "source": [
    "df.info()"
   ]
  },
  {
   "cell_type": "code",
   "execution_count": null,
   "id": "3f9bd0fc",
   "metadata": {},
   "outputs": [
    {
     "data": {
      "text/plain": [
       "(2000000, 12)"
      ]
     },
     "execution_count": 8,
     "metadata": {},
     "output_type": "execute_result"
    }
   ],
   "source": [
    "df.shape"
   ]
  },
  {
   "cell_type": "code",
   "execution_count": null,
   "id": "30a85010",
   "metadata": {},
   "outputs": [
    {
     "data": {
      "text/plain": [
       "Index(['Unnamed: 0', 'Employee_ID', 'Full_Name', 'Department', 'Job_Title',\n",
       "       'Hire_Date', 'Location', 'Performance_Rating', 'Experience_Years',\n",
       "       'Status', 'Work_Mode', 'Salary_INR'],\n",
       "      dtype='object')"
      ]
     },
     "execution_count": 32,
     "metadata": {},
     "output_type": "execute_result"
    }
   ],
   "source": [
    "df.columns"
   ]
  },
  {
   "cell_type": "code",
   "execution_count": 39,
   "id": "5bc67b38",
   "metadata": {},
   "outputs": [],
   "source": [
    "df.drop( 'Unnamed: 0', axis = 1, inplace = True)"
   ]
  },
  {
   "cell_type": "code",
   "execution_count": null,
   "id": "41a6df97",
   "metadata": {},
   "outputs": [
    {
     "data": {
      "text/plain": [
       "np.int64(0)"
      ]
     },
     "execution_count": 40,
     "metadata": {},
     "output_type": "execute_result"
    }
   ],
   "source": [
    "df.duplicated().sum()"
   ]
  },
  {
   "cell_type": "code",
   "execution_count": 54,
   "id": "dc72f9fc",
   "metadata": {},
   "outputs": [
    {
     "data": {
      "application/vnd.microsoft.datawrangler.viewer.v0+json": {
       "columns": [
        {
         "name": "index",
         "rawType": "object",
         "type": "string"
        },
        {
         "name": "Missing_Count",
         "rawType": "int64",
         "type": "integer"
        },
        {
         "name": "Missing_Percentage",
         "rawType": "float64",
         "type": "float"
        }
       ],
       "ref": "4f0b80e7-f21e-41e4-bde9-ccc1dec42c7d",
       "rows": [],
       "shape": {
        "columns": 2,
        "rows": 0
       }
      },
      "text/html": [
       "<div>\n",
       "<style scoped>\n",
       "    .dataframe tbody tr th:only-of-type {\n",
       "        vertical-align: middle;\n",
       "    }\n",
       "\n",
       "    .dataframe tbody tr th {\n",
       "        vertical-align: top;\n",
       "    }\n",
       "\n",
       "    .dataframe thead th {\n",
       "        text-align: right;\n",
       "    }\n",
       "</style>\n",
       "<table border=\"1\" class=\"dataframe\">\n",
       "  <thead>\n",
       "    <tr style=\"text-align: right;\">\n",
       "      <th></th>\n",
       "      <th>Missing_Count</th>\n",
       "      <th>Missing_Percentage</th>\n",
       "    </tr>\n",
       "  </thead>\n",
       "  <tbody>\n",
       "  </tbody>\n",
       "</table>\n",
       "</div>"
      ],
      "text/plain": [
       "Empty DataFrame\n",
       "Columns: [Missing_Count, Missing_Percentage]\n",
       "Index: []"
      ]
     },
     "metadata": {},
     "output_type": "display_data"
    },
    {
     "name": "stdout",
     "output_type": "stream",
     "text": [
      "\n",
      "Total missing values: 0\n"
     ]
    }
   ],
   "source": [
    "missing_values = df.isnull().sum()\n",
    "missing_percentage = (df.isnull().sum() / len(df)) * 100\n",
    "\n",
    "missing_df = pd.DataFrame({\n",
    "    'Missing_Count': missing_values,\n",
    "    'Missing_Percentage': missing_percentage\n",
    "})\n",
    "\n",
    "missing_df = missing_df[missing_df['Missing_Count'] > 0]\n",
    "display(missing_df)\n",
    "\n",
    "print(f\"\\nTotal missing values: {df.isnull().sum().sum()}\")"
   ]
  },
  {
   "cell_type": "code",
   "execution_count": 41,
   "id": "acb54d75",
   "metadata": {},
   "outputs": [
    {
     "data": {
      "application/vnd.microsoft.datawrangler.viewer.v0+json": {
       "columns": [
        {
         "name": "index",
         "rawType": "int64",
         "type": "integer"
        },
        {
         "name": "Employee_ID",
         "rawType": "object",
         "type": "string"
        },
        {
         "name": "Full_Name",
         "rawType": "object",
         "type": "string"
        },
        {
         "name": "Department",
         "rawType": "object",
         "type": "string"
        },
        {
         "name": "Job_Title",
         "rawType": "object",
         "type": "string"
        },
        {
         "name": "Hire_Date",
         "rawType": "object",
         "type": "string"
        },
        {
         "name": "Location",
         "rawType": "object",
         "type": "string"
        },
        {
         "name": "Status",
         "rawType": "object",
         "type": "string"
        },
        {
         "name": "Work_Mode",
         "rawType": "object",
         "type": "string"
        }
       ],
       "ref": "0a17947d-3aab-4950-b00d-6b3e612da762",
       "rows": [
        [
         "0",
         "EMP0000001",
         "Joshua Nguyen",
         "IT",
         "Software Engineer",
         "2011-08-10",
         "Isaacland, Denmark",
         "Resigned",
         "On-site"
        ],
        [
         "1",
         "EMP0000002",
         "Julie Williams",
         "Marketing",
         "SEO Specialist",
         "2018-03-02",
         "Anthonyside, Costa Rica",
         "Active",
         "On-site"
        ],
        [
         "2",
         "EMP0000003",
         "Alyssa Martinez",
         "HR",
         "HR Manager",
         "2023-03-20",
         "Port Christinaport, Saudi Arabia",
         "Active",
         "On-site"
        ],
        [
         "3",
         "EMP0000004",
         "Nicholas Valdez",
         "IT",
         "Software Engineer",
         "2023-10-12",
         "Port Shelbychester, Antigua and Barbuda",
         "Active",
         "On-site"
        ],
        [
         "4",
         "EMP0000005",
         "Joel Hendricks",
         "Operations",
         "Logistics Coordinator",
         "2024-12-09",
         "Lake Kimberly, Palestinian Territory",
         "Active",
         "On-site"
        ],
        [
         "5",
         "EMP0000006",
         "Jason Gardner",
         "Operations",
         "Logistics Coordinator",
         "2021-02-23",
         "Zimmermanstad, Bulgaria",
         "Active",
         "On-site"
        ],
        [
         "6",
         "EMP0000007",
         "Julie Wright",
         "Finance",
         "Finance Manager",
         "2016-04-04",
         "Karenfort, South Africa",
         "Active",
         "On-site"
        ],
        [
         "7",
         "EMP0000008",
         "Scott Wilson",
         "Sales",
         "Account Manager",
         "2020-04-04",
         "Moniqueview, British Virgin Islands",
         "Active",
         "Remote"
        ],
        [
         "8",
         "EMP0000009",
         "Cathy Thompson",
         "Finance",
         "Financial Analyst",
         "2018-05-29",
         "South Catherine, Belize",
         "Resigned",
         "Remote"
        ],
        [
         "9",
         "EMP0000010",
         "Maria Yu MD",
         "IT",
         "Software Engineer",
         "2015-10-08",
         "Brownport, Yemen",
         "Active",
         "Remote"
        ],
        [
         "10",
         "EMP0000011",
         "Jordan Haynes",
         "Sales",
         "Sales Executive",
         "2018-10-27",
         "Lake Katherineland, Gambia",
         "Active",
         "On-site"
        ],
        [
         "11",
         "EMP0000012",
         "Kevin Lowe",
         "Sales",
         "Account Manager",
         "2024-07-02",
         "East Kent, Qatar",
         "Resigned",
         "On-site"
        ],
        [
         "12",
         "EMP0000013",
         "Glen Miller",
         "Operations",
         "Operations Executive",
         "2011-05-03",
         "Coreybury, Libyan Arab Jamahiriya",
         "Active",
         "On-site"
        ],
        [
         "13",
         "EMP0000014",
         "Roberto Nguyen",
         "HR",
         "HR Executive",
         "2020-08-24",
         "South Sandraview, India",
         "Active",
         "On-site"
        ],
        [
         "14",
         "EMP0000015",
         "Megan Hernandez",
         "Sales",
         "Account Manager",
         "2016-01-14",
         "New Royberg, Thailand",
         "Active",
         "Remote"
        ],
        [
         "15",
         "EMP0000016",
         "Julie Marshall",
         "Marketing",
         "SEO Specialist",
         "2021-07-19",
         "Port Phillip, Poland",
         "Active",
         "On-site"
        ],
        [
         "16",
         "EMP0000017",
         "Robert Martin",
         "Operations",
         "Logistics Coordinator",
         "2025-05-13",
         "Laurahaven, Afghanistan",
         "Resigned",
         "On-site"
        ],
        [
         "17",
         "EMP0000018",
         "Mark Rodriguez",
         "Sales",
         "Sales Director",
         "2016-09-17",
         "Maryshire, Botswana",
         "Active",
         "Remote"
        ],
        [
         "18",
         "EMP0000019",
         "Samuel Ferguson",
         "IT",
         "DevOps Engineer",
         "2025-04-05",
         "Matthewsville, Ghana",
         "Active",
         "On-site"
        ],
        [
         "19",
         "EMP0000020",
         "Donald Hoffman",
         "Marketing",
         "Content Strategist",
         "2022-04-01",
         "South James, New Zealand",
         "Resigned",
         "On-site"
        ],
        [
         "20",
         "EMP0000021",
         "Mr. Billy Rodgers DDS",
         "Marketing",
         "Marketing Executive",
         "2017-10-12",
         "West Bryanton, Saint Martin",
         "Terminated",
         "On-site"
        ],
        [
         "21",
         "EMP0000022",
         "Kylie May",
         "IT",
         "DevOps Engineer",
         "2015-07-07",
         "Houstonland, Qatar",
         "Active",
         "On-site"
        ],
        [
         "22",
         "EMP0000023",
         "James Valdez",
         "R&D",
         "Research Scientist",
         "2017-10-30",
         "East Scott, Mauritius",
         "Retired",
         "On-site"
        ],
        [
         "23",
         "EMP0000024",
         "Allen Palmer",
         "Finance",
         "Accountant",
         "2022-05-17",
         "Lake Brittney, Albania",
         "Resigned",
         "Remote"
        ],
        [
         "24",
         "EMP0000025",
         "Amanda Miller",
         "IT",
         "IT Manager",
         "2021-07-31",
         "Tammyview, Barbados",
         "Active",
         "Remote"
        ],
        [
         "25",
         "EMP0000026",
         "Craig Kelly",
         "IT",
         "Software Engineer",
         "2025-01-15",
         "Martinmouth, Switzerland",
         "Resigned",
         "Remote"
        ],
        [
         "26",
         "EMP0000027",
         "Daniel Hernandez",
         "Sales",
         "Sales Executive",
         "2019-09-12",
         "Port Jacob, Falkland Islands (Malvinas)",
         "Active",
         "On-site"
        ],
        [
         "27",
         "EMP0000028",
         "James Young",
         "Marketing",
         "Marketing Executive",
         "2020-11-17",
         "Limouth, Saint Vincent and the Grenadines",
         "Active",
         "Remote"
        ],
        [
         "28",
         "EMP0000029",
         "Steven Castillo",
         "Operations",
         "Supply Chain Manager",
         "2023-08-04",
         "Troyberg, Guadeloupe",
         "Active",
         "On-site"
        ],
        [
         "29",
         "EMP0000030",
         "Kimberly Russo",
         "Finance",
         "Finance Manager",
         "2021-08-15",
         "New Hollyhaven, Vietnam",
         "Active",
         "Remote"
        ],
        [
         "30",
         "EMP0000031",
         "Nathan Smith",
         "IT",
         "Software Engineer",
         "2019-02-13",
         "Anthonyburgh, Bahamas",
         "Active",
         "On-site"
        ],
        [
         "31",
         "EMP0000032",
         "Jeffery Chapman",
         "Sales",
         "Account Manager",
         "2020-10-21",
         "New Tyler, Kazakhstan",
         "Active",
         "On-site"
        ],
        [
         "32",
         "EMP0000033",
         "Cristian Thomas",
         "IT",
         "IT Manager",
         "2021-02-14",
         "North Markbury, San Marino",
         "Active",
         "Remote"
        ],
        [
         "33",
         "EMP0000034",
         "Steve Carlson",
         "IT",
         "Software Engineer",
         "2020-04-25",
         "Grahamfurt, Jamaica",
         "Terminated",
         "On-site"
        ],
        [
         "34",
         "EMP0000035",
         "Kathleen Shields",
         "IT",
         "IT Manager",
         "2023-07-26",
         "North Brianmouth, Zambia",
         "Retired",
         "On-site"
        ],
        [
         "35",
         "EMP0000036",
         "Amanda Mooney",
         "IT",
         "Data Analyst",
         "2024-04-05",
         "Colehaven, Singapore",
         "Active",
         "Remote"
        ],
        [
         "36",
         "EMP0000037",
         "Jennifer Conway",
         "Marketing",
         "SEO Specialist",
         "2024-12-11",
         "South Madison, Nigeria",
         "Active",
         "Remote"
        ],
        [
         "37",
         "EMP0000038",
         "Doris Lambert",
         "HR",
         "Talent Acquisition Specialist",
         "2019-03-14",
         "Ayalafurt, Estonia",
         "Active",
         "On-site"
        ],
        [
         "38",
         "EMP0000039",
         "Jeffrey Lucas",
         "IT",
         "Software Engineer",
         "2021-10-20",
         "Thompsonport, Paraguay",
         "Active",
         "On-site"
        ],
        [
         "39",
         "EMP0000040",
         "Emily Hudson",
         "Finance",
         "Finance Manager",
         "2021-05-25",
         "Ortizbury, Senegal",
         "Resigned",
         "Remote"
        ],
        [
         "40",
         "EMP0000041",
         "Vanessa Rodriguez",
         "Sales",
         "Sales Executive",
         "2011-01-29",
         "West Paula, Nepal",
         "Active",
         "Remote"
        ],
        [
         "41",
         "EMP0000042",
         "Justin Hendricks",
         "IT",
         "Software Engineer",
         "2015-12-31",
         "Laurafort, Bahrain",
         "Active",
         "On-site"
        ],
        [
         "42",
         "EMP0000043",
         "John Daniels",
         "Marketing",
         "Marketing Executive",
         "2019-03-25",
         "East Charles, Qatar",
         "Resigned",
         "On-site"
        ],
        [
         "43",
         "EMP0000044",
         "Sandra Wolf",
         "R&D",
         "Product Developer",
         "2025-02-22",
         "Lake Jennifer, United States Minor Outlying Islands",
         "Active",
         "On-site"
        ],
        [
         "44",
         "EMP0000045",
         "Annette Mcdowell",
         "Sales",
         "Sales Executive",
         "2017-12-08",
         "Lake Heather, Dominica",
         "Resigned",
         "On-site"
        ],
        [
         "45",
         "EMP0000046",
         "James Miller",
         "Marketing",
         "SEO Specialist",
         "2022-03-24",
         "Melissafurt, Brunei Darussalam",
         "Active",
         "Remote"
        ],
        [
         "46",
         "EMP0000047",
         "Donna Estes",
         "Operations",
         "Operations Director",
         "2011-06-15",
         "East Tina, China",
         "Active",
         "On-site"
        ],
        [
         "47",
         "EMP0000048",
         "Tom Mills",
         "HR",
         "HR Executive",
         "2024-01-31",
         "Johnsonside, Ghana",
         "Active",
         "Remote"
        ],
        [
         "48",
         "EMP0000049",
         "Chad Newton",
         "IT",
         "DevOps Engineer",
         "2015-10-15",
         "South Jerryhaven, Mongolia",
         "Resigned",
         "Remote"
        ],
        [
         "49",
         "EMP0000050",
         "Gary Charles",
         "Operations",
         "Supply Chain Manager",
         "2024-09-25",
         "Navarroberg, Switzerland",
         "Active",
         "On-site"
        ]
       ],
       "shape": {
        "columns": 8,
        "rows": 2000000
       }
      },
      "text/html": [
       "<div>\n",
       "<style scoped>\n",
       "    .dataframe tbody tr th:only-of-type {\n",
       "        vertical-align: middle;\n",
       "    }\n",
       "\n",
       "    .dataframe tbody tr th {\n",
       "        vertical-align: top;\n",
       "    }\n",
       "\n",
       "    .dataframe thead th {\n",
       "        text-align: right;\n",
       "    }\n",
       "</style>\n",
       "<table border=\"1\" class=\"dataframe\">\n",
       "  <thead>\n",
       "    <tr style=\"text-align: right;\">\n",
       "      <th></th>\n",
       "      <th>Employee_ID</th>\n",
       "      <th>Full_Name</th>\n",
       "      <th>Department</th>\n",
       "      <th>Job_Title</th>\n",
       "      <th>Hire_Date</th>\n",
       "      <th>Location</th>\n",
       "      <th>Status</th>\n",
       "      <th>Work_Mode</th>\n",
       "    </tr>\n",
       "  </thead>\n",
       "  <tbody>\n",
       "    <tr>\n",
       "      <th>0</th>\n",
       "      <td>EMP0000001</td>\n",
       "      <td>Joshua Nguyen</td>\n",
       "      <td>IT</td>\n",
       "      <td>Software Engineer</td>\n",
       "      <td>2011-08-10</td>\n",
       "      <td>Isaacland, Denmark</td>\n",
       "      <td>Resigned</td>\n",
       "      <td>On-site</td>\n",
       "    </tr>\n",
       "    <tr>\n",
       "      <th>1</th>\n",
       "      <td>EMP0000002</td>\n",
       "      <td>Julie Williams</td>\n",
       "      <td>Marketing</td>\n",
       "      <td>SEO Specialist</td>\n",
       "      <td>2018-03-02</td>\n",
       "      <td>Anthonyside, Costa Rica</td>\n",
       "      <td>Active</td>\n",
       "      <td>On-site</td>\n",
       "    </tr>\n",
       "    <tr>\n",
       "      <th>2</th>\n",
       "      <td>EMP0000003</td>\n",
       "      <td>Alyssa Martinez</td>\n",
       "      <td>HR</td>\n",
       "      <td>HR Manager</td>\n",
       "      <td>2023-03-20</td>\n",
       "      <td>Port Christinaport, Saudi Arabia</td>\n",
       "      <td>Active</td>\n",
       "      <td>On-site</td>\n",
       "    </tr>\n",
       "    <tr>\n",
       "      <th>3</th>\n",
       "      <td>EMP0000004</td>\n",
       "      <td>Nicholas Valdez</td>\n",
       "      <td>IT</td>\n",
       "      <td>Software Engineer</td>\n",
       "      <td>2023-10-12</td>\n",
       "      <td>Port Shelbychester, Antigua and Barbuda</td>\n",
       "      <td>Active</td>\n",
       "      <td>On-site</td>\n",
       "    </tr>\n",
       "    <tr>\n",
       "      <th>4</th>\n",
       "      <td>EMP0000005</td>\n",
       "      <td>Joel Hendricks</td>\n",
       "      <td>Operations</td>\n",
       "      <td>Logistics Coordinator</td>\n",
       "      <td>2024-12-09</td>\n",
       "      <td>Lake Kimberly, Palestinian Territory</td>\n",
       "      <td>Active</td>\n",
       "      <td>On-site</td>\n",
       "    </tr>\n",
       "    <tr>\n",
       "      <th>...</th>\n",
       "      <td>...</td>\n",
       "      <td>...</td>\n",
       "      <td>...</td>\n",
       "      <td>...</td>\n",
       "      <td>...</td>\n",
       "      <td>...</td>\n",
       "      <td>...</td>\n",
       "      <td>...</td>\n",
       "    </tr>\n",
       "    <tr>\n",
       "      <th>1999995</th>\n",
       "      <td>EMP1999996</td>\n",
       "      <td>Cody Russell</td>\n",
       "      <td>Operations</td>\n",
       "      <td>Logistics Coordinator</td>\n",
       "      <td>2010-08-31</td>\n",
       "      <td>Casefurt, Serbia</td>\n",
       "      <td>Active</td>\n",
       "      <td>Remote</td>\n",
       "    </tr>\n",
       "    <tr>\n",
       "      <th>1999996</th>\n",
       "      <td>EMP1999997</td>\n",
       "      <td>Tracey Smith</td>\n",
       "      <td>IT</td>\n",
       "      <td>Software Engineer</td>\n",
       "      <td>2021-05-07</td>\n",
       "      <td>Dannyport, Kuwait</td>\n",
       "      <td>Active</td>\n",
       "      <td>On-site</td>\n",
       "    </tr>\n",
       "    <tr>\n",
       "      <th>1999997</th>\n",
       "      <td>EMP1999998</td>\n",
       "      <td>Tracy Lee</td>\n",
       "      <td>Sales</td>\n",
       "      <td>Business Development Manager</td>\n",
       "      <td>2024-05-29</td>\n",
       "      <td>Craighaven, Nigeria</td>\n",
       "      <td>Active</td>\n",
       "      <td>Remote</td>\n",
       "    </tr>\n",
       "    <tr>\n",
       "      <th>1999998</th>\n",
       "      <td>EMP1999999</td>\n",
       "      <td>Michael Roberson</td>\n",
       "      <td>IT</td>\n",
       "      <td>Software Engineer</td>\n",
       "      <td>2023-02-14</td>\n",
       "      <td>Jonathanmouth, Djibouti</td>\n",
       "      <td>Retired</td>\n",
       "      <td>On-site</td>\n",
       "    </tr>\n",
       "    <tr>\n",
       "      <th>1999999</th>\n",
       "      <td>EMP2000000</td>\n",
       "      <td>Angela Lambert</td>\n",
       "      <td>HR</td>\n",
       "      <td>Talent Acquisition Specialist</td>\n",
       "      <td>2020-11-11</td>\n",
       "      <td>Morganchester, Canada</td>\n",
       "      <td>Active</td>\n",
       "      <td>Remote</td>\n",
       "    </tr>\n",
       "  </tbody>\n",
       "</table>\n",
       "<p>2000000 rows × 8 columns</p>\n",
       "</div>"
      ],
      "text/plain": [
       "        Employee_ID         Full_Name  Department  \\\n",
       "0        EMP0000001     Joshua Nguyen          IT   \n",
       "1        EMP0000002    Julie Williams   Marketing   \n",
       "2        EMP0000003   Alyssa Martinez          HR   \n",
       "3        EMP0000004   Nicholas Valdez          IT   \n",
       "4        EMP0000005    Joel Hendricks  Operations   \n",
       "...             ...               ...         ...   \n",
       "1999995  EMP1999996      Cody Russell  Operations   \n",
       "1999996  EMP1999997      Tracey Smith          IT   \n",
       "1999997  EMP1999998         Tracy Lee       Sales   \n",
       "1999998  EMP1999999  Michael Roberson          IT   \n",
       "1999999  EMP2000000    Angela Lambert          HR   \n",
       "\n",
       "                             Job_Title   Hire_Date  \\\n",
       "0                    Software Engineer  2011-08-10   \n",
       "1                       SEO Specialist  2018-03-02   \n",
       "2                           HR Manager  2023-03-20   \n",
       "3                    Software Engineer  2023-10-12   \n",
       "4                Logistics Coordinator  2024-12-09   \n",
       "...                                ...         ...   \n",
       "1999995          Logistics Coordinator  2010-08-31   \n",
       "1999996              Software Engineer  2021-05-07   \n",
       "1999997   Business Development Manager  2024-05-29   \n",
       "1999998              Software Engineer  2023-02-14   \n",
       "1999999  Talent Acquisition Specialist  2020-11-11   \n",
       "\n",
       "                                        Location    Status Work_Mode  \n",
       "0                             Isaacland, Denmark  Resigned   On-site  \n",
       "1                        Anthonyside, Costa Rica    Active   On-site  \n",
       "2               Port Christinaport, Saudi Arabia    Active   On-site  \n",
       "3        Port Shelbychester, Antigua and Barbuda    Active   On-site  \n",
       "4           Lake Kimberly, Palestinian Territory    Active   On-site  \n",
       "...                                          ...       ...       ...  \n",
       "1999995                         Casefurt, Serbia    Active    Remote  \n",
       "1999996                        Dannyport, Kuwait    Active   On-site  \n",
       "1999997                      Craighaven, Nigeria    Active    Remote  \n",
       "1999998                  Jonathanmouth, Djibouti   Retired   On-site  \n",
       "1999999                    Morganchester, Canada    Active    Remote  \n",
       "\n",
       "[2000000 rows x 8 columns]"
      ]
     },
     "execution_count": 41,
     "metadata": {},
     "output_type": "execute_result"
    }
   ],
   "source": [
    "df.select_dtypes( include = 'object')"
   ]
  },
  {
   "cell_type": "code",
   "execution_count": 42,
   "id": "810e184e",
   "metadata": {},
   "outputs": [
    {
     "data": {
      "application/vnd.microsoft.datawrangler.viewer.v0+json": {
       "columns": [
        {
         "name": "Performance_Rating",
         "rawType": "int64",
         "type": "integer"
        },
        {
         "name": "count",
         "rawType": "int64",
         "type": "integer"
        }
       ],
       "ref": "1f05e94e-522c-4db5-b096-f71736446f8c",
       "rows": [
        [
         "4",
         "400529"
        ],
        [
         "2",
         "400174"
        ],
        [
         "3",
         "399814"
        ],
        [
         "1",
         "399756"
        ],
        [
         "5",
         "399727"
        ]
       ],
       "shape": {
        "columns": 1,
        "rows": 5
       }
      },
      "text/plain": [
       "Performance_Rating\n",
       "4    400529\n",
       "2    400174\n",
       "3    399814\n",
       "1    399756\n",
       "5    399727\n",
       "Name: count, dtype: int64"
      ]
     },
     "execution_count": 42,
     "metadata": {},
     "output_type": "execute_result"
    }
   ],
   "source": [
    "df['Performance_Rating'].value_counts()"
   ]
  },
  {
   "cell_type": "code",
   "execution_count": 43,
   "id": "614a4588",
   "metadata": {},
   "outputs": [
    {
     "data": {
      "text/plain": [
       "array([14,  7,  2,  1,  0,  4,  9,  5,  6,  8,  3, 10, 11, 12, 13, 15])"
      ]
     },
     "execution_count": 43,
     "metadata": {},
     "output_type": "execute_result"
    }
   ],
   "source": [
    "df['Experience_Years'].unique()"
   ]
  },
  {
   "cell_type": "code",
   "execution_count": 45,
   "id": "88d016e5",
   "metadata": {},
   "outputs": [
    {
     "data": {
      "text/plain": [
       "array(['Resigned', 'Active', 'Terminated', 'Retired'], dtype=object)"
      ]
     },
     "execution_count": 45,
     "metadata": {},
     "output_type": "execute_result"
    }
   ],
   "source": [
    "df['Status'].unique()"
   ]
  },
  {
   "cell_type": "code",
   "execution_count": 44,
   "id": "196106a8",
   "metadata": {},
   "outputs": [
    {
     "data": {
      "application/vnd.microsoft.datawrangler.viewer.v0+json": {
       "columns": [
        {
         "name": "Job_Title",
         "rawType": "object",
         "type": "string"
        },
        {
         "name": "count",
         "rawType": "int64",
         "type": "integer"
        }
       ],
       "ref": "1721cc87-9858-482c-bd66-b98fabe45545",
       "rows": [
        [
         "Software Engineer",
         "300358"
        ],
        [
         "Sales Executive",
         "199982"
        ],
        [
         "Operations Executive",
         "150058"
        ],
        [
         "Data Analyst",
         "120375"
        ],
        [
         "Marketing Executive",
         "120154"
        ],
        [
         "Account Manager",
         "119929"
        ],
        [
         "Accountant",
         "100307"
        ],
        [
         "DevOps Engineer",
         "90197"
        ],
        [
         "Logistics Coordinator",
         "90188"
        ],
        [
         "HR Executive",
         "79348"
        ],
        [
         "SEO Specialist",
         "71692"
        ],
        [
         "Business Development Manager",
         "60233"
        ],
        [
         "IT Manager",
         "60224"
        ],
        [
         "Financial Analyst",
         "59815"
        ],
        [
         "Research Scientist",
         "50017"
        ],
        [
         "Talent Acquisition Specialist",
         "47994"
        ],
        [
         "Supply Chain Manager",
         "44935"
        ],
        [
         "Content Strategist",
         "36154"
        ],
        [
         "CTO",
         "29888"
        ],
        [
         "Product Developer",
         "29872"
        ],
        [
         "Finance Manager",
         "29799"
        ],
        [
         "HR Manager",
         "23841"
        ],
        [
         "Sales Director",
         "19887"
        ],
        [
         "Operations Director",
         "14914"
        ],
        [
         "Lab Technician",
         "14829"
        ],
        [
         "Brand Manager",
         "12081"
        ],
        [
         "CFO",
         "9952"
        ],
        [
         "HR Director",
         "7936"
        ],
        [
         "Innovation Manager",
         "5041"
        ]
       ],
       "shape": {
        "columns": 1,
        "rows": 29
       }
      },
      "text/plain": [
       "Job_Title\n",
       "Software Engineer                300358\n",
       "Sales Executive                  199982\n",
       "Operations Executive             150058\n",
       "Data Analyst                     120375\n",
       "Marketing Executive              120154\n",
       "Account Manager                  119929\n",
       "Accountant                       100307\n",
       "DevOps Engineer                   90197\n",
       "Logistics Coordinator             90188\n",
       "HR Executive                      79348\n",
       "SEO Specialist                    71692\n",
       "Business Development Manager      60233\n",
       "IT Manager                        60224\n",
       "Financial Analyst                 59815\n",
       "Research Scientist                50017\n",
       "Talent Acquisition Specialist     47994\n",
       "Supply Chain Manager              44935\n",
       "Content Strategist                36154\n",
       "CTO                               29888\n",
       "Product Developer                 29872\n",
       "Finance Manager                   29799\n",
       "HR Manager                        23841\n",
       "Sales Director                    19887\n",
       "Operations Director               14914\n",
       "Lab Technician                    14829\n",
       "Brand Manager                     12081\n",
       "CFO                                9952\n",
       "HR Director                        7936\n",
       "Innovation Manager                 5041\n",
       "Name: count, dtype: int64"
      ]
     },
     "execution_count": 44,
     "metadata": {},
     "output_type": "execute_result"
    }
   ],
   "source": [
    "df['Job_Title'].value_counts()"
   ]
  },
  {
   "cell_type": "code",
   "execution_count": 46,
   "id": "4bbbc271",
   "metadata": {},
   "outputs": [
    {
     "data": {
      "application/vnd.microsoft.datawrangler.viewer.v0+json": {
       "columns": [
        {
         "name": "Status",
         "rawType": "object",
         "type": "string"
        },
        {
         "name": "count",
         "rawType": "int64",
         "type": "integer"
        }
       ],
       "ref": "6fe2fea8-1aec-4d3a-9561-ca1c2907bcb1",
       "rows": [
        [
         "Active",
         "1401558"
        ],
        [
         "Resigned",
         "398660"
        ],
        [
         "Retired",
         "99912"
        ],
        [
         "Terminated",
         "99870"
        ]
       ],
       "shape": {
        "columns": 1,
        "rows": 4
       }
      },
      "text/plain": [
       "Status\n",
       "Active        1401558\n",
       "Resigned       398660\n",
       "Retired         99912\n",
       "Terminated      99870\n",
       "Name: count, dtype: int64"
      ]
     },
     "execution_count": 46,
     "metadata": {},
     "output_type": "execute_result"
    }
   ],
   "source": [
    "status = df['Status'].value_counts()\n",
    "status"
   ]
  },
  {
   "cell_type": "code",
   "execution_count": 66,
   "id": "2335dafd",
   "metadata": {},
   "outputs": [
    {
     "data": {
      "application/vnd.microsoft.datawrangler.viewer.v0+json": {
       "columns": [
        {
         "name": "Experience_Years",
         "rawType": "int64",
         "type": "integer"
        },
        {
         "name": "Salary_INR",
         "rawType": "float64",
         "type": "float"
        }
       ],
       "ref": "5a481d8f-a071-44f6-b80d-5cdeee81f449",
       "rows": [
        [
         "0",
         "896737.4547755"
        ],
        [
         "1",
         "895903.7598236612"
        ],
        [
         "2",
         "896755.6523128789"
        ],
        [
         "3",
         "896861.2452399238"
        ],
        [
         "4",
         "897944.5739645562"
        ],
        [
         "5",
         "896484.0848281203"
        ],
        [
         "6",
         "896012.6324668038"
        ],
        [
         "7",
         "895722.6739599383"
        ],
        [
         "8",
         "897148.3610903054"
        ],
        [
         "9",
         "898482.9405765714"
        ],
        [
         "10",
         "895662.0278822588"
        ],
        [
         "11",
         "901452.7501120908"
        ],
        [
         "12",
         "896432.9334155985"
        ],
        [
         "13",
         "898790.1970410222"
        ],
        [
         "14",
         "895610.7902512186"
        ],
        [
         "15",
         "895647.4010507881"
        ]
       ],
       "shape": {
        "columns": 1,
        "rows": 16
       }
      },
      "text/plain": [
       "Experience_Years\n",
       "0     896737.454775\n",
       "1     895903.759824\n",
       "2     896755.652313\n",
       "3     896861.245240\n",
       "4     897944.573965\n",
       "5     896484.084828\n",
       "6     896012.632467\n",
       "7     895722.673960\n",
       "8     897148.361090\n",
       "9     898482.940577\n",
       "10    895662.027882\n",
       "11    901452.750112\n",
       "12    896432.933416\n",
       "13    898790.197041\n",
       "14    895610.790251\n",
       "15    895647.401051\n",
       "Name: Salary_INR, dtype: float64"
      ]
     },
     "execution_count": 66,
     "metadata": {},
     "output_type": "execute_result"
    }
   ],
   "source": [
    "df.groupby('Experience_Years')['Salary_INR'].mean()"
   ]
  },
  {
   "cell_type": "code",
   "execution_count": 47,
   "id": "30fefb08",
   "metadata": {},
   "outputs": [
    {
     "data": {
      "application/vnd.microsoft.datawrangler.viewer.v0+json": {
       "columns": [
        {
         "name": "Department",
         "rawType": "object",
         "type": "string"
        },
        {
         "name": "Salary_INR",
         "rawType": "float64",
         "type": "float"
        }
       ],
       "ref": "6b40a88c-80fe-4887-b76c-9cc02a1afd96",
       "rows": [
        [
         "Finance",
         "940.4117427916727"
        ],
        [
         "HR",
         "743.8535614162985"
        ],
        [
         "IT",
         "1129.8581514353405"
        ],
        [
         "Marketing",
         "769.9361519278909"
        ],
        [
         "Operations",
         "754.6262534664023"
        ],
        [
         "R&D",
         "800.377157118656"
        ],
        [
         "Sales",
         "792.9578595758829"
        ]
       ],
       "shape": {
        "columns": 1,
        "rows": 7
       }
      },
      "text/plain": [
       "Department\n",
       "Finance        940.411743\n",
       "HR             743.853561\n",
       "IT            1129.858151\n",
       "Marketing      769.936152\n",
       "Operations     754.626253\n",
       "R&D            800.377157\n",
       "Sales          792.957860\n",
       "Name: Salary_INR, dtype: float64"
      ]
     },
     "execution_count": 47,
     "metadata": {},
     "output_type": "execute_result"
    }
   ],
   "source": [
    "department = df.groupby('Department')['Salary_INR'].mean()/1000\n",
    "department"
   ]
  },
  {
   "cell_type": "code",
   "execution_count": 48,
   "id": "dfc9e4ed",
   "metadata": {},
   "outputs": [
    {
     "data": {
      "application/vnd.microsoft.datawrangler.viewer.v0+json": {
       "columns": [
        {
         "name": "Job_Title",
         "rawType": "object",
         "type": "string"
        },
        {
         "name": "Salary_INR",
         "rawType": "float64",
         "type": "float"
        }
       ],
       "ref": "998cb77d-528a-4966-a500-b274cb411eb7",
       "rows": [
        [
         "Account Manager",
         "799.3737337841555"
        ],
        [
         "Accountant",
         "650.0764816712692"
        ],
        [
         "Brand Manager",
         "803.1277865242943"
        ],
        [
         "Business Development Manager",
         "1252.0162313183803"
        ],
        [
         "CFO",
         "795.015873090836"
        ],
        [
         "CTO",
         "801.4027539146146"
        ],
        [
         "Content Strategist",
         "800.760029789235"
        ],
        [
         "Data Analyst",
         "800.9963795555556"
        ],
        [
         "DevOps Engineer",
         "799.94918396399"
        ],
        [
         "Finance Manager",
         "1743.2415252860833"
        ],
        [
         "Financial Analyst",
         "1051.5229029340467"
        ],
        [
         "HR Director",
         "800.694437373992"
        ],
        [
         "HR Executive",
         "550.5488592781167"
        ],
        [
         "HR Manager",
         "1252.4019149783985"
        ],
        [
         "IT Manager",
         "2098.1557766339"
        ],
        [
         "Innovation Manager",
         "801.8701027573894"
        ],
        [
         "Lab Technician",
         "800.1814680693236"
        ],
        [
         "Logistics Coordinator",
         "649.6317264159311"
        ],
        [
         "Marketing Executive",
         "798.780404172978"
        ],
        [
         "Operations Director",
         "798.2980929328148"
        ],
        [
         "Operations Executive",
         "800.350915112823"
        ],
        [
         "Product Developer",
         "798.6522612479914"
        ],
        [
         "Research Scientist",
         "801.3148787612212"
        ],
        [
         "SEO Specialist",
         "700.4563368576689"
        ],
        [
         "Sales Director",
         "799.069373812038"
        ],
        [
         "Sales Executive",
         "650.237754932944"
        ],
        [
         "Software Engineer",
         "1199.260843123872"
        ],
        [
         "Supply Chain Manager",
         "798.1685548903972"
        ],
        [
         "Talent Acquisition Specialist",
         "801.4222370087928"
        ]
       ],
       "shape": {
        "columns": 1,
        "rows": 29
       }
      },
      "text/plain": [
       "Job_Title\n",
       "Account Manager                   799.373734\n",
       "Accountant                        650.076482\n",
       "Brand Manager                     803.127787\n",
       "Business Development Manager     1252.016231\n",
       "CFO                               795.015873\n",
       "CTO                               801.402754\n",
       "Content Strategist                800.760030\n",
       "Data Analyst                      800.996380\n",
       "DevOps Engineer                   799.949184\n",
       "Finance Manager                  1743.241525\n",
       "Financial Analyst                1051.522903\n",
       "HR Director                       800.694437\n",
       "HR Executive                      550.548859\n",
       "HR Manager                       1252.401915\n",
       "IT Manager                       2098.155777\n",
       "Innovation Manager                801.870103\n",
       "Lab Technician                    800.181468\n",
       "Logistics Coordinator             649.631726\n",
       "Marketing Executive               798.780404\n",
       "Operations Director               798.298093\n",
       "Operations Executive              800.350915\n",
       "Product Developer                 798.652261\n",
       "Research Scientist                801.314879\n",
       "SEO Specialist                    700.456337\n",
       "Sales Director                    799.069374\n",
       "Sales Executive                   650.237755\n",
       "Software Engineer                1199.260843\n",
       "Supply Chain Manager              798.168555\n",
       "Talent Acquisition Specialist     801.422237\n",
       "Name: Salary_INR, dtype: float64"
      ]
     },
     "execution_count": 48,
     "metadata": {},
     "output_type": "execute_result"
    }
   ],
   "source": [
    "salary = df.groupby('Job_Title')['Salary_INR'].mean()/1000\n",
    "salary"
   ]
  },
  {
   "cell_type": "code",
   "execution_count": 57,
   "id": "68cdf031",
   "metadata": {},
   "outputs": [
    {
     "data": {
      "application/vnd.microsoft.datawrangler.viewer.v0+json": {
       "columns": [
        {
         "name": "Job_Title",
         "rawType": "object",
         "type": "string"
        },
        {
         "name": "('Salary_INR', 'min')",
         "rawType": "int64",
         "type": "integer"
        },
        {
         "name": "('Salary_INR', 'max')",
         "rawType": "int64",
         "type": "integer"
        },
        {
         "name": "('Salary_INR', 'mean')",
         "rawType": "float64",
         "type": "float"
        },
        {
         "name": "('Experience_Years', 'min')",
         "rawType": "int64",
         "type": "integer"
        },
        {
         "name": "('Experience_Years', 'max')",
         "rawType": "int64",
         "type": "integer"
        },
        {
         "name": "('Experience_Years', 'mean')",
         "rawType": "float64",
         "type": "float"
        },
        {
         "name": "('Work_Mode', 'count')",
         "rawType": "int64",
         "type": "integer"
        },
        {
         "name": "('Work_Mode', 'nunique')",
         "rawType": "int64",
         "type": "integer"
        }
       ],
       "ref": "57188ffb-4413-44e9-991b-8e5c025c6e5a",
       "rows": [
        [
         "Account Manager",
         "400009",
         "1199998",
         "799373.7337841556",
         "0",
         "15",
         "5.005911831166774",
         "119929",
         "2"
        ],
        [
         "Accountant",
         "400003",
         "899997",
         "650076.4816712692",
         "0",
         "15",
         "5.005802187285035",
         "100307",
         "2"
        ],
        [
         "Brand Manager",
         "400051",
         "1199824",
         "803127.7865242943",
         "0",
         "15",
         "4.99412300306266",
         "12081",
         "2"
        ],
        [
         "Business Development Manager",
         "700041",
         "1799983",
         "1252016.2313183802",
         "0",
         "15",
         "5.039363803894875",
         "60233",
         "2"
        ],
        [
         "CFO",
         "400089",
         "1199930",
         "795015.873090836",
         "0",
         "15",
         "5.037881832797428",
         "9952",
         "2"
        ],
        [
         "CTO",
         "400089",
         "1199999",
         "801402.7539146146",
         "0",
         "15",
         "5.008029978586724",
         "29888",
         "2"
        ],
        [
         "Content Strategist",
         "400032",
         "1199995",
         "800760.029789235",
         "0",
         "15",
         "5.010233999004259",
         "36154",
         "2"
        ],
        [
         "Data Analyst",
         "400008",
         "1199997",
         "800996.3795555555",
         "0",
         "15",
         "5.016656282450675",
         "120375",
         "2"
        ],
        [
         "DevOps Engineer",
         "400001",
         "1199986",
         "799949.18396399",
         "0",
         "15",
         "5.012616827610675",
         "90197",
         "2"
        ],
        [
         "Finance Manager",
         "1000036",
         "2499958",
         "1743241.5252860833",
         "0",
         "15",
         "5.065002181281251",
         "29799",
         "2"
        ],
        [
         "Financial Analyst",
         "600016",
         "1499991",
         "1051522.9029340467",
         "0",
         "15",
         "5.025244503886985",
         "59815",
         "2"
        ],
        [
         "HR Director",
         "400023",
         "1199823",
         "800694.4373739919",
         "0",
         "15",
         "5.029359879032258",
         "7936",
         "2"
        ],
        [
         "HR Executive",
         "300000",
         "799990",
         "550548.8592781166",
         "0",
         "15",
         "5.026793365932349",
         "79348",
         "2"
        ],
        [
         "HR Manager",
         "700133",
         "1799839",
         "1252401.9149783985",
         "0",
         "15",
         "5.010066691833396",
         "23841",
         "2"
        ],
        [
         "IT Manager",
         "1200003",
         "2999976",
         "2098155.7766339",
         "0",
         "15",
         "4.998887486716259",
         "60224",
         "2"
        ],
        [
         "Innovation Manager",
         "400284",
         "1199896",
         "801870.1027573894",
         "0",
         "15",
         "5.03253322753422",
         "5041",
         "2"
        ],
        [
         "Lab Technician",
         "400015",
         "1199943",
         "800181.4680693236",
         "0",
         "15",
         "5.045384044777126",
         "14829",
         "2"
        ],
        [
         "Logistics Coordinator",
         "400009",
         "899996",
         "649631.7264159311",
         "0",
         "15",
         "5.03987226682042",
         "90188",
         "2"
        ],
        [
         "Marketing Executive",
         "400009",
         "1199997",
         "798780.404172978",
         "0",
         "15",
         "4.999167734740417",
         "120154",
         "2"
        ],
        [
         "Operations Director",
         "400038",
         "1199755",
         "798298.0929328148",
         "0",
         "15",
         "5.011532787984444",
         "14914",
         "2"
        ],
        [
         "Operations Executive",
         "400002",
         "1199991",
         "800350.915112823",
         "0",
         "15",
         "4.9939423422943126",
         "150058",
         "2"
        ],
        [
         "Product Developer",
         "400020",
         "1199950",
         "798652.2612479915",
         "0",
         "15",
         "4.976064542046063",
         "29872",
         "2"
        ],
        [
         "Research Scientist",
         "400004",
         "1199995",
         "801314.8787612212",
         "0",
         "15",
         "5.0024591638842795",
         "50017",
         "2"
        ],
        [
         "SEO Specialist",
         "400003",
         "999996",
         "700456.3368576689",
         "0",
         "15",
         "5.003710316353289",
         "71692",
         "2"
        ],
        [
         "Sales Director",
         "400106",
         "1199877",
         "799069.373812038",
         "0",
         "15",
         "4.985769598229999",
         "19887",
         "2"
        ],
        [
         "Sales Executive",
         "400000",
         "899997",
         "650237.754932944",
         "0",
         "15",
         "5.004595413587223",
         "199982",
         "2"
        ],
        [
         "Software Engineer",
         "600001",
         "1799994",
         "1199260.843123872",
         "0",
         "15",
         "5.009561922772159",
         "300358",
         "2"
        ],
        [
         "Supply Chain Manager",
         "400007",
         "1199973",
         "798168.5548903972",
         "0",
         "15",
         "5.009346834316235",
         "44935",
         "2"
        ],
        [
         "Talent Acquisition Specialist",
         "400043",
         "1199995",
         "801422.2370087928",
         "0",
         "15",
         "4.993249156144518",
         "47994",
         "2"
        ]
       ],
       "shape": {
        "columns": 8,
        "rows": 29
       }
      },
      "text/html": [
       "<div>\n",
       "<style scoped>\n",
       "    .dataframe tbody tr th:only-of-type {\n",
       "        vertical-align: middle;\n",
       "    }\n",
       "\n",
       "    .dataframe tbody tr th {\n",
       "        vertical-align: top;\n",
       "    }\n",
       "\n",
       "    .dataframe thead tr th {\n",
       "        text-align: left;\n",
       "    }\n",
       "\n",
       "    .dataframe thead tr:last-of-type th {\n",
       "        text-align: right;\n",
       "    }\n",
       "</style>\n",
       "<table border=\"1\" class=\"dataframe\">\n",
       "  <thead>\n",
       "    <tr>\n",
       "      <th></th>\n",
       "      <th colspan=\"3\" halign=\"left\">Salary_INR</th>\n",
       "      <th colspan=\"3\" halign=\"left\">Experience_Years</th>\n",
       "      <th colspan=\"2\" halign=\"left\">Work_Mode</th>\n",
       "    </tr>\n",
       "    <tr>\n",
       "      <th></th>\n",
       "      <th>min</th>\n",
       "      <th>max</th>\n",
       "      <th>mean</th>\n",
       "      <th>min</th>\n",
       "      <th>max</th>\n",
       "      <th>mean</th>\n",
       "      <th>count</th>\n",
       "      <th>nunique</th>\n",
       "    </tr>\n",
       "    <tr>\n",
       "      <th>Job_Title</th>\n",
       "      <th></th>\n",
       "      <th></th>\n",
       "      <th></th>\n",
       "      <th></th>\n",
       "      <th></th>\n",
       "      <th></th>\n",
       "      <th></th>\n",
       "      <th></th>\n",
       "    </tr>\n",
       "  </thead>\n",
       "  <tbody>\n",
       "    <tr>\n",
       "      <th>Account Manager</th>\n",
       "      <td>400009</td>\n",
       "      <td>1199998</td>\n",
       "      <td>7.993737e+05</td>\n",
       "      <td>0</td>\n",
       "      <td>15</td>\n",
       "      <td>5.005912</td>\n",
       "      <td>119929</td>\n",
       "      <td>2</td>\n",
       "    </tr>\n",
       "    <tr>\n",
       "      <th>Accountant</th>\n",
       "      <td>400003</td>\n",
       "      <td>899997</td>\n",
       "      <td>6.500765e+05</td>\n",
       "      <td>0</td>\n",
       "      <td>15</td>\n",
       "      <td>5.005802</td>\n",
       "      <td>100307</td>\n",
       "      <td>2</td>\n",
       "    </tr>\n",
       "    <tr>\n",
       "      <th>Brand Manager</th>\n",
       "      <td>400051</td>\n",
       "      <td>1199824</td>\n",
       "      <td>8.031278e+05</td>\n",
       "      <td>0</td>\n",
       "      <td>15</td>\n",
       "      <td>4.994123</td>\n",
       "      <td>12081</td>\n",
       "      <td>2</td>\n",
       "    </tr>\n",
       "    <tr>\n",
       "      <th>Business Development Manager</th>\n",
       "      <td>700041</td>\n",
       "      <td>1799983</td>\n",
       "      <td>1.252016e+06</td>\n",
       "      <td>0</td>\n",
       "      <td>15</td>\n",
       "      <td>5.039364</td>\n",
       "      <td>60233</td>\n",
       "      <td>2</td>\n",
       "    </tr>\n",
       "    <tr>\n",
       "      <th>CFO</th>\n",
       "      <td>400089</td>\n",
       "      <td>1199930</td>\n",
       "      <td>7.950159e+05</td>\n",
       "      <td>0</td>\n",
       "      <td>15</td>\n",
       "      <td>5.037882</td>\n",
       "      <td>9952</td>\n",
       "      <td>2</td>\n",
       "    </tr>\n",
       "    <tr>\n",
       "      <th>CTO</th>\n",
       "      <td>400089</td>\n",
       "      <td>1199999</td>\n",
       "      <td>8.014028e+05</td>\n",
       "      <td>0</td>\n",
       "      <td>15</td>\n",
       "      <td>5.008030</td>\n",
       "      <td>29888</td>\n",
       "      <td>2</td>\n",
       "    </tr>\n",
       "    <tr>\n",
       "      <th>Content Strategist</th>\n",
       "      <td>400032</td>\n",
       "      <td>1199995</td>\n",
       "      <td>8.007600e+05</td>\n",
       "      <td>0</td>\n",
       "      <td>15</td>\n",
       "      <td>5.010234</td>\n",
       "      <td>36154</td>\n",
       "      <td>2</td>\n",
       "    </tr>\n",
       "    <tr>\n",
       "      <th>Data Analyst</th>\n",
       "      <td>400008</td>\n",
       "      <td>1199997</td>\n",
       "      <td>8.009964e+05</td>\n",
       "      <td>0</td>\n",
       "      <td>15</td>\n",
       "      <td>5.016656</td>\n",
       "      <td>120375</td>\n",
       "      <td>2</td>\n",
       "    </tr>\n",
       "    <tr>\n",
       "      <th>DevOps Engineer</th>\n",
       "      <td>400001</td>\n",
       "      <td>1199986</td>\n",
       "      <td>7.999492e+05</td>\n",
       "      <td>0</td>\n",
       "      <td>15</td>\n",
       "      <td>5.012617</td>\n",
       "      <td>90197</td>\n",
       "      <td>2</td>\n",
       "    </tr>\n",
       "    <tr>\n",
       "      <th>Finance Manager</th>\n",
       "      <td>1000036</td>\n",
       "      <td>2499958</td>\n",
       "      <td>1.743242e+06</td>\n",
       "      <td>0</td>\n",
       "      <td>15</td>\n",
       "      <td>5.065002</td>\n",
       "      <td>29799</td>\n",
       "      <td>2</td>\n",
       "    </tr>\n",
       "    <tr>\n",
       "      <th>Financial Analyst</th>\n",
       "      <td>600016</td>\n",
       "      <td>1499991</td>\n",
       "      <td>1.051523e+06</td>\n",
       "      <td>0</td>\n",
       "      <td>15</td>\n",
       "      <td>5.025245</td>\n",
       "      <td>59815</td>\n",
       "      <td>2</td>\n",
       "    </tr>\n",
       "    <tr>\n",
       "      <th>HR Director</th>\n",
       "      <td>400023</td>\n",
       "      <td>1199823</td>\n",
       "      <td>8.006944e+05</td>\n",
       "      <td>0</td>\n",
       "      <td>15</td>\n",
       "      <td>5.029360</td>\n",
       "      <td>7936</td>\n",
       "      <td>2</td>\n",
       "    </tr>\n",
       "    <tr>\n",
       "      <th>HR Executive</th>\n",
       "      <td>300000</td>\n",
       "      <td>799990</td>\n",
       "      <td>5.505489e+05</td>\n",
       "      <td>0</td>\n",
       "      <td>15</td>\n",
       "      <td>5.026793</td>\n",
       "      <td>79348</td>\n",
       "      <td>2</td>\n",
       "    </tr>\n",
       "    <tr>\n",
       "      <th>HR Manager</th>\n",
       "      <td>700133</td>\n",
       "      <td>1799839</td>\n",
       "      <td>1.252402e+06</td>\n",
       "      <td>0</td>\n",
       "      <td>15</td>\n",
       "      <td>5.010067</td>\n",
       "      <td>23841</td>\n",
       "      <td>2</td>\n",
       "    </tr>\n",
       "    <tr>\n",
       "      <th>IT Manager</th>\n",
       "      <td>1200003</td>\n",
       "      <td>2999976</td>\n",
       "      <td>2.098156e+06</td>\n",
       "      <td>0</td>\n",
       "      <td>15</td>\n",
       "      <td>4.998887</td>\n",
       "      <td>60224</td>\n",
       "      <td>2</td>\n",
       "    </tr>\n",
       "    <tr>\n",
       "      <th>Innovation Manager</th>\n",
       "      <td>400284</td>\n",
       "      <td>1199896</td>\n",
       "      <td>8.018701e+05</td>\n",
       "      <td>0</td>\n",
       "      <td>15</td>\n",
       "      <td>5.032533</td>\n",
       "      <td>5041</td>\n",
       "      <td>2</td>\n",
       "    </tr>\n",
       "    <tr>\n",
       "      <th>Lab Technician</th>\n",
       "      <td>400015</td>\n",
       "      <td>1199943</td>\n",
       "      <td>8.001815e+05</td>\n",
       "      <td>0</td>\n",
       "      <td>15</td>\n",
       "      <td>5.045384</td>\n",
       "      <td>14829</td>\n",
       "      <td>2</td>\n",
       "    </tr>\n",
       "    <tr>\n",
       "      <th>Logistics Coordinator</th>\n",
       "      <td>400009</td>\n",
       "      <td>899996</td>\n",
       "      <td>6.496317e+05</td>\n",
       "      <td>0</td>\n",
       "      <td>15</td>\n",
       "      <td>5.039872</td>\n",
       "      <td>90188</td>\n",
       "      <td>2</td>\n",
       "    </tr>\n",
       "    <tr>\n",
       "      <th>Marketing Executive</th>\n",
       "      <td>400009</td>\n",
       "      <td>1199997</td>\n",
       "      <td>7.987804e+05</td>\n",
       "      <td>0</td>\n",
       "      <td>15</td>\n",
       "      <td>4.999168</td>\n",
       "      <td>120154</td>\n",
       "      <td>2</td>\n",
       "    </tr>\n",
       "    <tr>\n",
       "      <th>Operations Director</th>\n",
       "      <td>400038</td>\n",
       "      <td>1199755</td>\n",
       "      <td>7.982981e+05</td>\n",
       "      <td>0</td>\n",
       "      <td>15</td>\n",
       "      <td>5.011533</td>\n",
       "      <td>14914</td>\n",
       "      <td>2</td>\n",
       "    </tr>\n",
       "    <tr>\n",
       "      <th>Operations Executive</th>\n",
       "      <td>400002</td>\n",
       "      <td>1199991</td>\n",
       "      <td>8.003509e+05</td>\n",
       "      <td>0</td>\n",
       "      <td>15</td>\n",
       "      <td>4.993942</td>\n",
       "      <td>150058</td>\n",
       "      <td>2</td>\n",
       "    </tr>\n",
       "    <tr>\n",
       "      <th>Product Developer</th>\n",
       "      <td>400020</td>\n",
       "      <td>1199950</td>\n",
       "      <td>7.986523e+05</td>\n",
       "      <td>0</td>\n",
       "      <td>15</td>\n",
       "      <td>4.976065</td>\n",
       "      <td>29872</td>\n",
       "      <td>2</td>\n",
       "    </tr>\n",
       "    <tr>\n",
       "      <th>Research Scientist</th>\n",
       "      <td>400004</td>\n",
       "      <td>1199995</td>\n",
       "      <td>8.013149e+05</td>\n",
       "      <td>0</td>\n",
       "      <td>15</td>\n",
       "      <td>5.002459</td>\n",
       "      <td>50017</td>\n",
       "      <td>2</td>\n",
       "    </tr>\n",
       "    <tr>\n",
       "      <th>SEO Specialist</th>\n",
       "      <td>400003</td>\n",
       "      <td>999996</td>\n",
       "      <td>7.004563e+05</td>\n",
       "      <td>0</td>\n",
       "      <td>15</td>\n",
       "      <td>5.003710</td>\n",
       "      <td>71692</td>\n",
       "      <td>2</td>\n",
       "    </tr>\n",
       "    <tr>\n",
       "      <th>Sales Director</th>\n",
       "      <td>400106</td>\n",
       "      <td>1199877</td>\n",
       "      <td>7.990694e+05</td>\n",
       "      <td>0</td>\n",
       "      <td>15</td>\n",
       "      <td>4.985770</td>\n",
       "      <td>19887</td>\n",
       "      <td>2</td>\n",
       "    </tr>\n",
       "    <tr>\n",
       "      <th>Sales Executive</th>\n",
       "      <td>400000</td>\n",
       "      <td>899997</td>\n",
       "      <td>6.502378e+05</td>\n",
       "      <td>0</td>\n",
       "      <td>15</td>\n",
       "      <td>5.004595</td>\n",
       "      <td>199982</td>\n",
       "      <td>2</td>\n",
       "    </tr>\n",
       "    <tr>\n",
       "      <th>Software Engineer</th>\n",
       "      <td>600001</td>\n",
       "      <td>1799994</td>\n",
       "      <td>1.199261e+06</td>\n",
       "      <td>0</td>\n",
       "      <td>15</td>\n",
       "      <td>5.009562</td>\n",
       "      <td>300358</td>\n",
       "      <td>2</td>\n",
       "    </tr>\n",
       "    <tr>\n",
       "      <th>Supply Chain Manager</th>\n",
       "      <td>400007</td>\n",
       "      <td>1199973</td>\n",
       "      <td>7.981686e+05</td>\n",
       "      <td>0</td>\n",
       "      <td>15</td>\n",
       "      <td>5.009347</td>\n",
       "      <td>44935</td>\n",
       "      <td>2</td>\n",
       "    </tr>\n",
       "    <tr>\n",
       "      <th>Talent Acquisition Specialist</th>\n",
       "      <td>400043</td>\n",
       "      <td>1199995</td>\n",
       "      <td>8.014222e+05</td>\n",
       "      <td>0</td>\n",
       "      <td>15</td>\n",
       "      <td>4.993249</td>\n",
       "      <td>47994</td>\n",
       "      <td>2</td>\n",
       "    </tr>\n",
       "  </tbody>\n",
       "</table>\n",
       "</div>"
      ],
      "text/plain": [
       "                              Salary_INR                         \\\n",
       "                                     min      max          mean   \n",
       "Job_Title                                                         \n",
       "Account Manager                   400009  1199998  7.993737e+05   \n",
       "Accountant                        400003   899997  6.500765e+05   \n",
       "Brand Manager                     400051  1199824  8.031278e+05   \n",
       "Business Development Manager      700041  1799983  1.252016e+06   \n",
       "CFO                               400089  1199930  7.950159e+05   \n",
       "CTO                               400089  1199999  8.014028e+05   \n",
       "Content Strategist                400032  1199995  8.007600e+05   \n",
       "Data Analyst                      400008  1199997  8.009964e+05   \n",
       "DevOps Engineer                   400001  1199986  7.999492e+05   \n",
       "Finance Manager                  1000036  2499958  1.743242e+06   \n",
       "Financial Analyst                 600016  1499991  1.051523e+06   \n",
       "HR Director                       400023  1199823  8.006944e+05   \n",
       "HR Executive                      300000   799990  5.505489e+05   \n",
       "HR Manager                        700133  1799839  1.252402e+06   \n",
       "IT Manager                       1200003  2999976  2.098156e+06   \n",
       "Innovation Manager                400284  1199896  8.018701e+05   \n",
       "Lab Technician                    400015  1199943  8.001815e+05   \n",
       "Logistics Coordinator             400009   899996  6.496317e+05   \n",
       "Marketing Executive               400009  1199997  7.987804e+05   \n",
       "Operations Director               400038  1199755  7.982981e+05   \n",
       "Operations Executive              400002  1199991  8.003509e+05   \n",
       "Product Developer                 400020  1199950  7.986523e+05   \n",
       "Research Scientist                400004  1199995  8.013149e+05   \n",
       "SEO Specialist                    400003   999996  7.004563e+05   \n",
       "Sales Director                    400106  1199877  7.990694e+05   \n",
       "Sales Executive                   400000   899997  6.502378e+05   \n",
       "Software Engineer                 600001  1799994  1.199261e+06   \n",
       "Supply Chain Manager              400007  1199973  7.981686e+05   \n",
       "Talent Acquisition Specialist     400043  1199995  8.014222e+05   \n",
       "\n",
       "                              Experience_Years               Work_Mode          \n",
       "                                           min max      mean     count nunique  \n",
       "Job_Title                                                                       \n",
       "Account Manager                              0  15  5.005912    119929       2  \n",
       "Accountant                                   0  15  5.005802    100307       2  \n",
       "Brand Manager                                0  15  4.994123     12081       2  \n",
       "Business Development Manager                 0  15  5.039364     60233       2  \n",
       "CFO                                          0  15  5.037882      9952       2  \n",
       "CTO                                          0  15  5.008030     29888       2  \n",
       "Content Strategist                           0  15  5.010234     36154       2  \n",
       "Data Analyst                                 0  15  5.016656    120375       2  \n",
       "DevOps Engineer                              0  15  5.012617     90197       2  \n",
       "Finance Manager                              0  15  5.065002     29799       2  \n",
       "Financial Analyst                            0  15  5.025245     59815       2  \n",
       "HR Director                                  0  15  5.029360      7936       2  \n",
       "HR Executive                                 0  15  5.026793     79348       2  \n",
       "HR Manager                                   0  15  5.010067     23841       2  \n",
       "IT Manager                                   0  15  4.998887     60224       2  \n",
       "Innovation Manager                           0  15  5.032533      5041       2  \n",
       "Lab Technician                               0  15  5.045384     14829       2  \n",
       "Logistics Coordinator                        0  15  5.039872     90188       2  \n",
       "Marketing Executive                          0  15  4.999168    120154       2  \n",
       "Operations Director                          0  15  5.011533     14914       2  \n",
       "Operations Executive                         0  15  4.993942    150058       2  \n",
       "Product Developer                            0  15  4.976065     29872       2  \n",
       "Research Scientist                           0  15  5.002459     50017       2  \n",
       "SEO Specialist                               0  15  5.003710     71692       2  \n",
       "Sales Director                               0  15  4.985770     19887       2  \n",
       "Sales Executive                              0  15  5.004595    199982       2  \n",
       "Software Engineer                            0  15  5.009562    300358       2  \n",
       "Supply Chain Manager                         0  15  5.009347     44935       2  \n",
       "Talent Acquisition Specialist                0  15  4.993249     47994       2  "
      ]
     },
     "execution_count": 57,
     "metadata": {},
     "output_type": "execute_result"
    }
   ],
   "source": [
    "x = df.groupby('Job_Title').agg({\n",
    "\t'Salary_INR': ['min', 'max', 'mean'],\n",
    "\t'Experience_Years': ['min', 'max', 'mean'],\n",
    "\t'Work_Mode': ['count', 'nunique']  \n",
    "})\n",
    "x"
   ]
  },
  {
   "cell_type": "code",
   "execution_count": 49,
   "id": "182b1c38",
   "metadata": {},
   "outputs": [
    {
     "data": {
      "application/vnd.microsoft.datawrangler.viewer.v0+json": {
       "columns": [
        {
         "name": "Department",
         "rawType": "object",
         "type": "string"
        },
        {
         "name": "Work_Mode",
         "rawType": "int64",
         "type": "integer"
        }
       ],
       "ref": "6139b5ee-e018-44b9-86a8-4fea5ee1c8e5",
       "rows": [
        [
         "Finance",
         "40238"
        ],
        [
         "HR",
         "31736"
        ],
        [
         "IT",
         "119852"
        ],
        [
         "Marketing",
         "47793"
        ],
        [
         "Operations",
         "59397"
        ],
        [
         "R&D",
         "19919"
        ],
        [
         "Sales",
         "79725"
        ]
       ],
       "shape": {
        "columns": 1,
        "rows": 7
       }
      },
      "text/plain": [
       "Department\n",
       "Finance        40238\n",
       "HR             31736\n",
       "IT            119852\n",
       "Marketing      47793\n",
       "Operations     59397\n",
       "R&D            19919\n",
       "Sales          79725\n",
       "Name: Work_Mode, dtype: int64"
      ]
     },
     "execution_count": 49,
     "metadata": {},
     "output_type": "execute_result"
    }
   ],
   "source": [
    "df_Resigned = df[df['Status'] == 'Resigned']\n",
    "df_Resigned.groupby('Department')['Work_Mode'].count()\n"
   ]
  },
  {
   "cell_type": "code",
   "execution_count": 68,
   "id": "15bc0b74",
   "metadata": {},
   "outputs": [
    {
     "data": {
      "application/vnd.microsoft.datawrangler.viewer.v0+json": {
       "columns": [
        {
         "name": "Hire_Year",
         "rawType": "int32",
         "type": "integer"
        },
        {
         "name": "Employee_ID",
         "rawType": "int64",
         "type": "integer"
        }
       ],
       "ref": "8be1c689-8eb4-453d-ba0a-8040710bf305",
       "rows": [
        [
         "2010",
         "15520"
        ],
        [
         "2011",
         "40089"
        ],
        [
         "2012",
         "39765"
        ],
        [
         "2013",
         "39988"
        ],
        [
         "2014",
         "40202"
        ],
        [
         "2015",
         "85984"
        ],
        [
         "2016",
         "160249"
        ],
        [
         "2017",
         "160363"
        ],
        [
         "2018",
         "159658"
        ],
        [
         "2019",
         "160202"
        ],
        [
         "2020",
         "175460"
        ],
        [
         "2021",
         "199366"
        ],
        [
         "2022",
         "201373"
        ],
        [
         "2023",
         "198982"
        ],
        [
         "2024",
         "200001"
        ],
        [
         "2025",
         "122798"
        ]
       ],
       "shape": {
        "columns": 1,
        "rows": 16
       }
      },
      "text/plain": [
       "Hire_Year\n",
       "2010     15520\n",
       "2011     40089\n",
       "2012     39765\n",
       "2013     39988\n",
       "2014     40202\n",
       "2015     85984\n",
       "2016    160249\n",
       "2017    160363\n",
       "2018    159658\n",
       "2019    160202\n",
       "2020    175460\n",
       "2021    199366\n",
       "2022    201373\n",
       "2023    198982\n",
       "2024    200001\n",
       "2025    122798\n",
       "Name: Employee_ID, dtype: int64"
      ]
     },
     "execution_count": 68,
     "metadata": {},
     "output_type": "execute_result"
    }
   ],
   "source": [
    "df['Hire_Year'] = pd.to_datetime(df['Hire_Date']).dt.year\n",
    "C = df.groupby('Hire_Year')['Employee_ID'].count()\n",
    "C"
   ]
  },
  {
   "cell_type": "markdown",
   "id": "787dd805",
   "metadata": {},
   "source": [
    "### Visualizing"
   ]
  },
  {
   "cell_type": "code",
   "execution_count": 50,
   "id": "439aaa5f",
   "metadata": {},
   "outputs": [
    {
     "data": {
      "image/png": "[encoded data removed]",
      "text/plain": [
       "<Figure size 640x480 with 1 Axes>"
      ]
     },
     "metadata": {},
     "output_type": "display_data"
    }
   ],
   "source": [
    "sns.countplot( y = 'Job_Title', data = df)\n",
    "plt.show()"
   ]
  },
  {
   "cell_type": "code",
   "execution_count": 51,
   "id": "129e2a36",
   "metadata": {},
   "outputs": [
    {
     "data": {
      "image/png": "[encoded data removed]",
      "text/plain": [
       "<Figure size 640x480 with 1 Axes>"
      ]
     },
     "metadata": {},
     "output_type": "display_data"
    }
   ],
   "source": [
    "status.plot( kind = 'pie' , colors = 'cr', autopct= '%1.1f%%', explode=(0.05,0.05,0.05,0.05))\n",
    "plt.show()"
   ]
  },
  {
   "cell_type": "code",
   "execution_count": 52,
   "id": "ea9b59df",
   "metadata": {},
   "outputs": [
    {
     "data": {
      "image/png": "[encoded data removed]",
      "text/plain": [
       "<Figure size 640x480 with 2 Axes>"
      ]
     },
     "metadata": {},
     "output_type": "display_data"
    }
   ],
   "source": [
    "sns.heatmap(df.corr(numeric_only = True));"
   ]
  },
  {
   "cell_type": "code",
   "execution_count": 58,
   "id": "48aba7c9",
   "metadata": {},
   "outputs": [
    {
     "data": {
      "image/png": "[encoded data removed]",
      "text/plain": [
       "<Figure size 640x480 with 1 Axes>"
      ]
     },
     "metadata": {},
     "output_type": "display_data"
    }
   ],
   "source": [
    "sns.countplot( x = 'Department', data = df)\n",
    "\n",
    "plt.show()"
   ]
  },
  {
   "cell_type": "code",
   "execution_count": 60,
   "id": "64072ff8",
   "metadata": {},
   "outputs": [
    {
     "data": {
      "image/png": "[encoded data removed]",
      "text/plain": [
       "<Figure size 640x480 with 1 Axes>"
      ]
     },
     "metadata": {},
     "output_type": "display_data"
    }
   ],
   "source": [
    "department_means = df.groupby('Department')['Salary_INR'].mean()\n",
    "department_means.plot(kind='bar')\n",
    "plt.title('Average Salary by Department')\n",
    "plt.ylabel('Average Salary (INR)')\n",
    "plt.xticks(rotation=45)\n",
    "plt.show()"
   ]
  },
  {
   "cell_type": "code",
   "execution_count": 8,
   "id": "7d83fe87",
   "metadata": {},
   "outputs": [
    {
     "data": {
      "image/png": "[encoded data removed]",
      "text/plain": [
       "<Figure size 500x500 with 1 Axes>"
      ]
     },
     "metadata": {},
     "output_type": "display_data"
    }
   ],
   "source": [
    "sns.lmplot(x='Experience_Years', y='Salary_INR', data=df)\n",
    "plt.show()"
   ]
  },
  {
   "cell_type": "code",
   "execution_count": 76,
   "id": "21608613",
   "metadata": {},
   "outputs": [
    {
     "data": {
      "image/png": "[encoded data removed]",
      "text/plain": [
       "<Figure size 640x480 with 1 Axes>"
      ]
     },
     "metadata": {},
     "output_type": "display_data"
    }
   ],
   "source": [
    "sns.histplot(df['Hire_Year'],kde=True)\n",
    "plt.show()"
   ]
  },
  {
   "cell_type": "code",
   "execution_count": null,
   "id": "bac59f74",
   "metadata": {},
   "outputs": [
    {
     "data": {
      "image/png": "[encoded data removed]",
      "text/plain": [
       "<Figure size 640x480 with 1 Axes>"
      ]
     },
     "metadata": {},
     "output_type": "display_data"
    }
   ],
   "source": [
    "sns.boxplot(data=df[['Performance_Rating']])\n",
    "plt.show()"
   ]
  },
  {
   "cell_type": "code",
   "execution_count": 85,
   "id": "ce55fdbc",
   "metadata": {},
   "outputs": [
    {
     "data": {
      "image/png": "[encoded data removed]",
      "text/plain": [
       "<Figure size 640x480 with 1 Axes>"
      ]
     },
     "metadata": {},
     "output_type": "display_data"
    }
   ],
   "source": [
    "sns.boxplot(data=df[['Salary_INR']])\n",
    "plt.show()"
   ]
  }
 ],
 "metadata": {
  "kernelspec": {
   "display_name": "Python 3",
   "language": "python",
   "name": "python3"
  },
  "language_info": {
   "codemirror_mode": {
    "name": "ipython",
    "version": 3
   },
   "file_extension": ".py",
   "mimetype": "text/x-python",
   "name": "python",
   "nbconvert_exporter": "python",
   "pygments_lexer": "ipython3",
   "version": "3.12.10"
  }
 },
 "nbformat": 4,
 "nbformat_minor": 5
}
