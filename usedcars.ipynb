{
 "cells": [
  {
   "cell_type": "markdown",
   "id": "2162add8",
   "metadata": {},
   "source": [
    "## Load the Data"
   ]
  },
  {
   "cell_type": "code",
   "execution_count": 63,
   "id": "1a7aa4af",
   "metadata": {},
   "outputs": [],
   "source": [
    "import pandas as pd\n",
    "import numpy as np\n",
    "import seaborn as sns\n",
    "import matplotlib.pyplot as plt"
   ]
  },
  {
   "cell_type": "code",
   "execution_count": 39,
   "id": "0ec61e77",
   "metadata": {},
   "outputs": [],
   "source": [
    "df = pd.read_csv('used_car_sales.csv')"
   ]
  },
  {
   "cell_type": "markdown",
   "id": "7f16c4df",
   "metadata": {},
   "source": [
    "### Explore The Data and Check It"
   ]
  },
  {
   "cell_type": "code",
   "execution_count": 40,
   "id": "15638a2e",
   "metadata": {},
   "outputs": [
    {
     "name": "stdout",
     "output_type": "stream",
     "text": [
      "First 5 Entries:\n",
      "       ID Distributor Name        Location  Car Name Manufacturer Name  \\\n",
      "0  O2KE18          Carmudi      California  Fortuner            Toyota   \n",
      "1  EPMPC8        Carousell    Philadelphia     Creta           Hyundai   \n",
      "2  SQKXAP          Carsome  North Carolina   Scorpio          Mahindra   \n",
      "3  PWP2QK          Trivett  North Carolina     Plato             Prazo   \n",
      "4  FNDDKM            Zupps        Portland     Dzire            Maruti   \n",
      "\n",
      "      Car Type Color    Gearbox  Number of Seats  Number of Doors  ...  \\\n",
      "0          SUV  Gray  Automatic                8                5  ...   \n",
      "1    Hatchback  Blue  Automatic                5                5  ...   \n",
      "2          SUV  Gray  Automatic                5                5  ...   \n",
      "3  Convertible  Gray  Automatic                2                2  ...   \n",
      "4        Sedan   Red  Automatic                5                5  ...   \n",
      "\n",
      "  Purchased Date  Car Sale Status   Sold Date  Purchased Price-$  \\\n",
      "0     2022-10-26          Un Sold  1970-01-01               8296   \n",
      "1     2017-08-25             Sold  2021-03-03               5659   \n",
      "2     2018-06-13          Un Sold  1970-01-01               8430   \n",
      "3     2023-05-14             Sold  2024-04-02               6919   \n",
      "4     2022-08-24          Un Sold  1970-01-01               6864   \n",
      "\n",
      "   Sold Price-$ Margin-% Sales Agent Name Sales Rating  Sales Commission-$  \\\n",
      "0             0        0           Pranav            1                   0   \n",
      "1          4770      -16           Vihaan            5                   0   \n",
      "2             0        0           Aarush            4                   0   \n",
      "3          7942       15          Anushka            1                 205   \n",
      "4             0        0            Pavan            3                   0   \n",
      "\n",
      "   Feedback  \n",
      "0   Average  \n",
      "1      Good  \n",
      "2      Good  \n",
      "3   Average  \n",
      "4      Poor  \n",
      "\n",
      "[5 rows x 25 columns]\n"
     ]
    }
   ],
   "source": [
    "print(\"First 5 Entries:\")\n",
    "print(df.head())"
   ]
  },
  {
   "cell_type": "code",
   "execution_count": 41,
   "id": "4ba64d5f",
   "metadata": {},
   "outputs": [
    {
     "name": "stdout",
     "output_type": "stream",
     "text": [
      "Last 5 Entries:\n",
      "          ID Distributor Name        Location Car Name Manufacturer Name  \\\n",
      "9995  ZHLCSG              APE           Texas    Yodha              Tata   \n",
      "9996  2BJE0Y          Carsome        Portland  Scorpio          Mahindra   \n",
      "9997  4OVJ83            Trust  North Carolina   Seltos               Kia   \n",
      "9998  M2ECXT          Carsome         Detroit    Swift            Maruti   \n",
      "9999  28W445              Olx        Portland    Swift            Maruti   \n",
      "\n",
      "       Car Type  Color    Gearbox  Number of Seats  Number of Doors  ...  \\\n",
      "9995      Truck   Blue     Manual                3                2  ...   \n",
      "9996        SUV  Black  Automatic                5                5  ...   \n",
      "9997  Hatchback  Black  Automatic                5                5  ...   \n",
      "9998      Sedan  Black  Automatic                5                4  ...   \n",
      "9999      Sedan  White  Automatic                5                4  ...   \n",
      "\n",
      "     Purchased Date  Car Sale Status   Sold Date  Purchased Price-$  \\\n",
      "9995     2023-12-29             Sold  2024-03-23               6102   \n",
      "9996     2019-06-13          Un Sold  1970-01-01               8108   \n",
      "9997     2020-02-17          Un Sold  1970-01-01               5945   \n",
      "9998     2018-05-03          Un Sold  1970-01-01               6893   \n",
      "9999     2024-05-18          Un Sold  1970-01-01               6771   \n",
      "\n",
      "      Sold Price-$ Margin-% Sales Agent Name Sales Rating  Sales Commission-$  \\\n",
      "9995          5041      -17          Supriya            3                   0   \n",
      "9996             0        0           Aarush            4                   0   \n",
      "9997             0        0           Pranav            4                   0   \n",
      "9998             0        0           Swathi            2                   0   \n",
      "9999             0        0           Vihaan            5                   0   \n",
      "\n",
      "       Feedback  \n",
      "9995  Excellent  \n",
      "9996  Excellent  \n",
      "9997       Poor  \n",
      "9998    Average  \n",
      "9999       Poor  \n",
      "\n",
      "[5 rows x 25 columns]\n"
     ]
    }
   ],
   "source": [
    "print(\"Last 5 Entries:\")\n",
    "print(df.tail())"
   ]
  },
  {
   "cell_type": "code",
   "execution_count": 42,
   "id": "dc5be95e",
   "metadata": {},
   "outputs": [
    {
     "name": "stdout",
     "output_type": "stream",
     "text": [
      "\n",
      "Dataset Information:\n",
      "<class 'pandas.core.frame.DataFrame'>\n",
      "RangeIndex: 10000 entries, 0 to 9999\n",
      "Data columns (total 25 columns):\n",
      " #   Column              Non-Null Count  Dtype \n",
      "---  ------              --------------  ----- \n",
      " 0   ID                  10000 non-null  object\n",
      " 1   Distributor Name    10000 non-null  object\n",
      " 2   Location            10000 non-null  object\n",
      " 3   Car Name            10000 non-null  object\n",
      " 4   Manufacturer Name   10000 non-null  object\n",
      " 5   Car Type            10000 non-null  object\n",
      " 6   Color               10000 non-null  object\n",
      " 7   Gearbox             10000 non-null  object\n",
      " 8   Number of Seats     10000 non-null  int64 \n",
      " 9   Number of Doors     10000 non-null  int64 \n",
      " 10  Energy              10000 non-null  object\n",
      " 11  Manufactured Year   10000 non-null  int64 \n",
      " 12  Price-$             10000 non-null  int64 \n",
      " 13  Mileage-KM          10000 non-null  int64 \n",
      " 14  Engine Power-HP     10000 non-null  int64 \n",
      " 15  Purchased Date      10000 non-null  object\n",
      " 16  Car Sale Status     10000 non-null  object\n",
      " 17  Sold Date           10000 non-null  object\n",
      " 18  Purchased Price-$   10000 non-null  int64 \n",
      " 19  Sold Price-$        10000 non-null  int64 \n",
      " 20  Margin-%            10000 non-null  int64 \n",
      " 21  Sales Agent Name    10000 non-null  object\n",
      " 22  Sales Rating        10000 non-null  int64 \n",
      " 23  Sales Commission-$  10000 non-null  int64 \n",
      " 24  Feedback            10000 non-null  object\n",
      "dtypes: int64(11), object(14)\n",
      "memory usage: 1.9+ MB\n"
     ]
    }
   ],
   "source": [
    "print(\"\\nDataset Information:\")\n",
    "df.info()"
   ]
  },
  {
   "cell_type": "code",
   "execution_count": 43,
   "id": "dbb58eca",
   "metadata": {},
   "outputs": [
    {
     "name": "stdout",
     "output_type": "stream",
     "text": [
      "Descriptive Statistics (Numeric):\n",
      "       Number of Seats  Number of Doors  Manufactured Year       Price-$  \\\n",
      "count     10000.000000     10000.000000       10000.000000  10000.000000   \n",
      "mean          4.786000         4.081000        2019.525200   7975.100000   \n",
      "std           1.466499         1.266807           2.886693   1018.829618   \n",
      "min           2.000000         2.000000        2015.000000   6000.000000   \n",
      "25%           4.000000         3.000000        2017.000000   7200.000000   \n",
      "50%           5.000000         5.000000        2020.000000   7900.000000   \n",
      "75%           5.000000         5.000000        2022.000000   8700.000000   \n",
      "max           8.000000         5.000000        2024.000000  10900.000000   \n",
      "\n",
      "         Mileage-KM  Engine Power-HP  Purchased Price-$  Sold Price-$  \\\n",
      "count  10000.000000     10000.000000       10000.000000  10000.000000   \n",
      "mean   45497.531800       143.344700        6720.617700   1487.776100   \n",
      "std    26867.899798        44.762333        1110.840531   2900.679397   \n",
      "min     1000.000000       100.000000        4015.000000      0.000000   \n",
      "25%    22530.250000       113.000000        5937.000000      0.000000   \n",
      "50%    44471.500000       120.000000        6685.000000      0.000000   \n",
      "75%    66292.500000       175.000000        7481.250000      0.000000   \n",
      "max    99983.000000       250.000000       10383.000000  11657.000000   \n",
      "\n",
      "           Margin-%  Sales Rating  Sales Commission-$  \n",
      "count  10000.000000  10000.000000        10000.000000  \n",
      "mean       0.428200      3.004500           17.809100  \n",
      "std        5.811697      1.408644           57.135284  \n",
      "min      -26.000000      1.000000            0.000000  \n",
      "25%        0.000000      2.000000            0.000000  \n",
      "50%        0.000000      3.000000            0.000000  \n",
      "75%        0.000000      4.000000            0.000000  \n",
      "max       33.000000      5.000000          308.000000  \n"
     ]
    }
   ],
   "source": [
    "print(\"Descriptive Statistics (Numeric):\")\n",
    "print(df.describe())"
   ]
  },
  {
   "cell_type": "code",
   "execution_count": 44,
   "id": "bf80c3d1",
   "metadata": {},
   "outputs": [
    {
     "name": "stdout",
     "output_type": "stream",
     "text": [
      "Descriptive Statistics (Categorical):\n",
      "            ID Distributor Name        Location Car Name Manufacturer Name  \\\n",
      "count    10000            10000           10000    10000             10000   \n",
      "unique   10000               21              17       13                 8   \n",
      "top     28W445           Cars24  North Carolina    Yodha            Maruti   \n",
      "freq         1              520            1075      830              2263   \n",
      "\n",
      "       Car Type  Color    Gearbox  Energy Purchased Date Car Sale Status  \\\n",
      "count     10000  10000      10000   10000          10000           10000   \n",
      "unique        5      5          2       4           3424               2   \n",
      "top         SUV   Blue  Automatic  Hybrid     2023-01-15         Un Sold   \n",
      "freq       3167   2353       5093    2536             10            7834   \n",
      "\n",
      "         Sold Date Sales Agent Name   Feedback  \n",
      "count        10000            10000      10000  \n",
      "unique        1412               27          4  \n",
      "top     1970-01-01          Krishna  Excellent  \n",
      "freq          7834              410       4117  \n"
     ]
    }
   ],
   "source": [
    "print(\"Descriptive Statistics (Categorical):\")\n",
    "print(df.describe(include=['object']))"
   ]
  },
  {
   "cell_type": "code",
   "execution_count": 45,
   "id": "d8e9bc0a",
   "metadata": {},
   "outputs": [
    {
     "name": "stdout",
     "output_type": "stream",
     "text": [
      "Number of duplicate Entries: 0\n"
     ]
    }
   ],
   "source": [
    "print(\"Number of duplicate Entries:\", df.duplicated().sum())"
   ]
  },
  {
   "cell_type": "code",
   "execution_count": 46,
   "id": "52ce123c",
   "metadata": {},
   "outputs": [
    {
     "data": {
      "application/vnd.microsoft.datawrangler.viewer.v0+json": {
       "columns": [
        {
         "name": "index",
         "rawType": "object",
         "type": "string"
        },
        {
         "name": "0",
         "rawType": "int64",
         "type": "integer"
        }
       ],
       "ref": "e8094042-28b6-48b6-9a26-300a822ebac9",
       "rows": [
        [
         "ID",
         "0"
        ],
        [
         "Distributor Name",
         "0"
        ],
        [
         "Location",
         "0"
        ],
        [
         "Car Name",
         "0"
        ],
        [
         "Manufacturer Name",
         "0"
        ],
        [
         "Car Type",
         "0"
        ],
        [
         "Color",
         "0"
        ],
        [
         "Gearbox",
         "0"
        ],
        [
         "Number of Seats",
         "0"
        ],
        [
         "Number of Doors",
         "0"
        ],
        [
         "Energy",
         "0"
        ],
        [
         "Manufactured Year",
         "0"
        ],
        [
         "Price-$",
         "0"
        ],
        [
         "Mileage-KM",
         "0"
        ],
        [
         "Engine Power-HP",
         "0"
        ],
        [
         "Purchased Date",
         "0"
        ],
        [
         "Car Sale Status",
         "0"
        ],
        [
         "Sold Date",
         "0"
        ],
        [
         "Purchased Price-$",
         "0"
        ],
        [
         "Sold Price-$",
         "0"
        ],
        [
         "Margin-%",
         "0"
        ],
        [
         "Sales Agent Name",
         "0"
        ],
        [
         "Sales Rating",
         "0"
        ],
        [
         "Sales Commission-$",
         "0"
        ],
        [
         "Feedback",
         "0"
        ]
       ],
       "shape": {
        "columns": 1,
        "rows": 25
       }
      },
      "text/plain": [
       "ID                    0\n",
       "Distributor Name      0\n",
       "Location              0\n",
       "Car Name              0\n",
       "Manufacturer Name     0\n",
       "Car Type              0\n",
       "Color                 0\n",
       "Gearbox               0\n",
       "Number of Seats       0\n",
       "Number of Doors       0\n",
       "Energy                0\n",
       "Manufactured Year     0\n",
       "Price-$               0\n",
       "Mileage-KM            0\n",
       "Engine Power-HP       0\n",
       "Purchased Date        0\n",
       "Car Sale Status       0\n",
       "Sold Date             0\n",
       "Purchased Price-$     0\n",
       "Sold Price-$          0\n",
       "Margin-%              0\n",
       "Sales Agent Name      0\n",
       "Sales Rating          0\n",
       "Sales Commission-$    0\n",
       "Feedback              0\n",
       "dtype: int64"
      ]
     },
     "execution_count": 46,
     "metadata": {},
     "output_type": "execute_result"
    }
   ],
   "source": [
    "df.isnull().sum()"
   ]
  },
  {
   "cell_type": "code",
   "execution_count": 47,
   "id": "f1e0516c",
   "metadata": {},
   "outputs": [
    {
     "data": {
      "text/plain": [
       "(10000, 25)"
      ]
     },
     "execution_count": 47,
     "metadata": {},
     "output_type": "execute_result"
    }
   ],
   "source": [
    "df.shape"
   ]
  },
  {
   "cell_type": "code",
   "execution_count": 48,
   "id": "573a794a",
   "metadata": {},
   "outputs": [
    {
     "data": {
      "text/plain": [
       "Index(['ID', 'Distributor Name', 'Location', 'Car Name', 'Manufacturer Name',\n",
       "       'Car Type', 'Color', 'Gearbox', 'Number of Seats', 'Number of Doors',\n",
       "       'Energy', 'Manufactured Year', 'Price-$', 'Mileage-KM',\n",
       "       'Engine Power-HP', 'Purchased Date', 'Car Sale Status', 'Sold Date',\n",
       "       'Purchased Price-$', 'Sold Price-$', 'Margin-%', 'Sales Agent Name',\n",
       "       'Sales Rating', 'Sales Commission-$', 'Feedback'],\n",
       "      dtype='object')"
      ]
     },
     "execution_count": 48,
     "metadata": {},
     "output_type": "execute_result"
    }
   ],
   "source": [
    "df.columns"
   ]
  },
  {
   "cell_type": "code",
   "execution_count": 49,
   "id": "343140c2",
   "metadata": {},
   "outputs": [
    {
     "name": "stdout",
     "output_type": "stream",
     "text": [
      "Duplicates removed. New dataset shape: (10000, 25)\n"
     ]
    }
   ],
   "source": [
    "df = df.drop_duplicates()\n",
    "print(\"Duplicates removed. New dataset shape:\", df.shape)"
   ]
  },
  {
   "cell_type": "code",
   "execution_count": 50,
   "id": "ae4378ab",
   "metadata": {},
   "outputs": [
    {
     "name": "stdout",
     "output_type": "stream",
     "text": [
      "Missing values per column:\n",
      " ID                    0\n",
      "Distributor Name      0\n",
      "Location              0\n",
      "Car Name              0\n",
      "Manufacturer Name     0\n",
      "Car Type              0\n",
      "Color                 0\n",
      "Gearbox               0\n",
      "Number of Seats       0\n",
      "Number of Doors       0\n",
      "Energy                0\n",
      "Manufactured Year     0\n",
      "Price-$               0\n",
      "Mileage-KM            0\n",
      "Engine Power-HP       0\n",
      "Purchased Date        0\n",
      "Car Sale Status       0\n",
      "Sold Date             0\n",
      "Purchased Price-$     0\n",
      "Sold Price-$          0\n",
      "Margin-%              0\n",
      "Sales Agent Name      0\n",
      "Sales Rating          0\n",
      "Sales Commission-$    0\n",
      "Feedback              0\n",
      "dtype: int64\n"
     ]
    }
   ],
   "source": [
    "print(\"Missing values per column:\\n\", df.isnull().sum())\n",
    "numeric_cols = df.select_dtypes(include=['int64', 'float64']).columns\n",
    "df[numeric_cols] = df[numeric_cols].fillna(df[numeric_cols].mean())\n",
    "categorical_cols = df.select_dtypes(include=['object']).columns\n",
    "for col in categorical_cols:\n",
    "    df[col] = df[col].fillna(df[col].mode()[0])\n"
   ]
  },
  {
   "cell_type": "code",
   "execution_count": 51,
   "id": "6f7e3c35",
   "metadata": {},
   "outputs": [
    {
     "data": {
      "text/plain": [
       "array(['Gray', 'Blue', 'Red', 'Black', 'White'], dtype=object)"
      ]
     },
     "execution_count": 51,
     "metadata": {},
     "output_type": "execute_result"
    }
   ],
   "source": [
    "df['Color'].unique()"
   ]
  },
  {
   "cell_type": "code",
   "execution_count": 52,
   "id": "ba0c0848",
   "metadata": {},
   "outputs": [
    {
     "data": {
      "application/vnd.microsoft.datawrangler.viewer.v0+json": {
       "columns": [
        {
         "name": "Manufacturer Name",
         "rawType": "object",
         "type": "string"
        },
        {
         "name": "('Sold Price-$', 'min')",
         "rawType": "int64",
         "type": "integer"
        },
        {
         "name": "('Sold Price-$', 'max')",
         "rawType": "int64",
         "type": "integer"
        },
        {
         "name": "('Sold Price-$', 'mean')",
         "rawType": "float64",
         "type": "float"
        },
        {
         "name": "('Feedback', 'count')",
         "rawType": "int64",
         "type": "integer"
        },
        {
         "name": "('Feedback', 'nunique')",
         "rawType": "int64",
         "type": "integer"
        }
       ],
       "ref": "37287443-d5f8-4592-a0df-da86aa404c1e",
       "rows": [
        [
         "Hyundai",
         "0",
         "8940",
         "1422.9030343007917",
         "1516",
         "4"
        ],
        [
         "Kia",
         "0",
         "8978",
         "1176.9042690815006",
         "773",
         "4"
        ],
        [
         "Mahindra",
         "0",
         "9986",
         "1404.1795994993743",
         "1598",
         "4"
        ],
        [
         "Maruti",
         "0",
         "9637",
         "1307.3256738842244",
         "2263",
         "4"
        ],
        [
         "Prazo",
         "0",
         "11657",
         "2060.6676470588236",
         "680",
         "4"
        ],
        [
         "Renault",
         "0",
         "10511",
         "1703.0745891276865",
         "791",
         "4"
        ],
        [
         "Tata",
         "0",
         "9335",
         "1615.4168674698794",
         "830",
         "4"
        ],
        [
         "Toyota",
         "0",
         "10479",
         "1626.4389928986443",
         "1549",
         "4"
        ]
       ],
       "shape": {
        "columns": 5,
        "rows": 8
       }
      },
      "text/html": [
       "<div>\n",
       "<style scoped>\n",
       "    .dataframe tbody tr th:only-of-type {\n",
       "        vertical-align: middle;\n",
       "    }\n",
       "\n",
       "    .dataframe tbody tr th {\n",
       "        vertical-align: top;\n",
       "    }\n",
       "\n",
       "    .dataframe thead tr th {\n",
       "        text-align: left;\n",
       "    }\n",
       "\n",
       "    .dataframe thead tr:last-of-type th {\n",
       "        text-align: right;\n",
       "    }\n",
       "</style>\n",
       "<table border=\"1\" class=\"dataframe\">\n",
       "  <thead>\n",
       "    <tr>\n",
       "      <th></th>\n",
       "      <th colspan=\"3\" halign=\"left\">Sold Price-$</th>\n",
       "      <th colspan=\"2\" halign=\"left\">Feedback</th>\n",
       "    </tr>\n",
       "    <tr>\n",
       "      <th></th>\n",
       "      <th>min</th>\n",
       "      <th>max</th>\n",
       "      <th>mean</th>\n",
       "      <th>count</th>\n",
       "      <th>nunique</th>\n",
       "    </tr>\n",
       "    <tr>\n",
       "      <th>Manufacturer Name</th>\n",
       "      <th></th>\n",
       "      <th></th>\n",
       "      <th></th>\n",
       "      <th></th>\n",
       "      <th></th>\n",
       "    </tr>\n",
       "  </thead>\n",
       "  <tbody>\n",
       "    <tr>\n",
       "      <th>Hyundai</th>\n",
       "      <td>0</td>\n",
       "      <td>8940</td>\n",
       "      <td>1422.903034</td>\n",
       "      <td>1516</td>\n",
       "      <td>4</td>\n",
       "    </tr>\n",
       "    <tr>\n",
       "      <th>Kia</th>\n",
       "      <td>0</td>\n",
       "      <td>8978</td>\n",
       "      <td>1176.904269</td>\n",
       "      <td>773</td>\n",
       "      <td>4</td>\n",
       "    </tr>\n",
       "    <tr>\n",
       "      <th>Mahindra</th>\n",
       "      <td>0</td>\n",
       "      <td>9986</td>\n",
       "      <td>1404.179599</td>\n",
       "      <td>1598</td>\n",
       "      <td>4</td>\n",
       "    </tr>\n",
       "    <tr>\n",
       "      <th>Maruti</th>\n",
       "      <td>0</td>\n",
       "      <td>9637</td>\n",
       "      <td>1307.325674</td>\n",
       "      <td>2263</td>\n",
       "      <td>4</td>\n",
       "    </tr>\n",
       "    <tr>\n",
       "      <th>Prazo</th>\n",
       "      <td>0</td>\n",
       "      <td>11657</td>\n",
       "      <td>2060.667647</td>\n",
       "      <td>680</td>\n",
       "      <td>4</td>\n",
       "    </tr>\n",
       "    <tr>\n",
       "      <th>Renault</th>\n",
       "      <td>0</td>\n",
       "      <td>10511</td>\n",
       "      <td>1703.074589</td>\n",
       "      <td>791</td>\n",
       "      <td>4</td>\n",
       "    </tr>\n",
       "    <tr>\n",
       "      <th>Tata</th>\n",
       "      <td>0</td>\n",
       "      <td>9335</td>\n",
       "      <td>1615.416867</td>\n",
       "      <td>830</td>\n",
       "      <td>4</td>\n",
       "    </tr>\n",
       "    <tr>\n",
       "      <th>Toyota</th>\n",
       "      <td>0</td>\n",
       "      <td>10479</td>\n",
       "      <td>1626.438993</td>\n",
       "      <td>1549</td>\n",
       "      <td>4</td>\n",
       "    </tr>\n",
       "  </tbody>\n",
       "</table>\n",
       "</div>"
      ],
      "text/plain": [
       "                  Sold Price-$                     Feedback        \n",
       "                           min    max         mean    count nunique\n",
       "Manufacturer Name                                                  \n",
       "Hyundai                      0   8940  1422.903034     1516       4\n",
       "Kia                          0   8978  1176.904269      773       4\n",
       "Mahindra                     0   9986  1404.179599     1598       4\n",
       "Maruti                       0   9637  1307.325674     2263       4\n",
       "Prazo                        0  11657  2060.667647      680       4\n",
       "Renault                      0  10511  1703.074589      791       4\n",
       "Tata                         0   9335  1615.416867      830       4\n",
       "Toyota                       0  10479  1626.438993     1549       4"
      ]
     },
     "execution_count": 52,
     "metadata": {},
     "output_type": "execute_result"
    }
   ],
   "source": [
    "x2 = df.groupby('Manufacturer Name').agg({\n",
    "    'Sold Price-$': ['min', 'max', 'mean'],\n",
    "    'Feedback': ['count', 'nunique']\n",
    "})\n",
    "x2"
   ]
  },
  {
   "cell_type": "code",
   "execution_count": 53,
   "id": "fa01c1b0",
   "metadata": {},
   "outputs": [
    {
     "data": {
      "application/vnd.microsoft.datawrangler.viewer.v0+json": {
       "columns": [
        {
         "name": "Manufacturer Name",
         "rawType": "object",
         "type": "string"
        },
        {
         "name": "count",
         "rawType": "int64",
         "type": "integer"
        }
       ],
       "ref": "43109a16-cab7-4006-baba-6b42e15f6d72",
       "rows": [
        [
         "Maruti",
         "2263"
        ],
        [
         "Mahindra",
         "1598"
        ],
        [
         "Toyota",
         "1549"
        ],
        [
         "Hyundai",
         "1516"
        ],
        [
         "Tata",
         "830"
        ],
        [
         "Renault",
         "791"
        ],
        [
         "Kia",
         "773"
        ],
        [
         "Prazo",
         "680"
        ]
       ],
       "shape": {
        "columns": 1,
        "rows": 8
       }
      },
      "text/plain": [
       "Manufacturer Name\n",
       "Maruti      2263\n",
       "Mahindra    1598\n",
       "Toyota      1549\n",
       "Hyundai     1516\n",
       "Tata         830\n",
       "Renault      791\n",
       "Kia          773\n",
       "Prazo        680\n",
       "Name: count, dtype: int64"
      ]
     },
     "execution_count": 53,
     "metadata": {},
     "output_type": "execute_result"
    }
   ],
   "source": [
    "df['Manufacturer Name'].value_counts()"
   ]
  },
  {
   "cell_type": "code",
   "execution_count": 54,
   "id": "cea9355f",
   "metadata": {},
   "outputs": [
    {
     "data": {
      "application/vnd.microsoft.datawrangler.viewer.v0+json": {
       "columns": [
        {
         "name": "Manufacturer Name",
         "rawType": "object",
         "type": "string"
        },
        {
         "name": "Purchased Price-$",
         "rawType": "float64",
         "type": "float"
        }
       ],
       "ref": "031e3157-23ce-4bad-a5b7-43d29dd27eb2",
       "rows": [
        [
         "Hyundai",
         "5870.96635883905"
        ],
        [
         "Kia",
         "5813.1617076326"
        ],
        [
         "Mahindra",
         "7324.031289111389"
        ],
        [
         "Maruti",
         "6159.878479893946"
        ],
        [
         "Prazo",
         "8399.902941176471"
        ],
        [
         "Renault",
         "7299.477876106194"
        ],
        [
         "Tata",
         "6827.349397590361"
        ],
        [
         "Toyota",
         "7111.743060038734"
        ]
       ],
       "shape": {
        "columns": 1,
        "rows": 8
       }
      },
      "text/plain": [
       "Manufacturer Name\n",
       "Hyundai     5870.966359\n",
       "Kia         5813.161708\n",
       "Mahindra    7324.031289\n",
       "Maruti      6159.878480\n",
       "Prazo       8399.902941\n",
       "Renault     7299.477876\n",
       "Tata        6827.349398\n",
       "Toyota      7111.743060\n",
       "Name: Purchased Price-$, dtype: float64"
      ]
     },
     "execution_count": 54,
     "metadata": {},
     "output_type": "execute_result"
    }
   ],
   "source": [
    "df.groupby('Manufacturer Name')['Purchased Price-$'].mean()"
   ]
  },
  {
   "cell_type": "code",
   "execution_count": 55,
   "id": "59606408",
   "metadata": {},
   "outputs": [
    {
     "data": {
      "application/vnd.microsoft.datawrangler.viewer.v0+json": {
       "columns": [
        {
         "name": "Manufacturer Name",
         "rawType": "object",
         "type": "string"
        },
        {
         "name": "('Purchased Price-$', 'min')",
         "rawType": "int64",
         "type": "integer"
        },
        {
         "name": "('Purchased Price-$', 'max')",
         "rawType": "int64",
         "type": "integer"
        },
        {
         "name": "('Purchased Price-$', 'mean')",
         "rawType": "float64",
         "type": "float"
        },
        {
         "name": "('Car Sale Status', 'count')",
         "rawType": "int64",
         "type": "integer"
        },
        {
         "name": "('Car Sale Status', 'nunique')",
         "rawType": "int64",
         "type": "integer"
        }
       ],
       "ref": "4ea28070-4229-4b78-a2e6-4a7a04afe50f",
       "rows": [
        [
         "Hyundai",
         "4102",
         "7898",
         "5870.96635883905",
         "1516",
         "2"
        ],
        [
         "Kia",
         "4114",
         "7889",
         "5813.1617076326",
         "773",
         "2"
        ],
        [
         "Mahindra",
         "5506",
         "9321",
         "7324.031289111389",
         "1598",
         "2"
        ],
        [
         "Maruti",
         "4015",
         "8377",
         "6159.878479893946",
         "2263",
         "2"
        ],
        [
         "Prazo",
         "6569",
         "10383",
         "8399.902941176471",
         "680",
         "2"
        ],
        [
         "Renault",
         "5538",
         "9344",
         "7299.477876106194",
         "791",
         "2"
        ],
        [
         "Tata",
         "5027",
         "8791",
         "6827.349397590361",
         "830",
         "2"
        ],
        [
         "Toyota",
         "5088",
         "9267",
         "7111.743060038734",
         "1549",
         "2"
        ]
       ],
       "shape": {
        "columns": 5,
        "rows": 8
       }
      },
      "text/html": [
       "<div>\n",
       "<style scoped>\n",
       "    .dataframe tbody tr th:only-of-type {\n",
       "        vertical-align: middle;\n",
       "    }\n",
       "\n",
       "    .dataframe tbody tr th {\n",
       "        vertical-align: top;\n",
       "    }\n",
       "\n",
       "    .dataframe thead tr th {\n",
       "        text-align: left;\n",
       "    }\n",
       "\n",
       "    .dataframe thead tr:last-of-type th {\n",
       "        text-align: right;\n",
       "    }\n",
       "</style>\n",
       "<table border=\"1\" class=\"dataframe\">\n",
       "  <thead>\n",
       "    <tr>\n",
       "      <th></th>\n",
       "      <th colspan=\"3\" halign=\"left\">Purchased Price-$</th>\n",
       "      <th colspan=\"2\" halign=\"left\">Car Sale Status</th>\n",
       "    </tr>\n",
       "    <tr>\n",
       "      <th></th>\n",
       "      <th>min</th>\n",
       "      <th>max</th>\n",
       "      <th>mean</th>\n",
       "      <th>count</th>\n",
       "      <th>nunique</th>\n",
       "    </tr>\n",
       "    <tr>\n",
       "      <th>Manufacturer Name</th>\n",
       "      <th></th>\n",
       "      <th></th>\n",
       "      <th></th>\n",
       "      <th></th>\n",
       "      <th></th>\n",
       "    </tr>\n",
       "  </thead>\n",
       "  <tbody>\n",
       "    <tr>\n",
       "      <th>Hyundai</th>\n",
       "      <td>4102</td>\n",
       "      <td>7898</td>\n",
       "      <td>5870.966359</td>\n",
       "      <td>1516</td>\n",
       "      <td>2</td>\n",
       "    </tr>\n",
       "    <tr>\n",
       "      <th>Kia</th>\n",
       "      <td>4114</td>\n",
       "      <td>7889</td>\n",
       "      <td>5813.161708</td>\n",
       "      <td>773</td>\n",
       "      <td>2</td>\n",
       "    </tr>\n",
       "    <tr>\n",
       "      <th>Mahindra</th>\n",
       "      <td>5506</td>\n",
       "      <td>9321</td>\n",
       "      <td>7324.031289</td>\n",
       "      <td>1598</td>\n",
       "      <td>2</td>\n",
       "    </tr>\n",
       "    <tr>\n",
       "      <th>Maruti</th>\n",
       "      <td>4015</td>\n",
       "      <td>8377</td>\n",
       "      <td>6159.878480</td>\n",
       "      <td>2263</td>\n",
       "      <td>2</td>\n",
       "    </tr>\n",
       "    <tr>\n",
       "      <th>Prazo</th>\n",
       "      <td>6569</td>\n",
       "      <td>10383</td>\n",
       "      <td>8399.902941</td>\n",
       "      <td>680</td>\n",
       "      <td>2</td>\n",
       "    </tr>\n",
       "    <tr>\n",
       "      <th>Renault</th>\n",
       "      <td>5538</td>\n",
       "      <td>9344</td>\n",
       "      <td>7299.477876</td>\n",
       "      <td>791</td>\n",
       "      <td>2</td>\n",
       "    </tr>\n",
       "    <tr>\n",
       "      <th>Tata</th>\n",
       "      <td>5027</td>\n",
       "      <td>8791</td>\n",
       "      <td>6827.349398</td>\n",
       "      <td>830</td>\n",
       "      <td>2</td>\n",
       "    </tr>\n",
       "    <tr>\n",
       "      <th>Toyota</th>\n",
       "      <td>5088</td>\n",
       "      <td>9267</td>\n",
       "      <td>7111.743060</td>\n",
       "      <td>1549</td>\n",
       "      <td>2</td>\n",
       "    </tr>\n",
       "  </tbody>\n",
       "</table>\n",
       "</div>"
      ],
      "text/plain": [
       "                  Purchased Price-$                     Car Sale Status  \\\n",
       "                                min    max         mean           count   \n",
       "Manufacturer Name                                                         \n",
       "Hyundai                        4102   7898  5870.966359            1516   \n",
       "Kia                            4114   7889  5813.161708             773   \n",
       "Mahindra                       5506   9321  7324.031289            1598   \n",
       "Maruti                         4015   8377  6159.878480            2263   \n",
       "Prazo                          6569  10383  8399.902941             680   \n",
       "Renault                        5538   9344  7299.477876             791   \n",
       "Tata                           5027   8791  6827.349398             830   \n",
       "Toyota                         5088   9267  7111.743060            1549   \n",
       "\n",
       "                           \n",
       "                  nunique  \n",
       "Manufacturer Name          \n",
       "Hyundai                 2  \n",
       "Kia                     2  \n",
       "Mahindra                2  \n",
       "Maruti                  2  \n",
       "Prazo                   2  \n",
       "Renault                 2  \n",
       "Tata                    2  \n",
       "Toyota                  2  "
      ]
     },
     "execution_count": 55,
     "metadata": {},
     "output_type": "execute_result"
    }
   ],
   "source": [
    "x = df.groupby('Manufacturer Name').agg({\n",
    "\t'Purchased Price-$': ['min', 'max', 'mean'],\n",
    "\t'Car Sale Status': ['count', 'nunique']\n",
    "})\n",
    "x"
   ]
  },
  {
   "cell_type": "code",
   "execution_count": 56,
   "id": "488d2b29",
   "metadata": {},
   "outputs": [
    {
     "data": {
      "application/vnd.microsoft.datawrangler.viewer.v0+json": {
       "columns": [
        {
         "name": "index",
         "rawType": "int64",
         "type": "integer"
        },
        {
         "name": "ID",
         "rawType": "object",
         "type": "string"
        },
        {
         "name": "Distributor Name",
         "rawType": "object",
         "type": "string"
        },
        {
         "name": "Location",
         "rawType": "object",
         "type": "string"
        },
        {
         "name": "Car Name",
         "rawType": "object",
         "type": "string"
        },
        {
         "name": "Manufacturer Name",
         "rawType": "object",
         "type": "string"
        },
        {
         "name": "Car Type",
         "rawType": "object",
         "type": "string"
        },
        {
         "name": "Color",
         "rawType": "object",
         "type": "string"
        },
        {
         "name": "Gearbox",
         "rawType": "object",
         "type": "string"
        },
        {
         "name": "Number of Seats",
         "rawType": "int64",
         "type": "integer"
        },
        {
         "name": "Number of Doors",
         "rawType": "int64",
         "type": "integer"
        },
        {
         "name": "Energy",
         "rawType": "object",
         "type": "string"
        },
        {
         "name": "Manufactured Year",
         "rawType": "int64",
         "type": "integer"
        },
        {
         "name": "Price-$",
         "rawType": "int64",
         "type": "integer"
        },
        {
         "name": "Mileage-KM",
         "rawType": "int64",
         "type": "integer"
        },
        {
         "name": "Engine Power-HP",
         "rawType": "int64",
         "type": "integer"
        },
        {
         "name": "Purchased Date",
         "rawType": "object",
         "type": "string"
        },
        {
         "name": "Car Sale Status",
         "rawType": "object",
         "type": "string"
        },
        {
         "name": "Sold Date",
         "rawType": "object",
         "type": "string"
        },
        {
         "name": "Purchased Price-$",
         "rawType": "int64",
         "type": "integer"
        },
        {
         "name": "Sold Price-$",
         "rawType": "int64",
         "type": "integer"
        },
        {
         "name": "Margin-%",
         "rawType": "int64",
         "type": "integer"
        },
        {
         "name": "Sales Agent Name",
         "rawType": "object",
         "type": "string"
        },
        {
         "name": "Sales Rating",
         "rawType": "int64",
         "type": "integer"
        },
        {
         "name": "Sales Commission-$",
         "rawType": "int64",
         "type": "integer"
        },
        {
         "name": "Feedback",
         "rawType": "float64",
         "type": "float"
        },
        {
         "name": "Price per feedback",
         "rawType": "float64",
         "type": "float"
        }
       ],
       "ref": "706928c5-ab05-4fdd-8068-d5871ea30e53",
       "rows": [
        [
         "0",
         "O2KE18",
         "Carmudi",
         "California",
         "Fortuner",
         "Toyota",
         "SUV",
         "Gray",
         "Automatic",
         "8",
         "5",
         "Hybrid",
         "2021",
         "8800",
         "67948",
         "200",
         "2022-10-26",
         "Un Sold",
         "1970-01-01",
         "8296",
         "0",
         "0",
         "Pranav",
         "1",
         "0",
         null,
         null
        ],
        [
         "1",
         "EPMPC8",
         "Carousell",
         "Philadelphia",
         "Creta",
         "Hyundai",
         "Hatchback",
         "Blue",
         "Automatic",
         "5",
         "5",
         "Hybrid",
         "2018",
         "7600",
         "34637",
         "113",
         "2017-08-25",
         "Sold",
         "2021-03-03",
         "5659",
         "4770",
         "-16",
         "Vihaan",
         "5",
         "0",
         null,
         null
        ],
        [
         "2",
         "SQKXAP",
         "Carsome",
         "North Carolina",
         "Scorpio",
         "Mahindra",
         "SUV",
         "Gray",
         "Automatic",
         "5",
         "5",
         "Hybrid",
         "2016",
         "9300",
         "33274",
         "120",
         "2018-06-13",
         "Un Sold",
         "1970-01-01",
         "8430",
         "0",
         "0",
         "Aarush",
         "4",
         "0",
         null,
         null
        ],
        [
         "3",
         "PWP2QK",
         "Trivett",
         "North Carolina",
         "Plato",
         "Prazo",
         "Convertible",
         "Gray",
         "Automatic",
         "2",
         "2",
         "Petrol",
         "2021",
         "8800",
         "46250",
         "250",
         "2023-05-14",
         "Sold",
         "2024-04-02",
         "6919",
         "7942",
         "15",
         "Anushka",
         "1",
         "205",
         null,
         null
        ],
        [
         "4",
         "FNDDKM",
         "Zupps",
         "Portland",
         "Dzire",
         "Maruti",
         "Sedan",
         "Red",
         "Automatic",
         "5",
         "5",
         "Electric",
         "2019",
         "8500",
         "29323",
         "100",
         "2022-08-24",
         "Un Sold",
         "1970-01-01",
         "6864",
         "0",
         "0",
         "Pavan",
         "3",
         "0",
         null,
         null
        ],
        [
         "5",
         "I5D584",
         "Zupps",
         "Denver",
         "Fortuner",
         "Toyota",
         "SUV",
         "Red",
         "Automatic",
         "8",
         "5",
         "Electric",
         "2021",
         "9300",
         "38716",
         "200",
         "2022-06-05",
         "Sold",
         "2024-11-02",
         "8533",
         "9929",
         "16",
         "Preeti",
         "5",
         "279",
         null,
         null
        ],
        [
         "6",
         "KPRE75",
         "Cars24",
         "New York",
         "Thar",
         "Mahindra",
         "SUV",
         "Gray",
         "Automatic",
         "5",
         "3",
         "Hybrid",
         "2015",
         "9400",
         "83208",
         "130",
         "2021-09-28",
         "Un Sold",
         "1970-01-01",
         "8470",
         "0",
         "0",
         "Pavan",
         "1",
         "0",
         null,
         null
        ],
        [
         "7",
         "8C1O0B",
         "Ahg",
         "Denver",
         "Etriga",
         "Maruti",
         "Hatchback",
         "Black",
         "Automatic",
         "4",
         "5",
         "Hybrid",
         "2023",
         "7100",
         "21926",
         "103",
         "2020-09-26",
         "Un Sold",
         "1970-01-01",
         "5143",
         "0",
         "0",
         "Shiva",
         "4",
         "0",
         null,
         null
        ],
        [
         "8",
         "KCVVNQ",
         "Olx",
         "Detroit",
         "Yodha",
         "Tata",
         "Truck",
         "Blue",
         "Automatic",
         "3",
         "2",
         "Hybrid",
         "2020",
         "8400",
         "53179",
         "100",
         "2023-06-01",
         "Un Sold",
         "1970-01-01",
         "7375",
         "0",
         "0",
         "Sai",
         "5",
         "0",
         null,
         null
        ],
        [
         "9",
         "HGW6RK",
         "Nufor",
         "Tennessee",
         "Creta",
         "Hyundai",
         "Hatchback",
         "Blue",
         "Manual",
         "5",
         "5",
         "Petrol",
         "2018",
         "6600",
         "90765",
         "113",
         "2018-05-24",
         "Un Sold",
         "1970-01-01",
         "5324",
         "0",
         "0",
         "Shailaja",
         "5",
         "0",
         null,
         null
        ],
        [
         "10",
         "C9QNYY",
         "Carmudi",
         "Texas",
         "Etriga",
         "Maruti",
         "Hatchback",
         "Black",
         "Manual",
         "4",
         "5",
         "Electric",
         "2017",
         "8200",
         "53385",
         "103",
         "2021-03-20",
         "Un Sold",
         "1970-01-01",
         "6730",
         "0",
         "0",
         "Dhruv",
         "5",
         "0",
         null,
         null
        ],
        [
         "11",
         "WGSFJS",
         "Carsome",
         "New York",
         "i20",
         "Hyundai",
         "Hatchback",
         "Red",
         "Automatic",
         "4",
         "5",
         "Electric",
         "2024",
         "7500",
         "2243",
         "120",
         "2018-01-22",
         "Un Sold",
         "1970-01-01",
         "6504",
         "0",
         "0",
         "Bhavani",
         "5",
         "0",
         null,
         null
        ],
        [
         "12",
         "MLQ5LC",
         "Trust",
         "Tennessee",
         "Kags",
         "Renault",
         "SUV",
         "Red",
         "Automatic",
         "7",
         "5",
         "Electric",
         "2017",
         "9700",
         "43284",
         "175",
         "2015-03-19",
         "Un Sold",
         "1970-01-01",
         "8199",
         "0",
         "0",
         "Supriya",
         "1",
         "0",
         null,
         null
        ],
        [
         "13",
         "SB8EYK",
         "Olx",
         "Oklahoma",
         "Kags",
         "Renault",
         "SUV",
         "Black",
         "Manual",
         "7",
         "5",
         "Petrol",
         "2016",
         "8300",
         "95645",
         "175",
         "2021-12-06",
         "Un Sold",
         "1970-01-01",
         "6347",
         "0",
         "0",
         "Krishna",
         "5",
         "0",
         null,
         null
        ],
        [
         "14",
         "IKYB6R",
         "Nufor",
         "Tucson",
         "Scorpio",
         "Mahindra",
         "SUV",
         "Red",
         "Automatic",
         "5",
         "5",
         "Electric",
         "2021",
         "9300",
         "95835",
         "120",
         "2022-12-31",
         "Sold",
         "2022-10-22",
         "8557",
         "8896",
         "4",
         "Swathi",
         "2",
         "68",
         null,
         null
        ],
        [
         "15",
         "80TZC6",
         "Zupps",
         "Chicago",
         "Thar",
         "Mahindra",
         "SUV",
         "Blue",
         "Automatic",
         "5",
         "3",
         "Electric",
         "2023",
         "9100",
         "51909",
         "130",
         "2021-01-05",
         "Un Sold",
         "1970-01-01",
         "7211",
         "0",
         "0",
         "Karan",
         "3",
         "0",
         null,
         null
        ],
        [
         "16",
         "TQ9T5W",
         "Olx",
         "New York",
         "Creta",
         "Hyundai",
         "Hatchback",
         "Gray",
         "Automatic",
         "5",
         "5",
         "Petrol",
         "2021",
         "6300",
         "7203",
         "113",
         "2024-02-01",
         "Un Sold",
         "1970-01-01",
         "5741",
         "0",
         "0",
         "Shiva",
         "3",
         "0",
         null,
         null
        ],
        [
         "17",
         "U7L0OA",
         "Carmix",
         "Philadelphia",
         "Creta",
         "Hyundai",
         "Hatchback",
         "Red",
         "Automatic",
         "5",
         "5",
         "Diesel",
         "2016",
         "6900",
         "66534",
         "113",
         "2022-07-15",
         "Sold",
         "2024-05-10",
         "6382",
         "5418",
         "-15",
         "Vishwajeet",
         "1",
         "0",
         null,
         null
        ],
        [
         "18",
         "KFDPP1",
         "Oto",
         "Madison",
         "Kags",
         "Renault",
         "SUV",
         "White",
         "Automatic",
         "7",
         "5",
         "Hybrid",
         "2024",
         "8500",
         "18722",
         "175",
         "2021-09-22",
         "Un Sold",
         "1970-01-01",
         "7127",
         "0",
         "0",
         "Shiva",
         "4",
         "0",
         null,
         null
        ],
        [
         "19",
         "Y5SSOY",
         "Carousell",
         "California",
         "Yodha",
         "Tata",
         "Truck",
         "Blue",
         "Automatic",
         "3",
         "2",
         "Electric",
         "2024",
         "8500",
         "57983",
         "100",
         "2015-03-07",
         "Un Sold",
         "1970-01-01",
         "6835",
         "0",
         "0",
         "Rithvik",
         "2",
         "0",
         null,
         null
        ],
        [
         "20",
         "8MGCUX",
         "Knox",
         "New York",
         "Thar",
         "Mahindra",
         "SUV",
         "Red",
         "Automatic",
         "5",
         "3",
         "Electric",
         "2020",
         "9400",
         "70137",
         "130",
         "2019-08-17",
         "Un Sold",
         "1970-01-01",
         "7506",
         "0",
         "0",
         "Krishna",
         "3",
         "0",
         null,
         null
        ],
        [
         "21",
         "ABOXIG",
         "Olx",
         "North Carolina",
         "Seltos",
         "Kia",
         "Hatchback",
         "Gray",
         "Manual",
         "5",
         "5",
         "Electric",
         "2023",
         "7600",
         "23346",
         "150",
         "2023-03-23",
         "Un Sold",
         "1970-01-01",
         "6741",
         "0",
         "0",
         "Dhruv",
         "5",
         "0",
         null,
         null
        ],
        [
         "22",
         "VZ5MUR",
         "Automart",
         "Portland",
         "Scorpio",
         "Mahindra",
         "SUV",
         "Blue",
         "Manual",
         "5",
         "5",
         "Hybrid",
         "2021",
         "8800",
         "48354",
         "120",
         "2015-09-25",
         "Un Sold",
         "1970-01-01",
         "7139",
         "0",
         "0",
         "Shruthi",
         "5",
         "0",
         null,
         null
        ],
        [
         "23",
         "5DJ13V",
         "Motor",
         "Oklahoma",
         "Creta",
         "Hyundai",
         "Hatchback",
         "Black",
         "Manual",
         "5",
         "5",
         "Diesel",
         "2016",
         "6900",
         "95284",
         "113",
         "2016-06-04",
         "Un Sold",
         "1970-01-01",
         "5825",
         "0",
         "0",
         "Anushka",
         "5",
         "0",
         null,
         null
        ],
        [
         "24",
         "DGSNQW",
         "Zupps",
         "Tucson",
         "Scorpio",
         "Mahindra",
         "SUV",
         "Gray",
         "Automatic",
         "5",
         "5",
         "Diesel",
         "2018",
         "8200",
         "48596",
         "120",
         "2019-10-25",
         "Un Sold",
         "1970-01-01",
         "6427",
         "0",
         "0",
         "Shruthi",
         "5",
         "0",
         null,
         null
        ],
        [
         "25",
         "DOXE81",
         "Marchi",
         "Columbus",
         "Yodha",
         "Tata",
         "Truck",
         "Red",
         "Automatic",
         "3",
         "2",
         "Electric",
         "2024",
         "8500",
         "61262",
         "100",
         "2018-02-17",
         "Sold",
         "2023-08-15",
         "7151",
         "8688",
         "21",
         "Shilpa",
         "3",
         "307",
         null,
         null
        ],
        [
         "26",
         "SRVVYP",
         "Motor",
         "Chicago",
         "Hilux",
         "Toyota",
         "Truck",
         "Blue",
         "Automatic",
         "4",
         "2",
         "Diesel",
         "2024",
         "7100",
         "64959",
         "200",
         "2021-10-12",
         "Un Sold",
         "1970-01-01",
         "5969",
         "0",
         "0",
         "Rithvik",
         "3",
         "0",
         null,
         null
        ],
        [
         "27",
         "AMNVDL",
         "Carro",
         "Oklahoma",
         "Yodha",
         "Tata",
         "Truck",
         "White",
         "Manual",
         "3",
         "2",
         "Electric",
         "2022",
         "8700",
         "72044",
         "100",
         "2023-12-13",
         "Un Sold",
         "1970-01-01",
         "7757",
         "0",
         "0",
         "Hariom",
         "5",
         "0",
         null,
         null
        ],
        [
         "28",
         "CTFM5T",
         "Automart",
         "Utah",
         "Scorpio",
         "Mahindra",
         "SUV",
         "Red",
         "Manual",
         "5",
         "5",
         "Diesel",
         "2016",
         "8400",
         "37504",
         "120",
         "2017-09-16",
         "Un Sold",
         "1970-01-01",
         "7704",
         "0",
         "0",
         "Shiva",
         "2",
         "0",
         null,
         null
        ],
        [
         "29",
         "6ZPI5C",
         "Olx",
         "Oklahoma",
         "Hilux",
         "Toyota",
         "Truck",
         "Black",
         "Automatic",
         "4",
         "2",
         "Petrol",
         "2017",
         "7700",
         "21375",
         "200",
         "2016-03-09",
         "Un Sold",
         "1970-01-01",
         "6452",
         "0",
         "0",
         "Piyush",
         "4",
         "0",
         null,
         null
        ],
        [
         "30",
         "VCTDFO",
         "Carousell",
         "Denver",
         "Seltos",
         "Kia",
         "Hatchback",
         "White",
         "Manual",
         "5",
         "5",
         "Diesel",
         "2018",
         "6700",
         "33498",
         "150",
         "2018-12-29",
         "Un Sold",
         "1970-01-01",
         "6154",
         "0",
         "0",
         "Piyush",
         "5",
         "0",
         null,
         null
        ],
        [
         "31",
         "6F9Q0G",
         "Carro",
         "Tennessee",
         "i20",
         "Hyundai",
         "Hatchback",
         "White",
         "Manual",
         "4",
         "5",
         "Electric",
         "2017",
         "8200",
         "32382",
         "120",
         "2023-08-04",
         "Sold",
         "2024-01-12",
         "7082",
         "8063",
         "14",
         "Piyush",
         "5",
         "196",
         null,
         null
        ],
        [
         "32",
         "9SB70Z",
         "Trust",
         "North Carolina",
         "Etriga",
         "Maruti",
         "Hatchback",
         "Black",
         "Automatic",
         "4",
         "5",
         "Diesel",
         "2016",
         "6900",
         "81424",
         "103",
         "2023-01-02",
         "Un Sold",
         "1970-01-01",
         "5713",
         "0",
         "0",
         "Pranav",
         "3",
         "0",
         null,
         null
        ],
        [
         "33",
         "A4QPZ0",
         "Skipper",
         "Tucson",
         "Hilux",
         "Toyota",
         "Truck",
         "White",
         "Automatic",
         "4",
         "2",
         "Electric",
         "2019",
         "9000",
         "59004",
         "200",
         "2016-02-29",
         "Un Sold",
         "1970-01-01",
         "8330",
         "0",
         "0",
         "Ram",
         "1",
         "0",
         null,
         null
        ],
        [
         "34",
         "KBTPCZ",
         "Cars24",
         "Columbus",
         "Seltos",
         "Kia",
         "Hatchback",
         "Black",
         "Automatic",
         "5",
         "5",
         "Diesel",
         "2015",
         "7000",
         "46237",
         "150",
         "2016-05-23",
         "Un Sold",
         "1970-01-01",
         "6281",
         "0",
         "0",
         "Supriya",
         "2",
         "0",
         null,
         null
        ],
        [
         "35",
         "HBK2SG",
         "APE",
         "California",
         "Thar",
         "Mahindra",
         "SUV",
         "White",
         "Manual",
         "5",
         "3",
         "Diesel",
         "2024",
         "7600",
         "46573",
         "130",
         "2019-06-10",
         "Un Sold",
         "1970-01-01",
         "6615",
         "0",
         "0",
         "Karan",
         "1",
         "0",
         null,
         null
        ],
        [
         "36",
         "STWK6M",
         "Nufor",
         "California",
         "Etriga",
         "Maruti",
         "Hatchback",
         "Blue",
         "Automatic",
         "4",
         "5",
         "Electric",
         "2017",
         "8200",
         "2775",
         "103",
         "2015-11-04",
         "Un Sold",
         "1970-01-01",
         "6943",
         "0",
         "0",
         "Piyush",
         "2",
         "0",
         null,
         null
        ],
        [
         "37",
         "FODIG1",
         "Trivett",
         "Texas",
         "Yodha",
         "Tata",
         "Truck",
         "White",
         "Manual",
         "3",
         "2",
         "Petrol",
         "2017",
         "7700",
         "40526",
         "100",
         "2023-10-09",
         "Un Sold",
         "1970-01-01",
         "7066",
         "0",
         "0",
         "Krishna",
         "5",
         "0",
         null,
         null
        ],
        [
         "38",
         "U0UZ5W",
         "Zupps",
         "Chicago",
         "Dzire",
         "Maruti",
         "Sedan",
         "Black",
         "Manual",
         "5",
         "5",
         "Hybrid",
         "2022",
         "7700",
         "89475",
         "100",
         "2021-12-02",
         "Un Sold",
         "1970-01-01",
         "6067",
         "0",
         "0",
         "Sweta",
         "3",
         "0",
         null,
         null
        ],
        [
         "39",
         "G6ZJA5",
         "Carmudi",
         "Utah",
         "Etriga",
         "Maruti",
         "Hatchback",
         "White",
         "Manual",
         "4",
         "5",
         "Electric",
         "2019",
         "8000",
         "27587",
         "103",
         "2020-07-01",
         "Sold",
         "2020-04-03",
         "7484",
         "8112",
         "8",
         "Vihaan",
         "1",
         "126",
         null,
         null
        ],
        [
         "40",
         "7ZI8WJ",
         "Carousell",
         "Denver",
         "Kags",
         "Renault",
         "SUV",
         "Black",
         "Automatic",
         "7",
         "5",
         "Petrol",
         "2024",
         "7500",
         "96936",
         "175",
         "2023-03-22",
         "Un Sold",
         "1970-01-01",
         "6772",
         "0",
         "0",
         "Dhruv",
         "1",
         "0",
         null,
         null
        ],
        [
         "41",
         "0Z4J3X",
         "Trust",
         "Tucson",
         "Yodha",
         "Tata",
         "Truck",
         "Blue",
         "Manual",
         "3",
         "2",
         "Petrol",
         "2018",
         "7600",
         "19557",
         "100",
         "2015-03-05",
         "Un Sold",
         "1970-01-01",
         "6903",
         "0",
         "0",
         "Swapna",
         "5",
         "0",
         null,
         null
        ],
        [
         "42",
         "QJDNL5",
         "Marchi",
         "Chicago",
         "Yodha",
         "Tata",
         "Truck",
         "Gray",
         "Manual",
         "3",
         "2",
         "Diesel",
         "2024",
         "7100",
         "63187",
         "100",
         "2015-02-12",
         "Un Sold",
         "1970-01-01",
         "6095",
         "0",
         "0",
         "Shilpa",
         "4",
         "0",
         null,
         null
        ],
        [
         "43",
         "94FWV1",
         "Trivett",
         "California",
         "Kags",
         "Renault",
         "SUV",
         "Red",
         "Automatic",
         "7",
         "5",
         "Petrol",
         "2017",
         "8200",
         "62920",
         "175",
         "2023-10-13",
         "Un Sold",
         "1970-01-01",
         "6389",
         "0",
         "0",
         "Sai",
         "5",
         "0",
         null,
         null
        ],
        [
         "44",
         "QJ5DOU",
         "Olx",
         "Philadelphia",
         "Fortuner",
         "Toyota",
         "SUV",
         "Black",
         "Manual",
         "8",
         "5",
         "Hybrid",
         "2022",
         "8700",
         "52524",
         "200",
         "2017-08-04",
         "Sold",
         "2022-09-01",
         "8018",
         "8423",
         "5",
         "Rithvik",
         "3",
         "81",
         null,
         null
        ],
        [
         "45",
         "RHM7I1",
         "Knox",
         "Tennessee",
         "Fortuner",
         "Toyota",
         "SUV",
         "Blue",
         "Automatic",
         "8",
         "5",
         "Diesel",
         "2024",
         "7600",
         "36148",
         "200",
         "2019-06-03",
         "Un Sold",
         "1970-01-01",
         "6944",
         "0",
         "0",
         "Vishwajeet",
         "1",
         "0",
         null,
         null
        ],
        [
         "46",
         "M1ZIB2",
         "Kamkar",
         "Florida",
         "Fortuner",
         "Toyota",
         "SUV",
         "Gray",
         "Automatic",
         "8",
         "5",
         "Petrol",
         "2020",
         "7900",
         "35124",
         "200",
         "2019-12-07",
         "Un Sold",
         "1970-01-01",
         "5928",
         "0",
         "0",
         "Sai",
         "2",
         "0",
         null,
         null
        ],
        [
         "47",
         "ORSWJU",
         "Carsome",
         "Columbus",
         "Etriga",
         "Maruti",
         "Hatchback",
         "Gray",
         "Manual",
         "4",
         "5",
         "Diesel",
         "2017",
         "6800",
         "55505",
         "103",
         "2020-09-25",
         "Un Sold",
         "1970-01-01",
         "6090",
         "0",
         "0",
         "Anushka",
         "4",
         "0",
         null,
         null
        ],
        [
         "48",
         "4WLWYI",
         "Trust",
         "Utah",
         "Scorpio",
         "Mahindra",
         "SUV",
         "Blue",
         "Manual",
         "5",
         "5",
         "Diesel",
         "2024",
         "7600",
         "18683",
         "120",
         "2021-11-12",
         "Un Sold",
         "1970-01-01",
         "6922",
         "0",
         "0",
         "Anushka",
         "1",
         "0",
         null,
         null
        ],
        [
         "49",
         "2D2S6D",
         "Carro",
         "Denver",
         "Seltos",
         "Kia",
         "Hatchback",
         "Red",
         "Automatic",
         "5",
         "5",
         "Electric",
         "2020",
         "7900",
         "20977",
         "150",
         "2019-05-09",
         "Un Sold",
         "1970-01-01",
         "7400",
         "0",
         "0",
         "Anushka",
         "3",
         "0",
         null,
         null
        ]
       ],
       "shape": {
        "columns": 26,
        "rows": 10000
       }
      },
      "text/html": [
       "<div>\n",
       "<style scoped>\n",
       "    .dataframe tbody tr th:only-of-type {\n",
       "        vertical-align: middle;\n",
       "    }\n",
       "\n",
       "    .dataframe tbody tr th {\n",
       "        vertical-align: top;\n",
       "    }\n",
       "\n",
       "    .dataframe thead th {\n",
       "        text-align: right;\n",
       "    }\n",
       "</style>\n",
       "<table border=\"1\" class=\"dataframe\">\n",
       "  <thead>\n",
       "    <tr style=\"text-align: right;\">\n",
       "      <th></th>\n",
       "      <th>ID</th>\n",
       "      <th>Distributor Name</th>\n",
       "      <th>Location</th>\n",
       "      <th>Car Name</th>\n",
       "      <th>Manufacturer Name</th>\n",
       "      <th>Car Type</th>\n",
       "      <th>Color</th>\n",
       "      <th>Gearbox</th>\n",
       "      <th>Number of Seats</th>\n",
       "      <th>Number of Doors</th>\n",
       "      <th>...</th>\n",
       "      <th>Car Sale Status</th>\n",
       "      <th>Sold Date</th>\n",
       "      <th>Purchased Price-$</th>\n",
       "      <th>Sold Price-$</th>\n",
       "      <th>Margin-%</th>\n",
       "      <th>Sales Agent Name</th>\n",
       "      <th>Sales Rating</th>\n",
       "      <th>Sales Commission-$</th>\n",
       "      <th>Feedback</th>\n",
       "      <th>Price per feedback</th>\n",
       "    </tr>\n",
       "  </thead>\n",
       "  <tbody>\n",
       "    <tr>\n",
       "      <th>0</th>\n",
       "      <td>O2KE18</td>\n",
       "      <td>Carmudi</td>\n",
       "      <td>California</td>\n",
       "      <td>Fortuner</td>\n",
       "      <td>Toyota</td>\n",
       "      <td>SUV</td>\n",
       "      <td>Gray</td>\n",
       "      <td>Automatic</td>\n",
       "      <td>8</td>\n",
       "      <td>5</td>\n",
       "      <td>...</td>\n",
       "      <td>Un Sold</td>\n",
       "      <td>1970-01-01</td>\n",
       "      <td>8296</td>\n",
       "      <td>0</td>\n",
       "      <td>0</td>\n",
       "      <td>Pranav</td>\n",
       "      <td>1</td>\n",
       "      <td>0</td>\n",
       "      <td>NaN</td>\n",
       "      <td>NaN</td>\n",
       "    </tr>\n",
       "    <tr>\n",
       "      <th>1</th>\n",
       "      <td>EPMPC8</td>\n",
       "      <td>Carousell</td>\n",
       "      <td>Philadelphia</td>\n",
       "      <td>Creta</td>\n",
       "      <td>Hyundai</td>\n",
       "      <td>Hatchback</td>\n",
       "      <td>Blue</td>\n",
       "      <td>Automatic</td>\n",
       "      <td>5</td>\n",
       "      <td>5</td>\n",
       "      <td>...</td>\n",
       "      <td>Sold</td>\n",
       "      <td>2021-03-03</td>\n",
       "      <td>5659</td>\n",
       "      <td>4770</td>\n",
       "      <td>-16</td>\n",
       "      <td>Vihaan</td>\n",
       "      <td>5</td>\n",
       "      <td>0</td>\n",
       "      <td>NaN</td>\n",
       "      <td>NaN</td>\n",
       "    </tr>\n",
       "    <tr>\n",
       "      <th>2</th>\n",
       "      <td>SQKXAP</td>\n",
       "      <td>Carsome</td>\n",
       "      <td>North Carolina</td>\n",
       "      <td>Scorpio</td>\n",
       "      <td>Mahindra</td>\n",
       "      <td>SUV</td>\n",
       "      <td>Gray</td>\n",
       "      <td>Automatic</td>\n",
       "      <td>5</td>\n",
       "      <td>5</td>\n",
       "      <td>...</td>\n",
       "      <td>Un Sold</td>\n",
       "      <td>1970-01-01</td>\n",
       "      <td>8430</td>\n",
       "      <td>0</td>\n",
       "      <td>0</td>\n",
       "      <td>Aarush</td>\n",
       "      <td>4</td>\n",
       "      <td>0</td>\n",
       "      <td>NaN</td>\n",
       "      <td>NaN</td>\n",
       "    </tr>\n",
       "    <tr>\n",
       "      <th>3</th>\n",
       "      <td>PWP2QK</td>\n",
       "      <td>Trivett</td>\n",
       "      <td>North Carolina</td>\n",
       "      <td>Plato</td>\n",
       "      <td>Prazo</td>\n",
       "      <td>Convertible</td>\n",
       "      <td>Gray</td>\n",
       "      <td>Automatic</td>\n",
       "      <td>2</td>\n",
       "      <td>2</td>\n",
       "      <td>...</td>\n",
       "      <td>Sold</td>\n",
       "      <td>2024-04-02</td>\n",
       "      <td>6919</td>\n",
       "      <td>7942</td>\n",
       "      <td>15</td>\n",
       "      <td>Anushka</td>\n",
       "      <td>1</td>\n",
       "      <td>205</td>\n",
       "      <td>NaN</td>\n",
       "      <td>NaN</td>\n",
       "    </tr>\n",
       "    <tr>\n",
       "      <th>4</th>\n",
       "      <td>FNDDKM</td>\n",
       "      <td>Zupps</td>\n",
       "      <td>Portland</td>\n",
       "      <td>Dzire</td>\n",
       "      <td>Maruti</td>\n",
       "      <td>Sedan</td>\n",
       "      <td>Red</td>\n",
       "      <td>Automatic</td>\n",
       "      <td>5</td>\n",
       "      <td>5</td>\n",
       "      <td>...</td>\n",
       "      <td>Un Sold</td>\n",
       "      <td>1970-01-01</td>\n",
       "      <td>6864</td>\n",
       "      <td>0</td>\n",
       "      <td>0</td>\n",
       "      <td>Pavan</td>\n",
       "      <td>3</td>\n",
       "      <td>0</td>\n",
       "      <td>NaN</td>\n",
       "      <td>NaN</td>\n",
       "    </tr>\n",
       "    <tr>\n",
       "      <th>...</th>\n",
       "      <td>...</td>\n",
       "      <td>...</td>\n",
       "      <td>...</td>\n",
       "      <td>...</td>\n",
       "      <td>...</td>\n",
       "      <td>...</td>\n",
       "      <td>...</td>\n",
       "      <td>...</td>\n",
       "      <td>...</td>\n",
       "      <td>...</td>\n",
       "      <td>...</td>\n",
       "      <td>...</td>\n",
       "      <td>...</td>\n",
       "      <td>...</td>\n",
       "      <td>...</td>\n",
       "      <td>...</td>\n",
       "      <td>...</td>\n",
       "      <td>...</td>\n",
       "      <td>...</td>\n",
       "      <td>...</td>\n",
       "      <td>...</td>\n",
       "    </tr>\n",
       "    <tr>\n",
       "      <th>9995</th>\n",
       "      <td>ZHLCSG</td>\n",
       "      <td>APE</td>\n",
       "      <td>Texas</td>\n",
       "      <td>Yodha</td>\n",
       "      <td>Tata</td>\n",
       "      <td>Truck</td>\n",
       "      <td>Blue</td>\n",
       "      <td>Manual</td>\n",
       "      <td>3</td>\n",
       "      <td>2</td>\n",
       "      <td>...</td>\n",
       "      <td>Sold</td>\n",
       "      <td>2024-03-23</td>\n",
       "      <td>6102</td>\n",
       "      <td>5041</td>\n",
       "      <td>-17</td>\n",
       "      <td>Supriya</td>\n",
       "      <td>3</td>\n",
       "      <td>0</td>\n",
       "      <td>NaN</td>\n",
       "      <td>NaN</td>\n",
       "    </tr>\n",
       "    <tr>\n",
       "      <th>9996</th>\n",
       "      <td>2BJE0Y</td>\n",
       "      <td>Carsome</td>\n",
       "      <td>Portland</td>\n",
       "      <td>Scorpio</td>\n",
       "      <td>Mahindra</td>\n",
       "      <td>SUV</td>\n",
       "      <td>Black</td>\n",
       "      <td>Automatic</td>\n",
       "      <td>5</td>\n",
       "      <td>5</td>\n",
       "      <td>...</td>\n",
       "      <td>Un Sold</td>\n",
       "      <td>1970-01-01</td>\n",
       "      <td>8108</td>\n",
       "      <td>0</td>\n",
       "      <td>0</td>\n",
       "      <td>Aarush</td>\n",
       "      <td>4</td>\n",
       "      <td>0</td>\n",
       "      <td>NaN</td>\n",
       "      <td>NaN</td>\n",
       "    </tr>\n",
       "    <tr>\n",
       "      <th>9997</th>\n",
       "      <td>4OVJ83</td>\n",
       "      <td>Trust</td>\n",
       "      <td>North Carolina</td>\n",
       "      <td>Seltos</td>\n",
       "      <td>Kia</td>\n",
       "      <td>Hatchback</td>\n",
       "      <td>Black</td>\n",
       "      <td>Automatic</td>\n",
       "      <td>5</td>\n",
       "      <td>5</td>\n",
       "      <td>...</td>\n",
       "      <td>Un Sold</td>\n",
       "      <td>1970-01-01</td>\n",
       "      <td>5945</td>\n",
       "      <td>0</td>\n",
       "      <td>0</td>\n",
       "      <td>Pranav</td>\n",
       "      <td>4</td>\n",
       "      <td>0</td>\n",
       "      <td>NaN</td>\n",
       "      <td>NaN</td>\n",
       "    </tr>\n",
       "    <tr>\n",
       "      <th>9998</th>\n",
       "      <td>M2ECXT</td>\n",
       "      <td>Carsome</td>\n",
       "      <td>Detroit</td>\n",
       "      <td>Swift</td>\n",
       "      <td>Maruti</td>\n",
       "      <td>Sedan</td>\n",
       "      <td>Black</td>\n",
       "      <td>Automatic</td>\n",
       "      <td>5</td>\n",
       "      <td>4</td>\n",
       "      <td>...</td>\n",
       "      <td>Un Sold</td>\n",
       "      <td>1970-01-01</td>\n",
       "      <td>6893</td>\n",
       "      <td>0</td>\n",
       "      <td>0</td>\n",
       "      <td>Swathi</td>\n",
       "      <td>2</td>\n",
       "      <td>0</td>\n",
       "      <td>NaN</td>\n",
       "      <td>NaN</td>\n",
       "    </tr>\n",
       "    <tr>\n",
       "      <th>9999</th>\n",
       "      <td>28W445</td>\n",
       "      <td>Olx</td>\n",
       "      <td>Portland</td>\n",
       "      <td>Swift</td>\n",
       "      <td>Maruti</td>\n",
       "      <td>Sedan</td>\n",
       "      <td>White</td>\n",
       "      <td>Automatic</td>\n",
       "      <td>5</td>\n",
       "      <td>4</td>\n",
       "      <td>...</td>\n",
       "      <td>Un Sold</td>\n",
       "      <td>1970-01-01</td>\n",
       "      <td>6771</td>\n",
       "      <td>0</td>\n",
       "      <td>0</td>\n",
       "      <td>Vihaan</td>\n",
       "      <td>5</td>\n",
       "      <td>0</td>\n",
       "      <td>NaN</td>\n",
       "      <td>NaN</td>\n",
       "    </tr>\n",
       "  </tbody>\n",
       "</table>\n",
       "<p>10000 rows × 26 columns</p>\n",
       "</div>"
      ],
      "text/plain": [
       "          ID Distributor Name        Location  Car Name Manufacturer Name  \\\n",
       "0     O2KE18          Carmudi      California  Fortuner            Toyota   \n",
       "1     EPMPC8        Carousell    Philadelphia     Creta           Hyundai   \n",
       "2     SQKXAP          Carsome  North Carolina   Scorpio          Mahindra   \n",
       "3     PWP2QK          Trivett  North Carolina     Plato             Prazo   \n",
       "4     FNDDKM            Zupps        Portland     Dzire            Maruti   \n",
       "...      ...              ...             ...       ...               ...   \n",
       "9995  ZHLCSG              APE           Texas     Yodha              Tata   \n",
       "9996  2BJE0Y          Carsome        Portland   Scorpio          Mahindra   \n",
       "9997  4OVJ83            Trust  North Carolina    Seltos               Kia   \n",
       "9998  M2ECXT          Carsome         Detroit     Swift            Maruti   \n",
       "9999  28W445              Olx        Portland     Swift            Maruti   \n",
       "\n",
       "         Car Type  Color    Gearbox  Number of Seats  Number of Doors  ...  \\\n",
       "0             SUV   Gray  Automatic                8                5  ...   \n",
       "1       Hatchback   Blue  Automatic                5                5  ...   \n",
       "2             SUV   Gray  Automatic                5                5  ...   \n",
       "3     Convertible   Gray  Automatic                2                2  ...   \n",
       "4           Sedan    Red  Automatic                5                5  ...   \n",
       "...           ...    ...        ...              ...              ...  ...   \n",
       "9995        Truck   Blue     Manual                3                2  ...   \n",
       "9996          SUV  Black  Automatic                5                5  ...   \n",
       "9997    Hatchback  Black  Automatic                5                5  ...   \n",
       "9998        Sedan  Black  Automatic                5                4  ...   \n",
       "9999        Sedan  White  Automatic                5                4  ...   \n",
       "\n",
       "     Car Sale Status   Sold Date  Purchased Price-$  Sold Price-$  Margin-%  \\\n",
       "0            Un Sold  1970-01-01               8296             0         0   \n",
       "1               Sold  2021-03-03               5659          4770       -16   \n",
       "2            Un Sold  1970-01-01               8430             0         0   \n",
       "3               Sold  2024-04-02               6919          7942        15   \n",
       "4            Un Sold  1970-01-01               6864             0         0   \n",
       "...              ...         ...                ...           ...       ...   \n",
       "9995            Sold  2024-03-23               6102          5041       -17   \n",
       "9996         Un Sold  1970-01-01               8108             0         0   \n",
       "9997         Un Sold  1970-01-01               5945             0         0   \n",
       "9998         Un Sold  1970-01-01               6893             0         0   \n",
       "9999         Un Sold  1970-01-01               6771             0         0   \n",
       "\n",
       "     Sales Agent Name Sales Rating Sales Commission-$  Feedback  \\\n",
       "0              Pranav            1                  0       NaN   \n",
       "1              Vihaan            5                  0       NaN   \n",
       "2              Aarush            4                  0       NaN   \n",
       "3             Anushka            1                205       NaN   \n",
       "4               Pavan            3                  0       NaN   \n",
       "...               ...          ...                ...       ...   \n",
       "9995          Supriya            3                  0       NaN   \n",
       "9996           Aarush            4                  0       NaN   \n",
       "9997           Pranav            4                  0       NaN   \n",
       "9998           Swathi            2                  0       NaN   \n",
       "9999           Vihaan            5                  0       NaN   \n",
       "\n",
       "      Price per feedback  \n",
       "0                    NaN  \n",
       "1                    NaN  \n",
       "2                    NaN  \n",
       "3                    NaN  \n",
       "4                    NaN  \n",
       "...                  ...  \n",
       "9995                 NaN  \n",
       "9996                 NaN  \n",
       "9997                 NaN  \n",
       "9998                 NaN  \n",
       "9999                 NaN  \n",
       "\n",
       "[10000 rows x 26 columns]"
      ]
     },
     "execution_count": 56,
     "metadata": {},
     "output_type": "execute_result"
    }
   ],
   "source": [
    "df[\"Feedback\"] = pd.to_numeric(df[\"Feedback\"], errors=\"coerce\")\n",
    "df[\"Price per feedback\"] = (df[\"Purchased Price-$\"] / df[\"Feedback\"]).round(2)\n",
    "df"
   ]
  },
  {
   "cell_type": "code",
   "execution_count": 57,
   "id": "4d4b7f46",
   "metadata": {},
   "outputs": [
    {
     "name": "stdout",
     "output_type": "stream",
     "text": [
      "ID                            object\n",
      "Distributor Name              object\n",
      "Location                      object\n",
      "Car Name                      object\n",
      "Manufacturer Name             object\n",
      "Car Type                      object\n",
      "Color                         object\n",
      "Gearbox                       object\n",
      "Number of Seats                int64\n",
      "Number of Doors                int64\n",
      "Energy                        object\n",
      "Manufactured Year              int64\n",
      "Price-$                        int64\n",
      "Mileage-KM                     int64\n",
      "Engine Power-HP                int64\n",
      "Purchased Date        datetime64[ns]\n",
      "Car Sale Status               object\n",
      "Sold Date             datetime64[ns]\n",
      "Purchased Price-$              int64\n",
      "Sold Price-$                   int64\n",
      "Margin-%                       int64\n",
      "Sales Agent Name              object\n",
      "Sales Rating                   int64\n",
      "Sales Commission-$             int64\n",
      "Feedback                     float64\n",
      "Price per feedback           float64\n",
      "dtype: object\n"
     ]
    }
   ],
   "source": [
    "date_columns = ['Purchased Date', 'Sold Date']\n",
    "for col in date_columns:\n",
    "    df[col] = pd.to_datetime(df[col], errors='coerce')\n",
    "print(df.dtypes)\n"
   ]
  },
  {
   "cell_type": "code",
   "execution_count": 58,
   "id": "f6f6d1f5",
   "metadata": {},
   "outputs": [
    {
     "name": "stdout",
     "output_type": "stream",
     "text": [
      "max     10383.0000\n",
      "min      4015.0000\n",
      "mean     6720.6177\n",
      "Name: Purchased Price-$, dtype: float64\n"
     ]
    }
   ],
   "source": [
    "print(df[\"Purchased Price-$\"].agg([\"max\", \"min\", \"mean\"]))"
   ]
  },
  {
   "cell_type": "code",
   "execution_count": 59,
   "id": "e769f527",
   "metadata": {},
   "outputs": [
    {
     "name": "stdout",
     "output_type": "stream",
     "text": [
      "Most Expensive Car:\n",
      "Manufacturer: Prazo\n",
      "Purchased Price: 10383\n",
      "Feedback: nan\n"
     ]
    }
   ],
   "source": [
    "most_expensive = df.loc[df[\"Purchased Price-$\"].idxmax()]\n",
    "print(\"Most Expensive Car:\")\n",
    "print(\"Manufacturer:\", most_expensive[\"Manufacturer Name\"])\n",
    "print(\"Purchased Price:\", most_expensive[\"Purchased Price-$\"])\n",
    "print(\"Feedback:\", most_expensive[\"Feedback\"])"
   ]
  },
  {
   "cell_type": "code",
   "execution_count": 60,
   "id": "43263ad8",
   "metadata": {},
   "outputs": [
    {
     "name": "stdout",
     "output_type": "stream",
     "text": [
      "Cheapest Car:\n",
      "Manufacturer: Maruti\n",
      "Purchased Price: 4015\n",
      "Feedback: nan\n"
     ]
    }
   ],
   "source": [
    "cheapest = df.loc[df[\"Purchased Price-$\"].idxmin()]\n",
    "print(\"Cheapest Car:\")\n",
    "print(\"Manufacturer:\", cheapest[\"Manufacturer Name\"])\n",
    "print(\"Purchased Price:\", cheapest[\"Purchased Price-$\"])\n",
    "print(\"Feedback:\", cheapest[\"Feedback\"])"
   ]
  },
  {
   "cell_type": "code",
   "execution_count": 61,
   "id": "0aa72ea9",
   "metadata": {},
   "outputs": [
    {
     "name": "stdout",
     "output_type": "stream",
     "text": [
      "Total Cars Sold: Un SoldSoldUn SoldSoldUn SoldSoldUn SoldUn SoldUn SoldUn SoldUn SoldUn SoldUn SoldUn SoldSoldUn SoldUn SoldSoldUn SoldUn SoldUn SoldUn SoldUn SoldUn SoldUn SoldSoldUn SoldUn SoldUn SoldUn SoldUn SoldSoldUn SoldUn SoldUn SoldUn SoldUn SoldUn SoldUn SoldSoldUn SoldUn SoldUn SoldUn SoldSoldUn SoldUn SoldUn SoldUn SoldUn SoldUn SoldUn SoldUn SoldUn SoldUn SoldUn SoldUn SoldUn SoldSoldUn SoldUn SoldUn SoldUn SoldUn SoldUn SoldUn SoldUn SoldUn SoldSoldSoldSoldSoldUn SoldUn SoldUn SoldUn SoldSoldUn SoldSoldUn SoldUn SoldUn SoldUn SoldUn SoldUn SoldUn SoldSoldUn SoldUn SoldSoldUn SoldUn SoldUn SoldSoldUn SoldUn SoldUn SoldUn SoldUn SoldSoldUn SoldUn SoldUn SoldUn SoldUn SoldSoldSoldSoldUn SoldUn SoldUn SoldUn SoldSoldSoldSoldUn SoldSoldSoldUn SoldUn SoldUn SoldUn SoldUn SoldUn SoldUn SoldUn SoldUn SoldUn SoldUn SoldUn SoldUn SoldUn SoldUn SoldSoldUn SoldUn SoldUn SoldUn SoldUn SoldUn SoldUn SoldSoldUn SoldSoldUn SoldUn SoldSoldUn SoldUn SoldUn SoldUn SoldSoldUn SoldUn SoldUn SoldUn SoldUn SoldSoldUn SoldUn SoldUn SoldSoldUn SoldUn SoldUn SoldSoldUn SoldUn SoldUn SoldUn SoldSoldUn SoldUn SoldUn SoldUn SoldUn SoldUn SoldUn SoldUn SoldUn SoldSoldSoldUn SoldUn SoldUn SoldSoldSoldUn SoldUn SoldSoldUn SoldUn SoldUn SoldUn SoldUn SoldUn SoldSoldUn SoldUn SoldUn SoldSoldUn SoldUn SoldUn SoldUn SoldSoldSoldUn SoldUn SoldUn SoldUn SoldUn SoldUn SoldUn SoldUn SoldUn SoldUn SoldUn SoldUn SoldSoldUn SoldUn SoldUn SoldSoldUn SoldSoldUn SoldUn SoldUn SoldUn SoldUn SoldUn SoldSoldUn SoldSoldUn SoldUn SoldUn SoldUn SoldUn SoldUn SoldUn SoldUn SoldUn SoldSoldUn SoldSoldUn SoldSoldUn SoldUn SoldUn SoldSoldUn SoldUn SoldUn SoldSoldUn SoldSoldUn SoldUn SoldUn SoldUn SoldSoldUn SoldSoldSoldUn SoldUn SoldUn SoldUn SoldUn SoldUn SoldUn SoldUn SoldUn SoldUn SoldUn SoldUn SoldUn SoldUn SoldSoldUn SoldUn SoldUn SoldUn SoldUn SoldUn SoldUn SoldUn SoldUn SoldUn SoldUn SoldUn SoldUn SoldUn SoldUn SoldUn SoldUn SoldUn SoldUn SoldUn SoldUn SoldSoldUn SoldUn SoldSoldUn SoldUn SoldUn SoldUn SoldUn SoldUn SoldUn SoldUn SoldUn SoldUn SoldUn SoldSoldUn SoldUn SoldSoldSoldUn SoldUn SoldUn SoldUn SoldSoldUn SoldUn SoldUn SoldUn SoldUn SoldSoldUn SoldUn SoldSoldUn SoldUn SoldSoldUn SoldUn SoldUn SoldSoldUn SoldUn SoldUn SoldUn SoldSoldUn SoldUn SoldUn SoldUn SoldUn SoldUn SoldUn SoldUn SoldUn SoldSoldSoldUn SoldUn SoldSoldUn SoldUn SoldSoldUn SoldUn SoldUn SoldUn SoldUn SoldUn SoldUn SoldUn SoldSoldUn SoldSoldUn SoldSoldSoldSoldUn SoldUn SoldUn SoldUn SoldSoldSoldUn SoldUn SoldUn SoldUn SoldUn SoldUn SoldUn SoldUn SoldUn SoldUn SoldUn SoldUn SoldSoldUn SoldUn SoldUn SoldUn SoldUn SoldUn SoldSoldUn SoldUn SoldUn SoldUn SoldUn SoldUn SoldSoldSoldUn SoldUn SoldUn SoldUn SoldUn SoldUn SoldUn SoldUn SoldSoldUn SoldUn SoldSoldUn SoldUn SoldUn SoldSoldSoldUn SoldUn SoldUn SoldUn SoldUn SoldUn SoldUn SoldUn SoldUn SoldUn SoldSoldUn SoldUn SoldUn SoldUn SoldUn SoldSoldSoldUn SoldUn SoldSoldUn SoldUn SoldUn SoldSoldUn SoldUn SoldUn SoldUn SoldUn SoldUn SoldUn SoldUn SoldSoldUn SoldUn SoldUn SoldUn SoldUn SoldUn SoldUn SoldUn SoldUn SoldUn SoldSoldUn SoldUn SoldSoldSoldUn SoldSoldUn SoldSoldSoldUn SoldSoldUn SoldUn SoldSoldUn SoldUn SoldSoldSoldUn SoldUn SoldUn SoldUn SoldUn SoldUn SoldUn SoldSoldUn SoldUn SoldUn SoldUn SoldUn SoldUn SoldUn SoldSoldUn SoldUn SoldUn SoldUn SoldSoldUn SoldSoldUn SoldUn SoldSoldSoldUn SoldUn SoldUn SoldSoldUn SoldUn SoldUn SoldSoldUn SoldSoldSoldUn SoldUn SoldUn SoldUn SoldUn SoldUn SoldUn SoldUn SoldUn SoldSoldUn SoldUn SoldUn SoldUn SoldUn SoldSoldUn SoldUn SoldUn SoldUn SoldUn SoldUn SoldUn SoldSoldUn SoldUn SoldUn SoldUn SoldUn SoldSoldSoldUn SoldSoldUn SoldUn SoldSoldUn SoldSoldUn SoldSoldSoldUn SoldUn SoldUn SoldUn SoldUn SoldUn SoldUn SoldSoldUn SoldUn SoldUn SoldSoldUn SoldUn SoldUn SoldUn SoldUn SoldUn SoldSoldSoldUn SoldSoldUn SoldUn SoldSoldUn SoldUn SoldUn SoldUn SoldUn SoldUn SoldSoldUn SoldSoldUn SoldUn SoldUn SoldSoldUn SoldUn SoldUn SoldUn SoldUn SoldSoldUn SoldUn SoldUn SoldUn SoldUn SoldUn SoldSoldSoldUn SoldUn SoldUn SoldUn SoldUn SoldUn SoldUn SoldUn SoldUn SoldUn SoldUn SoldSoldSoldUn SoldUn SoldSoldUn SoldUn SoldSoldUn SoldUn SoldUn SoldUn SoldSoldUn SoldUn SoldUn SoldUn SoldUn SoldSoldUn SoldUn SoldUn SoldUn SoldUn SoldUn SoldUn SoldUn SoldUn SoldUn SoldUn SoldUn SoldUn SoldUn SoldUn SoldUn SoldUn SoldSoldSoldUn SoldUn SoldUn SoldUn SoldUn SoldUn SoldUn SoldUn SoldUn SoldSoldUn SoldUn SoldUn SoldUn SoldUn SoldSoldUn SoldUn SoldSoldSoldSoldUn SoldSoldUn SoldUn SoldUn SoldSoldUn SoldSoldUn SoldUn SoldUn SoldUn SoldUn SoldUn SoldSoldUn SoldSoldSoldUn SoldUn SoldUn SoldUn SoldUn SoldUn SoldUn SoldSoldUn SoldUn SoldUn SoldUn SoldUn SoldUn SoldSoldUn SoldUn SoldUn SoldUn SoldUn SoldUn SoldUn SoldUn SoldSoldUn SoldUn SoldUn SoldUn SoldUn SoldUn SoldUn SoldUn SoldUn SoldUn SoldSoldUn SoldUn SoldSoldSoldUn SoldUn SoldUn SoldUn SoldSoldSoldUn SoldUn SoldUn SoldUn SoldUn SoldUn SoldUn SoldUn SoldUn SoldUn SoldSoldUn SoldUn SoldSoldSoldUn SoldUn SoldUn SoldUn SoldUn SoldUn SoldUn SoldSoldUn SoldUn SoldSoldSoldUn SoldSoldUn SoldUn SoldUn SoldUn SoldUn SoldSoldUn SoldUn SoldUn SoldUn SoldUn SoldSoldUn SoldUn SoldSoldUn SoldSoldSoldUn SoldSoldUn SoldUn SoldSoldUn SoldUn SoldUn SoldUn SoldUn SoldUn SoldSoldUn SoldUn SoldUn SoldUn SoldUn SoldUn SoldUn SoldUn SoldUn SoldUn SoldUn SoldUn SoldUn SoldUn SoldUn SoldSoldUn SoldUn SoldUn SoldSoldUn SoldUn SoldUn SoldUn SoldUn SoldUn SoldUn SoldSoldUn SoldUn SoldSoldUn SoldUn SoldUn SoldSoldSoldUn SoldUn SoldUn SoldUn SoldUn SoldUn SoldSoldUn SoldUn SoldUn SoldSoldUn SoldUn SoldSoldUn SoldUn SoldUn SoldUn SoldUn SoldUn SoldUn SoldSoldUn SoldSoldUn SoldUn SoldUn SoldUn SoldUn SoldUn SoldUn SoldUn SoldUn SoldSoldUn SoldSoldUn SoldSoldUn SoldUn SoldUn SoldUn SoldUn SoldUn SoldUn SoldUn SoldUn SoldUn SoldUn SoldUn SoldUn SoldUn SoldUn SoldUn SoldUn SoldUn SoldUn SoldUn SoldUn SoldUn SoldUn SoldUn SoldSoldSoldUn SoldUn SoldUn SoldSoldUn SoldSoldUn SoldUn SoldSoldUn SoldUn SoldUn SoldUn SoldUn SoldUn SoldUn SoldSoldSoldUn SoldUn SoldUn SoldUn SoldUn SoldUn SoldUn SoldUn SoldUn SoldUn SoldUn SoldUn SoldSoldUn SoldUn SoldUn SoldSoldUn SoldUn SoldSoldUn SoldUn SoldUn SoldUn SoldUn SoldUn SoldSoldUn SoldUn SoldUn SoldUn SoldUn SoldUn SoldUn SoldSoldUn SoldSoldUn SoldUn SoldUn SoldSoldUn SoldUn SoldUn SoldUn SoldSoldUn SoldUn SoldSoldSoldUn SoldUn SoldUn SoldUn SoldUn SoldUn SoldUn SoldUn SoldUn SoldUn SoldUn SoldSoldUn SoldUn SoldUn SoldUn SoldUn SoldUn SoldSoldUn SoldSoldUn SoldUn SoldUn SoldUn SoldSoldUn SoldSoldUn SoldUn SoldUn SoldUn SoldUn SoldUn SoldSoldUn SoldUn SoldUn SoldUn SoldUn SoldSoldUn SoldUn SoldUn SoldUn SoldUn SoldUn SoldUn SoldUn SoldUn SoldUn SoldUn SoldUn SoldUn SoldSoldUn SoldSoldUn SoldUn SoldSoldUn SoldUn SoldUn SoldSoldUn SoldUn SoldUn SoldSoldSoldUn SoldUn SoldUn SoldUn SoldUn SoldUn SoldUn SoldUn SoldSoldUn SoldUn SoldUn SoldUn SoldUn SoldUn SoldUn SoldUn SoldUn SoldSoldUn SoldUn SoldSoldUn SoldUn SoldUn SoldUn SoldUn SoldUn SoldSoldUn SoldUn SoldUn SoldUn SoldSoldUn SoldUn SoldUn SoldSoldUn SoldSoldSoldUn SoldUn SoldUn SoldSoldUn SoldSoldSoldUn SoldSoldUn SoldUn SoldUn SoldUn SoldUn SoldSoldUn SoldUn SoldUn SoldUn SoldSoldUn SoldUn SoldUn SoldUn SoldUn SoldUn SoldUn SoldUn SoldUn SoldSoldUn SoldUn SoldUn SoldSoldUn SoldUn SoldUn SoldUn SoldSoldUn SoldUn SoldUn SoldUn SoldUn SoldUn SoldUn SoldUn SoldSoldUn SoldUn SoldUn SoldSoldUn SoldUn SoldUn SoldSoldUn SoldUn SoldUn SoldUn SoldUn SoldSoldUn SoldUn SoldUn SoldUn SoldUn SoldUn SoldSoldSoldUn SoldUn SoldUn SoldUn SoldUn SoldUn SoldUn SoldUn SoldUn SoldUn SoldUn SoldUn SoldUn SoldUn SoldUn SoldSoldSoldSoldUn SoldUn SoldUn SoldUn SoldUn SoldSoldUn SoldUn SoldUn SoldUn SoldUn SoldUn SoldUn SoldUn SoldUn SoldSoldUn SoldUn SoldSoldUn SoldUn SoldUn SoldUn SoldUn SoldUn SoldUn SoldSoldUn SoldUn SoldUn SoldUn SoldSoldUn SoldUn SoldSoldUn SoldUn SoldUn SoldUn SoldUn SoldUn SoldUn SoldUn SoldUn SoldUn SoldUn SoldSoldUn SoldUn SoldUn SoldSoldUn SoldSoldUn SoldSoldUn SoldSoldUn SoldUn SoldSoldUn SoldSoldUn SoldUn SoldUn SoldUn SoldUn SoldUn SoldUn SoldUn SoldUn SoldUn SoldUn SoldUn SoldSoldUn SoldUn SoldUn SoldSoldUn SoldUn SoldUn SoldUn SoldUn SoldUn SoldSoldUn SoldSoldUn SoldUn SoldUn SoldUn SoldUn SoldUn SoldSoldUn SoldUn SoldSoldUn SoldSoldUn SoldUn SoldSoldUn SoldUn SoldUn SoldUn SoldUn SoldUn SoldSoldUn SoldUn SoldUn SoldSoldSoldUn SoldUn SoldUn SoldSoldSoldSoldUn SoldUn SoldUn SoldUn SoldUn SoldSoldUn SoldUn SoldUn SoldUn SoldUn SoldUn SoldUn SoldUn SoldUn SoldUn SoldUn SoldUn SoldUn SoldSoldSoldSoldSoldUn SoldUn SoldUn SoldUn SoldSoldUn SoldSoldSoldUn SoldUn SoldSoldSoldUn SoldUn SoldSoldUn SoldUn SoldSoldUn SoldUn SoldSoldUn SoldSoldUn SoldUn SoldUn SoldSoldUn SoldUn SoldUn SoldUn SoldUn SoldUn SoldUn SoldUn SoldUn SoldUn SoldUn SoldUn SoldSoldSoldUn SoldUn SoldUn SoldUn SoldUn SoldUn SoldUn SoldUn SoldUn SoldUn SoldSoldUn SoldSoldSoldUn SoldUn SoldUn SoldUn SoldUn SoldUn SoldUn SoldUn SoldUn SoldUn SoldUn SoldUn SoldUn SoldUn SoldSoldUn SoldUn SoldSoldUn SoldUn SoldUn SoldUn SoldUn SoldUn SoldSoldUn SoldUn SoldUn SoldUn SoldUn SoldUn SoldUn SoldUn SoldUn SoldUn SoldUn SoldUn SoldUn SoldUn SoldUn SoldUn SoldSoldUn SoldUn SoldUn SoldUn SoldUn SoldSoldUn SoldUn SoldUn SoldUn SoldSoldSoldUn SoldSoldUn SoldUn SoldUn SoldUn SoldUn SoldUn SoldUn SoldUn SoldSoldUn SoldUn SoldUn SoldSoldUn SoldUn SoldUn SoldUn SoldUn SoldSoldUn SoldUn SoldSoldUn SoldUn SoldUn SoldUn SoldUn SoldUn SoldSoldUn SoldUn SoldUn SoldSoldUn SoldUn SoldUn SoldSoldSoldUn SoldSoldUn SoldUn SoldSoldUn SoldUn SoldUn SoldUn SoldUn SoldUn SoldUn SoldUn SoldUn SoldUn SoldSoldSoldUn SoldSoldUn SoldSoldUn SoldUn SoldUn SoldUn SoldUn SoldUn SoldSoldSoldUn SoldSoldSoldUn SoldUn SoldUn SoldSoldUn SoldUn SoldUn SoldUn SoldUn SoldSoldUn SoldUn SoldSoldUn SoldUn SoldUn SoldUn SoldUn SoldUn SoldUn SoldUn SoldUn SoldUn SoldUn SoldUn SoldUn SoldUn SoldUn SoldUn SoldSoldUn SoldUn SoldUn SoldUn SoldUn SoldUn SoldUn SoldUn SoldUn SoldUn SoldUn SoldUn SoldUn SoldUn SoldUn SoldSoldUn SoldUn SoldSoldUn SoldUn SoldSoldUn SoldUn SoldUn SoldUn SoldUn SoldSoldUn SoldUn SoldUn SoldSoldUn SoldUn SoldSoldSoldUn SoldUn SoldUn SoldUn SoldSoldUn SoldUn SoldUn SoldSoldUn SoldUn SoldSoldUn SoldUn SoldUn SoldSoldUn SoldSoldUn SoldUn SoldUn SoldUn SoldUn SoldUn SoldUn SoldUn SoldUn SoldUn SoldUn SoldUn SoldUn SoldUn SoldSoldUn SoldUn SoldSoldUn SoldSoldSoldUn SoldUn SoldUn SoldUn SoldSoldSoldUn SoldSoldUn SoldUn SoldUn SoldUn SoldUn SoldUn SoldUn SoldUn SoldUn SoldUn SoldSoldUn SoldUn SoldUn SoldUn SoldUn SoldUn SoldUn SoldSoldUn SoldSoldUn SoldUn SoldUn SoldUn SoldSoldUn SoldUn SoldUn SoldUn SoldUn SoldUn SoldUn SoldUn SoldUn SoldUn SoldUn SoldUn SoldUn SoldUn SoldUn SoldSoldSoldUn SoldUn SoldSoldUn SoldUn SoldUn SoldUn SoldUn SoldUn SoldUn SoldSoldUn SoldUn SoldUn SoldUn SoldUn SoldSoldUn SoldUn SoldSoldUn SoldSoldUn SoldUn SoldUn SoldUn SoldUn SoldUn SoldUn SoldUn SoldSoldUn SoldUn SoldUn SoldUn SoldUn SoldUn SoldUn SoldUn SoldUn SoldSoldUn SoldUn SoldUn SoldUn SoldUn SoldUn SoldUn SoldSoldUn SoldUn SoldUn SoldUn SoldSoldUn SoldUn SoldUn SoldSoldUn SoldUn SoldUn SoldUn SoldUn SoldSoldSoldUn SoldUn SoldSoldUn SoldUn SoldUn SoldUn SoldUn SoldUn SoldUn SoldSoldUn SoldUn SoldUn SoldUn SoldUn SoldUn SoldSoldUn SoldUn SoldUn SoldSoldUn SoldUn SoldSoldUn SoldUn SoldUn SoldSoldUn SoldSoldSoldUn SoldSoldUn SoldUn SoldUn SoldUn SoldUn SoldUn SoldUn SoldUn SoldSoldUn SoldUn SoldUn SoldSoldUn SoldSoldUn SoldUn SoldSoldSoldSoldUn SoldUn SoldUn SoldUn SoldUn SoldUn SoldUn SoldSoldUn SoldSoldSoldUn SoldSoldSoldUn SoldUn SoldSoldSoldUn SoldUn SoldSoldUn SoldUn SoldUn SoldUn SoldUn SoldUn SoldSoldUn SoldUn SoldUn SoldUn SoldSoldUn SoldSoldUn SoldUn SoldSoldSoldUn SoldSoldUn SoldUn SoldUn SoldSoldUn SoldUn SoldUn SoldUn SoldUn SoldUn SoldUn SoldSoldSoldSoldUn SoldUn SoldUn SoldUn SoldUn SoldUn SoldUn SoldSoldUn SoldUn SoldUn SoldUn SoldUn SoldUn SoldUn SoldUn SoldUn SoldUn SoldUn SoldUn SoldUn SoldUn SoldUn SoldUn SoldSoldUn SoldSoldUn SoldSoldSoldUn SoldUn SoldUn SoldUn SoldSoldSoldSoldUn SoldUn SoldUn SoldUn SoldUn SoldUn SoldSoldUn SoldUn SoldUn SoldUn SoldUn SoldUn SoldUn SoldUn SoldSoldUn SoldSoldUn SoldSoldSoldUn SoldUn SoldUn SoldUn SoldSoldUn SoldSoldUn SoldUn SoldSoldSoldUn SoldUn SoldUn SoldUn SoldUn SoldUn SoldUn SoldUn SoldUn SoldUn SoldUn SoldUn SoldUn SoldUn SoldUn SoldUn SoldUn SoldUn SoldUn SoldUn SoldUn SoldSoldSoldUn SoldSoldUn SoldUn SoldUn SoldUn SoldSoldUn SoldSoldUn SoldUn SoldSoldUn SoldUn SoldUn SoldUn SoldUn SoldUn SoldUn SoldUn SoldUn SoldUn SoldUn SoldSoldSoldUn SoldUn SoldUn SoldSoldUn SoldUn SoldSoldUn SoldSoldSoldSoldUn SoldUn SoldUn SoldUn SoldUn SoldUn SoldUn SoldUn SoldUn SoldUn SoldUn SoldUn SoldUn SoldUn SoldUn SoldUn SoldUn SoldUn SoldUn SoldSoldSoldSoldUn SoldUn SoldUn SoldUn SoldSoldUn SoldUn SoldUn SoldUn SoldUn SoldUn SoldUn SoldUn SoldUn SoldUn SoldUn SoldUn SoldUn SoldUn SoldSoldUn SoldUn SoldSoldUn SoldUn SoldUn SoldUn SoldUn SoldUn SoldUn SoldUn SoldUn SoldUn SoldUn SoldSoldUn SoldUn SoldUn SoldUn SoldUn SoldUn SoldUn SoldSoldSoldUn SoldUn SoldUn SoldUn SoldSoldUn SoldUn SoldUn SoldUn SoldUn SoldUn SoldUn SoldUn SoldSoldUn SoldUn SoldSoldUn SoldUn SoldUn SoldUn SoldUn SoldUn SoldUn SoldSoldUn SoldUn SoldUn SoldSoldUn SoldUn SoldUn SoldUn SoldUn SoldSoldUn SoldUn SoldUn SoldUn SoldUn SoldSoldSoldUn SoldUn SoldSoldUn SoldSoldUn SoldUn SoldUn SoldUn SoldUn SoldUn SoldSoldSoldUn SoldUn SoldSoldUn SoldSoldUn SoldUn SoldSoldUn SoldSoldUn SoldUn SoldUn SoldUn SoldUn SoldUn SoldUn SoldSoldUn SoldUn SoldSoldUn SoldSoldSoldUn SoldUn SoldSoldUn SoldUn SoldUn SoldSoldUn SoldUn SoldSoldSoldUn SoldUn SoldUn SoldSoldUn SoldUn SoldUn SoldUn SoldUn SoldSoldUn SoldUn SoldSoldUn SoldUn SoldUn SoldUn SoldUn SoldSoldSoldSoldUn SoldUn SoldSoldUn SoldUn SoldUn SoldSoldSoldUn SoldUn SoldSoldUn SoldUn SoldSoldSoldUn SoldUn SoldUn SoldSoldUn SoldUn SoldSoldUn SoldUn SoldUn SoldSoldUn SoldUn SoldUn SoldUn SoldUn SoldUn SoldUn SoldUn SoldUn SoldSoldSoldSoldUn SoldUn SoldUn SoldUn SoldUn SoldSoldSoldUn SoldUn SoldSoldUn SoldUn SoldUn SoldSoldSoldUn SoldUn SoldUn SoldSoldUn SoldUn SoldUn SoldUn SoldUn SoldUn SoldUn SoldSoldUn SoldUn SoldUn SoldUn SoldSoldUn SoldSoldUn SoldUn SoldUn SoldUn SoldUn SoldUn SoldUn SoldUn SoldUn SoldUn SoldUn SoldSoldSoldUn SoldUn SoldUn SoldSoldUn SoldUn SoldUn SoldUn SoldUn SoldUn SoldSoldUn SoldSoldSoldUn SoldSoldUn SoldUn SoldUn SoldSoldUn SoldUn SoldUn SoldUn SoldSoldUn SoldUn SoldUn SoldUn SoldSoldUn SoldUn SoldUn SoldSoldSoldUn SoldUn SoldUn SoldUn SoldUn SoldUn SoldSoldUn SoldUn SoldUn SoldUn SoldUn SoldSoldUn SoldUn SoldUn SoldUn SoldUn SoldUn SoldUn SoldUn SoldUn SoldUn SoldUn SoldSoldUn SoldUn SoldSoldUn SoldUn SoldUn SoldUn SoldUn SoldUn SoldSoldUn SoldUn SoldUn SoldUn SoldUn SoldSoldSoldUn SoldUn SoldSoldUn SoldUn SoldSoldUn SoldUn SoldSoldUn SoldUn SoldUn SoldUn SoldUn SoldUn SoldUn SoldUn SoldUn SoldUn SoldUn SoldUn SoldUn SoldUn SoldUn SoldSoldSoldUn SoldUn SoldUn SoldSoldUn SoldUn SoldUn SoldSoldUn SoldUn SoldUn SoldUn SoldUn SoldUn SoldSoldSoldUn SoldUn SoldUn SoldUn SoldUn SoldUn SoldSoldUn SoldSoldUn SoldUn SoldUn SoldUn SoldUn SoldSoldUn SoldSoldUn SoldUn SoldUn SoldUn SoldUn SoldUn SoldSoldUn SoldSoldUn SoldUn SoldUn SoldUn SoldUn SoldUn SoldUn SoldUn SoldUn SoldUn SoldUn SoldUn SoldUn SoldSoldSoldSoldUn SoldUn SoldUn SoldUn SoldSoldUn SoldUn SoldUn SoldUn SoldUn SoldUn SoldUn SoldUn SoldUn SoldUn SoldUn SoldUn SoldUn SoldUn SoldUn SoldUn SoldUn SoldUn SoldUn SoldUn SoldUn SoldUn SoldUn SoldSoldUn SoldUn SoldSoldUn SoldSoldUn SoldUn SoldSoldUn SoldUn SoldUn SoldUn SoldSoldUn SoldUn SoldUn SoldUn SoldUn SoldUn SoldUn SoldUn SoldUn SoldUn SoldSoldUn SoldSoldUn SoldSoldUn SoldUn SoldUn SoldUn SoldUn SoldUn SoldUn SoldUn SoldSoldSoldUn SoldUn SoldUn SoldUn SoldUn SoldUn SoldUn SoldUn SoldUn SoldUn SoldUn SoldSoldUn SoldSoldUn SoldSoldSoldUn SoldUn SoldUn SoldUn SoldUn SoldUn SoldUn SoldUn SoldSoldUn SoldSoldUn SoldUn SoldUn SoldUn SoldUn SoldUn SoldSoldUn SoldUn SoldUn SoldUn SoldUn SoldUn SoldUn SoldUn SoldUn SoldUn SoldUn SoldSoldUn SoldUn SoldUn SoldUn SoldUn SoldUn SoldSoldSoldSoldUn SoldUn SoldUn SoldUn SoldUn SoldSoldSoldSoldUn SoldUn SoldUn SoldUn SoldUn SoldUn SoldUn SoldUn SoldUn SoldUn SoldSoldSoldUn SoldUn SoldSoldSoldUn SoldUn SoldSoldUn SoldUn SoldUn SoldUn SoldUn SoldSoldUn SoldUn SoldUn SoldUn SoldUn SoldUn SoldUn SoldUn SoldSoldUn SoldSoldUn SoldSoldUn SoldSoldUn SoldSoldUn SoldSoldUn SoldUn SoldUn SoldUn SoldUn SoldSoldUn SoldUn SoldUn SoldUn SoldSoldUn SoldUn SoldUn SoldUn SoldSoldUn SoldUn SoldSoldUn SoldUn SoldUn SoldUn SoldSoldSoldUn SoldSoldSoldUn SoldUn SoldUn SoldUn SoldSoldUn SoldSoldUn SoldUn SoldUn SoldUn SoldUn SoldUn SoldSoldSoldUn SoldUn SoldUn SoldUn SoldUn SoldUn SoldUn SoldUn SoldUn SoldSoldUn SoldUn SoldUn SoldUn SoldUn SoldUn SoldUn SoldUn SoldUn SoldUn SoldUn SoldUn SoldUn SoldUn SoldUn SoldUn SoldUn SoldUn SoldUn SoldUn SoldUn SoldSoldUn SoldUn SoldUn SoldUn SoldUn SoldUn SoldUn SoldUn SoldSoldSoldUn SoldSoldSoldUn SoldUn SoldSoldSoldUn SoldUn SoldUn SoldSoldSoldUn SoldUn SoldUn SoldUn SoldUn SoldUn SoldUn SoldUn SoldUn SoldSoldSoldUn SoldSoldSoldSoldUn SoldUn SoldUn SoldUn SoldUn SoldUn SoldSoldUn SoldSoldUn SoldUn SoldUn SoldUn SoldSoldUn SoldUn SoldUn SoldUn SoldUn SoldSoldSoldUn SoldSoldUn SoldUn SoldUn SoldUn SoldUn SoldUn SoldUn SoldUn SoldUn SoldUn SoldUn SoldUn SoldUn SoldUn SoldUn SoldUn SoldUn SoldUn SoldSoldUn SoldUn SoldUn SoldUn SoldUn SoldSoldSoldUn SoldUn SoldUn SoldUn SoldUn SoldUn SoldUn SoldUn SoldSoldUn SoldUn SoldUn SoldUn SoldSoldSoldUn SoldUn SoldSoldUn SoldUn SoldSoldUn SoldUn SoldUn SoldUn SoldSoldSoldSoldUn SoldUn SoldUn SoldUn SoldUn SoldUn SoldUn SoldSoldSoldSoldUn SoldUn SoldUn SoldSoldUn SoldUn SoldUn SoldSoldUn SoldUn SoldUn SoldSoldUn SoldUn SoldUn SoldUn SoldUn SoldUn SoldUn SoldUn SoldSoldUn SoldUn SoldUn SoldUn SoldUn SoldSoldUn SoldUn SoldUn SoldUn SoldUn SoldUn SoldUn SoldUn SoldUn SoldUn SoldSoldSoldUn SoldUn SoldUn SoldSoldSoldUn SoldUn SoldUn SoldSoldUn SoldUn SoldSoldUn SoldUn SoldUn SoldUn SoldUn SoldUn SoldUn SoldUn SoldUn SoldSoldSoldSoldSoldSoldUn SoldUn SoldUn SoldSoldUn SoldSoldUn SoldUn SoldUn SoldUn SoldUn SoldUn SoldUn SoldUn SoldUn SoldUn SoldUn SoldUn SoldUn SoldUn SoldUn SoldUn SoldUn SoldSoldUn SoldSoldUn SoldUn SoldUn SoldUn SoldUn SoldSoldSoldSoldUn SoldUn SoldUn SoldUn SoldUn SoldUn SoldSoldUn SoldUn SoldUn SoldUn SoldUn SoldUn SoldUn SoldUn SoldUn SoldUn SoldUn SoldUn SoldUn SoldUn SoldUn SoldUn SoldUn SoldUn SoldUn SoldUn SoldUn SoldUn SoldUn SoldUn SoldSoldSoldUn SoldUn SoldUn SoldUn SoldUn SoldUn SoldUn SoldUn SoldUn SoldSoldUn SoldUn SoldUn SoldUn SoldUn SoldSoldSoldUn SoldUn SoldUn SoldUn SoldUn SoldSoldUn SoldSoldUn SoldUn SoldUn SoldUn SoldUn SoldUn SoldUn SoldSoldUn SoldUn SoldSoldUn SoldUn SoldUn SoldUn SoldUn SoldUn SoldUn SoldUn SoldUn SoldUn SoldUn SoldSoldUn SoldUn SoldUn SoldUn SoldUn SoldSoldUn SoldUn SoldUn SoldUn SoldUn SoldUn SoldUn SoldUn SoldSoldUn SoldUn SoldUn SoldUn SoldUn SoldUn SoldUn SoldUn SoldUn SoldUn SoldUn SoldUn SoldUn SoldUn SoldUn SoldUn SoldUn SoldUn SoldSoldUn SoldUn SoldSoldUn SoldSoldUn SoldUn SoldSoldUn SoldUn SoldUn SoldUn SoldUn SoldUn SoldUn SoldUn SoldSoldUn SoldUn SoldSoldSoldUn SoldUn SoldUn SoldUn SoldUn SoldUn SoldUn SoldUn SoldUn SoldUn SoldUn SoldUn SoldUn SoldSoldUn SoldUn SoldUn SoldUn SoldUn SoldUn SoldUn SoldUn SoldSoldUn SoldUn SoldUn SoldSoldUn SoldUn SoldSoldUn SoldUn SoldUn SoldUn SoldUn SoldSoldUn SoldUn SoldUn SoldUn SoldUn SoldUn SoldUn SoldUn SoldUn SoldUn SoldUn SoldUn SoldUn SoldUn SoldSoldUn SoldSoldUn SoldUn SoldSoldUn SoldSoldUn SoldUn SoldSoldUn SoldSoldSoldUn SoldUn SoldUn SoldUn SoldUn SoldUn SoldUn SoldUn SoldSoldUn SoldSoldUn SoldSoldUn SoldUn SoldUn SoldUn SoldUn SoldUn SoldSoldUn SoldUn SoldSoldUn SoldUn SoldUn SoldUn SoldUn SoldUn SoldUn SoldUn SoldSoldUn SoldUn SoldSoldUn SoldUn SoldSoldUn SoldSoldUn SoldUn SoldUn SoldUn SoldUn SoldUn SoldUn SoldSoldUn SoldUn SoldUn SoldUn SoldUn SoldSoldUn SoldUn SoldUn SoldSoldUn SoldUn SoldUn SoldUn SoldUn SoldSoldUn SoldUn SoldUn SoldUn SoldUn SoldSoldUn SoldUn SoldUn SoldUn SoldUn SoldUn SoldUn SoldUn SoldSoldUn SoldUn SoldUn SoldUn SoldSoldSoldUn SoldUn SoldUn SoldSoldUn SoldSoldSoldUn SoldSoldSoldUn SoldUn SoldUn SoldUn SoldUn SoldUn SoldUn SoldUn SoldUn SoldSoldUn SoldUn SoldUn SoldUn SoldUn SoldUn SoldUn SoldUn SoldSoldUn SoldSoldSoldUn SoldUn SoldUn SoldUn SoldSoldUn SoldUn SoldUn SoldUn SoldUn SoldUn SoldUn SoldUn SoldUn SoldUn SoldUn SoldSoldSoldUn SoldUn SoldUn SoldUn SoldUn SoldSoldUn SoldUn SoldUn SoldUn SoldSoldSoldUn SoldUn SoldUn SoldUn SoldUn SoldUn SoldUn SoldUn SoldUn SoldUn SoldUn SoldUn SoldSoldUn SoldUn SoldSoldUn SoldSoldUn SoldUn SoldUn SoldUn SoldUn SoldUn SoldUn SoldUn SoldUn SoldUn SoldUn SoldUn SoldUn SoldUn SoldUn SoldSoldUn SoldUn SoldUn SoldUn SoldUn SoldUn SoldUn SoldSoldSoldUn SoldSoldUn SoldUn SoldUn SoldUn SoldUn SoldSoldUn SoldSoldSoldUn SoldUn SoldUn SoldUn SoldUn SoldUn SoldSoldUn SoldUn SoldUn SoldUn SoldSoldUn SoldUn SoldUn SoldUn SoldUn SoldUn SoldUn SoldSoldUn SoldSoldUn SoldUn SoldUn SoldUn SoldUn SoldUn SoldUn SoldUn SoldUn SoldUn SoldUn SoldSoldUn SoldSoldUn SoldUn SoldUn SoldUn SoldUn SoldUn SoldUn SoldUn SoldUn SoldUn SoldUn SoldSoldUn SoldSoldUn SoldSoldUn SoldUn SoldUn SoldUn SoldUn SoldUn SoldUn SoldUn SoldUn SoldSoldSoldUn SoldUn SoldSoldUn SoldUn SoldUn SoldUn SoldUn SoldUn SoldUn SoldUn SoldUn SoldUn SoldUn SoldUn SoldUn SoldUn SoldSoldSoldSoldUn SoldUn SoldUn SoldUn SoldUn SoldUn SoldSoldSoldUn SoldUn SoldUn SoldUn SoldUn SoldUn SoldUn SoldSoldUn SoldUn SoldUn SoldUn SoldUn SoldSoldUn SoldUn SoldUn SoldSoldSoldUn SoldUn SoldUn SoldUn SoldUn SoldUn SoldSoldUn SoldUn SoldUn SoldUn SoldSoldSoldUn SoldSoldSoldUn SoldUn SoldSoldUn SoldUn SoldUn SoldUn SoldUn SoldUn SoldUn SoldUn SoldSoldUn SoldUn SoldUn SoldUn SoldUn SoldSoldUn SoldUn SoldUn SoldUn SoldUn SoldSoldSoldUn SoldUn SoldUn SoldUn SoldUn SoldSoldUn SoldUn SoldUn SoldUn SoldSoldUn SoldUn SoldSoldUn SoldUn SoldUn SoldUn SoldUn SoldSoldUn SoldSoldUn SoldSoldUn SoldSoldUn SoldUn SoldUn SoldUn SoldUn SoldSoldUn SoldUn SoldUn SoldUn SoldUn SoldUn SoldUn SoldUn SoldUn SoldUn SoldUn SoldUn SoldUn SoldUn SoldUn SoldUn SoldSoldUn SoldUn SoldUn SoldUn SoldUn SoldSoldUn SoldUn SoldUn SoldUn SoldUn SoldUn SoldSoldUn SoldUn SoldUn SoldUn SoldUn SoldUn SoldUn SoldUn SoldUn SoldUn SoldSoldUn SoldUn SoldSoldSoldUn SoldUn SoldUn SoldUn SoldUn SoldUn SoldSoldUn SoldUn SoldUn SoldUn SoldSoldSoldSoldSoldUn SoldSoldUn SoldUn SoldSoldUn SoldSoldSoldUn SoldSoldUn SoldUn SoldUn SoldUn SoldUn SoldUn SoldUn SoldUn SoldUn SoldUn SoldUn SoldUn SoldSoldUn SoldUn SoldUn SoldSoldUn SoldUn SoldUn SoldUn SoldSoldUn SoldUn SoldUn SoldUn SoldUn SoldUn SoldUn SoldUn SoldSoldSoldUn SoldUn SoldSoldSoldUn SoldUn SoldUn SoldUn SoldUn SoldUn SoldUn SoldSoldSoldUn SoldUn SoldUn SoldUn SoldUn SoldSoldSoldUn SoldUn SoldUn SoldUn SoldUn SoldUn SoldUn SoldUn SoldUn SoldUn SoldUn SoldSoldSoldUn SoldUn SoldUn SoldSoldUn SoldUn SoldUn SoldUn SoldUn SoldUn SoldUn SoldUn SoldUn SoldUn SoldUn SoldUn SoldUn SoldUn SoldSoldSoldSoldSoldUn SoldUn SoldUn SoldUn SoldUn SoldUn SoldSoldSoldSoldUn SoldUn SoldSoldUn SoldUn SoldUn SoldSoldUn SoldUn SoldSoldSoldUn SoldUn SoldSoldUn SoldUn SoldUn SoldUn SoldSoldUn SoldUn SoldUn SoldUn SoldUn SoldUn SoldSoldSoldUn SoldSoldSoldUn SoldUn SoldSoldUn SoldUn SoldSoldUn SoldSoldUn SoldUn SoldUn SoldUn SoldSoldUn SoldSoldSoldSoldUn SoldSoldUn SoldSoldUn SoldSoldUn SoldSoldUn SoldUn SoldUn SoldUn SoldUn SoldSoldUn SoldUn SoldUn SoldUn SoldUn SoldUn SoldUn SoldSoldUn SoldUn SoldUn SoldUn SoldUn SoldUn SoldUn SoldUn SoldUn SoldSoldSoldSoldUn SoldUn SoldSoldUn SoldUn SoldUn SoldUn SoldSoldSoldUn SoldUn SoldUn SoldSoldUn SoldUn SoldUn SoldUn SoldUn SoldSoldSoldUn SoldUn SoldUn SoldUn SoldSoldUn SoldSoldUn SoldUn SoldUn SoldUn SoldUn SoldUn SoldSoldUn SoldSoldUn SoldUn SoldUn SoldUn SoldUn SoldUn SoldUn SoldUn SoldUn SoldUn SoldSoldUn SoldSoldUn SoldUn SoldUn SoldUn SoldUn SoldUn SoldUn SoldUn SoldSoldUn SoldUn SoldUn SoldUn SoldSoldUn SoldSoldUn SoldUn SoldUn SoldSoldUn SoldUn SoldUn SoldUn SoldUn SoldUn SoldUn SoldUn SoldUn SoldSoldUn SoldUn SoldUn SoldUn SoldUn SoldUn SoldUn SoldSoldUn SoldUn SoldUn SoldUn SoldUn SoldSoldUn SoldUn SoldUn SoldSoldUn SoldUn SoldSoldUn SoldUn SoldUn SoldUn SoldUn SoldUn SoldUn SoldUn SoldUn SoldSoldUn SoldSoldUn SoldUn SoldSoldUn SoldUn SoldSoldSoldUn SoldUn SoldUn SoldUn SoldUn SoldSoldUn SoldUn SoldUn SoldSoldUn SoldUn SoldUn SoldSoldSoldSoldUn SoldUn SoldUn SoldUn SoldUn SoldUn SoldUn SoldUn SoldSoldUn SoldUn SoldUn SoldUn SoldUn SoldUn SoldUn SoldSoldSoldUn SoldUn SoldUn SoldUn SoldUn SoldUn SoldUn SoldUn SoldSoldUn SoldSoldUn SoldUn SoldSoldUn SoldSoldSoldUn SoldSoldUn SoldSoldSoldUn SoldUn SoldUn SoldUn SoldSoldSoldUn SoldUn SoldUn SoldSoldUn SoldUn SoldUn SoldUn SoldUn SoldUn SoldUn SoldUn SoldSoldUn SoldSoldUn SoldUn SoldSoldSoldUn SoldUn SoldUn SoldUn SoldUn SoldUn SoldUn SoldUn SoldSoldUn SoldSoldUn SoldUn SoldUn SoldUn SoldUn SoldUn SoldUn SoldUn SoldUn SoldSoldSoldUn SoldUn SoldSoldUn SoldSoldUn SoldUn SoldUn SoldSoldSoldUn SoldUn SoldUn SoldUn SoldSoldUn SoldUn SoldUn SoldUn SoldUn SoldSoldUn SoldSoldUn SoldUn SoldUn SoldUn SoldUn SoldSoldUn SoldUn SoldSoldUn SoldUn SoldUn SoldUn SoldSoldUn SoldUn SoldUn SoldUn SoldUn SoldUn SoldSoldSoldUn SoldUn SoldUn SoldUn SoldUn SoldUn SoldUn SoldUn SoldUn SoldUn SoldSoldUn SoldUn SoldSoldSoldUn SoldUn SoldUn SoldSoldUn SoldUn SoldUn SoldUn SoldUn SoldSoldUn SoldUn SoldSoldUn SoldUn SoldUn SoldUn SoldUn SoldUn SoldUn SoldSoldUn SoldSoldUn SoldSoldSoldUn SoldSoldSoldUn SoldSoldSoldUn SoldUn SoldSoldUn SoldSoldUn SoldUn SoldUn SoldUn SoldSoldUn SoldUn SoldUn SoldUn SoldSoldUn SoldSoldUn SoldSoldSoldUn SoldUn SoldUn SoldUn SoldUn SoldSoldSoldUn SoldUn SoldSoldUn SoldUn SoldSoldUn SoldUn SoldSoldUn SoldUn SoldUn SoldSoldUn SoldUn SoldUn SoldUn SoldSoldSoldUn SoldSoldSoldSoldUn SoldUn SoldSoldUn SoldUn SoldUn SoldSoldUn SoldUn SoldUn SoldSoldUn SoldUn SoldUn SoldUn SoldUn SoldUn SoldUn SoldUn SoldUn SoldUn SoldUn SoldUn SoldUn SoldUn SoldUn SoldUn SoldUn SoldSoldSoldSoldUn SoldUn SoldUn SoldUn SoldSoldUn SoldUn SoldUn SoldUn SoldUn SoldUn SoldSoldUn SoldUn SoldUn SoldUn SoldUn SoldSoldUn SoldUn SoldUn SoldUn SoldUn SoldUn SoldUn SoldSoldSoldUn SoldSoldUn SoldSoldSoldUn SoldUn SoldUn SoldUn SoldUn SoldSoldUn SoldUn SoldUn SoldUn SoldUn SoldSoldUn SoldUn SoldUn SoldUn SoldSoldUn SoldUn SoldUn SoldUn SoldUn SoldUn SoldSoldUn SoldUn SoldUn SoldSoldSoldUn SoldSoldUn SoldUn SoldSoldUn SoldUn SoldUn SoldUn SoldUn SoldUn SoldUn SoldUn SoldUn SoldUn SoldUn SoldUn SoldUn SoldSoldUn SoldUn SoldUn SoldUn SoldUn SoldUn SoldUn SoldUn SoldSoldUn SoldUn SoldUn SoldUn SoldUn SoldUn SoldUn SoldUn SoldUn SoldUn SoldSoldSoldSoldUn SoldUn SoldUn SoldUn SoldUn SoldSoldSoldSoldUn SoldUn SoldUn SoldUn SoldSoldUn SoldUn SoldUn SoldSoldUn SoldUn SoldUn SoldUn SoldUn SoldSoldUn SoldUn SoldUn SoldUn SoldUn SoldUn SoldUn SoldSoldSoldUn SoldUn SoldUn SoldUn SoldUn SoldUn SoldSoldUn SoldUn SoldUn SoldUn SoldUn SoldUn SoldSoldUn SoldUn SoldUn SoldUn SoldUn SoldUn SoldUn SoldUn SoldUn SoldUn SoldSoldUn SoldUn SoldUn SoldUn SoldUn SoldUn SoldUn SoldUn SoldUn SoldUn SoldUn SoldUn SoldUn SoldUn SoldUn SoldUn SoldSoldSoldUn SoldUn SoldUn SoldUn SoldUn SoldSoldSoldUn SoldUn SoldUn SoldUn SoldUn SoldSoldSoldUn SoldSoldUn SoldSoldUn SoldUn SoldUn SoldUn SoldUn SoldUn SoldUn SoldUn SoldUn SoldUn SoldSoldSoldSoldUn SoldUn SoldUn SoldUn SoldSoldUn SoldSoldUn SoldUn SoldUn SoldUn SoldUn SoldUn SoldUn SoldUn SoldUn SoldUn SoldUn SoldUn SoldUn SoldSoldUn SoldUn SoldUn SoldSoldUn SoldUn SoldUn SoldUn SoldUn SoldUn SoldUn SoldUn SoldUn SoldUn SoldUn SoldUn SoldUn SoldSoldUn SoldUn SoldUn SoldUn SoldUn SoldUn SoldUn SoldUn SoldUn SoldUn SoldUn SoldSoldUn SoldUn SoldUn SoldSoldUn SoldUn SoldUn SoldUn SoldUn SoldUn SoldUn SoldUn SoldSoldUn SoldUn SoldUn SoldUn SoldUn SoldUn SoldSoldUn SoldUn SoldUn SoldUn SoldUn SoldUn SoldUn SoldSoldSoldUn SoldSoldUn SoldUn SoldUn SoldSoldUn SoldUn SoldUn SoldSoldUn SoldUn SoldUn SoldUn SoldUn SoldSoldUn SoldUn SoldUn SoldUn SoldUn SoldUn SoldUn SoldUn SoldUn SoldUn SoldUn SoldUn SoldUn SoldUn SoldUn SoldUn SoldUn SoldUn SoldUn SoldUn SoldUn SoldUn SoldSoldUn SoldSoldUn SoldUn SoldUn SoldSoldUn SoldUn SoldUn SoldUn SoldUn SoldUn SoldUn SoldSoldUn SoldUn SoldUn SoldUn SoldUn SoldUn SoldSoldUn SoldUn SoldUn SoldSoldUn SoldUn SoldUn SoldSoldUn SoldUn SoldUn SoldUn SoldUn SoldUn SoldUn SoldUn SoldSoldUn SoldUn SoldUn SoldUn SoldUn SoldSoldSoldUn SoldUn SoldUn SoldUn SoldUn SoldUn SoldSoldUn SoldSoldUn SoldSoldUn SoldUn SoldUn SoldUn SoldUn SoldUn SoldUn SoldSoldUn SoldUn SoldSoldUn SoldSoldUn SoldUn SoldUn SoldUn SoldUn SoldUn SoldSoldUn SoldUn SoldUn SoldUn SoldSoldUn SoldSoldUn SoldUn SoldUn SoldUn SoldUn SoldUn SoldUn SoldSoldSoldUn SoldUn SoldUn SoldUn SoldUn SoldUn SoldUn SoldUn SoldUn SoldUn SoldUn SoldSoldUn SoldUn SoldUn SoldUn SoldUn SoldUn SoldSoldUn SoldUn SoldSoldUn SoldUn SoldUn SoldUn SoldUn SoldSoldUn SoldUn SoldUn SoldUn SoldSoldSoldUn SoldUn SoldUn SoldSoldSoldSoldUn SoldUn SoldUn SoldUn SoldUn SoldUn SoldUn SoldUn SoldUn SoldUn SoldSoldUn SoldSoldUn SoldUn SoldUn SoldUn SoldUn SoldSoldSoldUn SoldUn SoldUn SoldSoldSoldSoldUn SoldUn SoldSoldUn SoldUn SoldUn SoldUn SoldSoldUn SoldUn SoldSoldUn SoldUn SoldUn SoldUn SoldUn SoldUn SoldUn SoldUn SoldUn SoldUn SoldUn SoldSoldUn SoldUn SoldUn SoldUn SoldSoldUn SoldUn SoldUn SoldSoldSoldUn SoldSoldSoldUn SoldUn SoldUn SoldUn SoldSoldSoldUn SoldSoldUn SoldUn SoldSoldUn SoldUn SoldUn SoldSoldSoldSoldUn SoldSoldUn SoldUn SoldSoldUn SoldUn SoldUn SoldSoldUn SoldUn SoldUn SoldUn SoldUn SoldUn SoldUn SoldUn SoldUn SoldSoldUn SoldUn SoldUn SoldUn SoldUn SoldUn SoldUn SoldUn SoldUn SoldUn SoldUn SoldUn SoldUn SoldUn SoldUn SoldUn SoldSoldSoldSoldSoldUn SoldUn SoldSoldUn SoldUn SoldUn SoldUn SoldSoldUn SoldUn SoldUn SoldUn SoldSoldUn SoldSoldUn SoldUn SoldUn SoldUn SoldUn SoldUn SoldUn SoldSoldUn SoldSoldSoldUn SoldSoldUn SoldUn SoldUn SoldUn SoldSoldUn SoldUn SoldUn SoldSoldSoldSoldUn SoldUn SoldUn SoldSoldUn SoldUn SoldUn SoldUn SoldUn SoldUn SoldUn SoldUn SoldUn SoldSoldUn SoldUn SoldUn SoldUn SoldUn SoldUn SoldUn SoldUn SoldUn SoldUn SoldUn SoldUn SoldUn SoldUn SoldUn SoldUn SoldSoldUn SoldUn SoldUn SoldSoldUn SoldUn SoldUn SoldUn SoldUn SoldUn SoldUn SoldUn SoldUn SoldUn SoldUn SoldUn SoldUn SoldUn SoldUn SoldUn SoldSoldUn SoldUn SoldSoldUn SoldUn SoldSoldUn SoldUn SoldUn SoldUn SoldUn SoldUn SoldUn SoldUn SoldUn SoldUn SoldUn SoldUn SoldUn SoldUn SoldUn SoldUn SoldUn SoldSoldSoldSoldUn SoldUn SoldSoldUn SoldUn SoldUn SoldUn SoldSoldUn SoldUn SoldUn SoldUn SoldSoldUn SoldUn SoldUn SoldSoldUn SoldUn SoldUn SoldUn SoldUn SoldUn SoldUn SoldUn SoldSoldUn SoldUn SoldUn SoldSoldSoldUn SoldUn SoldUn SoldSoldSoldUn SoldUn SoldSoldUn SoldSoldUn SoldUn SoldUn SoldUn SoldSoldUn SoldUn SoldUn SoldUn SoldUn SoldSoldUn SoldUn SoldUn SoldUn SoldUn SoldUn SoldSoldUn SoldUn SoldSoldUn SoldUn SoldUn SoldUn SoldUn SoldUn SoldUn SoldUn SoldSoldUn SoldUn SoldUn SoldUn SoldUn SoldSoldSoldUn SoldUn SoldUn SoldUn SoldSoldUn SoldUn SoldSoldSoldUn SoldSoldUn SoldUn SoldUn SoldUn SoldUn SoldUn SoldUn SoldUn SoldUn SoldUn SoldUn SoldUn SoldSoldUn SoldUn SoldSoldUn SoldUn SoldSoldUn SoldSoldUn SoldUn SoldSoldUn SoldUn SoldUn SoldUn SoldUn SoldUn SoldUn SoldUn SoldSoldUn SoldUn SoldUn SoldUn SoldUn SoldUn SoldUn SoldUn SoldUn SoldUn SoldUn SoldUn SoldUn SoldUn SoldSoldUn SoldSoldUn SoldSoldUn SoldSoldUn SoldSoldUn SoldUn SoldUn SoldUn SoldUn SoldUn SoldUn SoldUn SoldUn SoldUn SoldUn SoldSoldUn SoldUn SoldUn SoldUn SoldSoldUn SoldUn SoldSoldUn SoldUn SoldSoldUn SoldUn SoldUn SoldUn SoldSoldUn SoldSoldUn SoldUn SoldUn SoldUn SoldUn SoldUn SoldSoldUn SoldUn SoldUn SoldUn SoldUn SoldUn SoldUn SoldUn SoldUn SoldUn SoldUn SoldUn SoldSoldUn SoldSoldUn SoldUn SoldUn SoldUn SoldUn SoldUn SoldUn SoldUn SoldUn SoldSoldUn SoldSoldUn SoldSoldUn SoldUn SoldSoldUn SoldUn SoldUn SoldUn SoldUn SoldUn SoldUn SoldSoldUn SoldUn SoldUn SoldUn SoldUn SoldUn SoldUn SoldSoldUn SoldUn SoldUn SoldUn SoldUn SoldSoldUn SoldUn SoldUn SoldUn SoldUn SoldUn SoldUn SoldUn SoldSoldUn SoldUn SoldUn SoldUn SoldSoldUn SoldSoldUn SoldUn SoldSoldSoldUn SoldUn SoldSoldUn SoldUn SoldSoldUn SoldSoldSoldUn SoldSoldUn SoldUn SoldUn SoldUn SoldUn SoldUn SoldUn SoldUn SoldUn SoldUn SoldUn SoldUn SoldUn SoldUn SoldUn SoldUn SoldUn SoldUn SoldUn SoldUn SoldUn SoldUn SoldUn SoldUn SoldUn SoldUn SoldSoldUn SoldSoldUn SoldUn SoldUn SoldUn SoldUn SoldUn SoldUn SoldUn SoldUn SoldUn SoldUn SoldUn SoldUn SoldUn SoldUn SoldUn SoldUn SoldUn SoldUn SoldUn SoldSoldUn SoldUn SoldUn SoldUn SoldUn SoldUn SoldUn SoldUn SoldUn SoldSoldUn SoldUn SoldUn SoldUn SoldSoldUn SoldSoldUn SoldUn SoldUn SoldSoldUn SoldUn SoldUn SoldUn SoldUn SoldUn SoldUn SoldUn SoldUn SoldUn SoldUn SoldUn SoldUn SoldUn SoldUn SoldSoldUn SoldUn SoldUn SoldUn SoldUn SoldUn SoldSoldSoldUn SoldUn SoldUn SoldSoldUn SoldUn SoldSoldUn SoldUn SoldUn SoldUn SoldUn SoldUn SoldSoldSoldUn SoldSoldUn SoldUn SoldUn SoldSoldSoldUn SoldUn SoldUn SoldUn SoldUn SoldUn SoldUn SoldUn SoldUn SoldSoldUn SoldUn SoldSoldUn SoldSoldUn SoldUn SoldUn SoldUn SoldUn SoldUn SoldUn SoldUn SoldUn SoldUn SoldUn SoldSoldUn SoldUn SoldUn SoldUn SoldUn SoldUn SoldUn SoldUn SoldSoldUn SoldUn SoldUn SoldSoldUn SoldUn SoldUn SoldUn SoldUn SoldUn SoldUn SoldUn SoldUn SoldSoldUn SoldUn SoldSoldUn SoldUn SoldSoldUn SoldUn SoldUn SoldSoldUn SoldUn SoldUn SoldUn SoldSoldUn SoldUn SoldUn SoldUn SoldUn SoldUn SoldUn SoldUn SoldUn SoldUn SoldSoldUn SoldUn SoldSoldUn SoldSoldUn SoldUn SoldUn SoldUn SoldUn SoldUn SoldUn SoldUn SoldUn SoldUn SoldUn SoldUn SoldSoldUn SoldSoldUn SoldUn SoldSoldUn SoldUn SoldUn SoldUn SoldUn SoldUn SoldUn SoldUn SoldUn SoldUn SoldUn SoldUn SoldUn SoldUn SoldUn SoldUn SoldUn SoldSoldUn SoldUn SoldUn SoldUn SoldUn SoldUn SoldUn SoldSoldUn SoldUn SoldUn SoldSoldUn SoldUn SoldUn SoldSoldUn SoldUn SoldUn SoldUn SoldUn SoldUn SoldUn SoldUn SoldUn SoldUn SoldSoldUn SoldUn SoldUn SoldSoldUn SoldUn SoldSoldUn SoldUn SoldUn SoldUn SoldUn SoldUn SoldUn SoldUn SoldUn SoldUn SoldSoldUn SoldUn SoldSoldSoldSoldUn SoldUn SoldUn SoldSoldUn SoldUn SoldUn SoldUn SoldUn SoldUn SoldUn SoldUn SoldSoldSoldUn SoldUn SoldUn SoldUn SoldUn SoldUn SoldUn SoldSoldUn SoldSoldSoldSoldUn SoldUn SoldUn SoldUn SoldUn SoldUn SoldUn SoldUn SoldUn SoldUn SoldUn SoldSoldSoldUn SoldUn SoldUn SoldUn SoldUn SoldUn SoldUn SoldUn SoldUn SoldSoldUn SoldSoldUn SoldUn SoldSoldUn SoldUn SoldUn SoldUn SoldUn SoldUn SoldUn SoldUn SoldSoldUn SoldUn SoldSoldUn SoldUn SoldUn SoldUn SoldUn SoldUn SoldUn SoldSoldUn SoldUn SoldUn SoldUn SoldUn SoldUn SoldSoldUn SoldUn SoldUn SoldUn SoldUn SoldUn SoldSoldUn SoldSoldUn SoldUn SoldUn SoldUn SoldUn SoldUn SoldUn SoldUn SoldSoldSoldUn SoldSoldUn SoldUn SoldUn SoldUn SoldUn SoldUn SoldUn SoldUn SoldUn SoldUn SoldUn SoldUn SoldUn SoldUn SoldUn SoldSoldUn SoldUn SoldUn SoldSoldUn SoldSoldUn SoldUn SoldUn SoldSoldUn SoldSoldUn SoldUn SoldUn SoldUn SoldSoldUn SoldUn SoldSoldSoldUn SoldUn SoldUn SoldUn SoldUn SoldUn SoldUn SoldUn SoldUn SoldUn SoldUn SoldUn SoldUn SoldUn SoldUn SoldUn SoldUn SoldUn SoldSoldSoldUn SoldUn SoldUn SoldUn SoldUn SoldUn SoldSoldUn SoldUn SoldSoldUn SoldUn SoldUn SoldUn SoldSoldUn SoldUn SoldUn SoldUn SoldSoldUn SoldUn SoldUn SoldUn SoldUn SoldUn SoldUn SoldUn SoldUn SoldUn SoldSoldSoldUn SoldUn SoldUn SoldUn SoldUn SoldUn SoldSoldUn SoldSoldUn SoldUn SoldUn SoldUn SoldUn SoldUn SoldUn SoldSoldUn SoldUn SoldUn SoldUn SoldSoldUn SoldUn SoldUn SoldUn SoldUn SoldUn SoldUn SoldSoldUn SoldUn SoldUn SoldUn SoldUn SoldUn SoldUn SoldUn SoldSoldUn SoldSoldUn SoldSoldUn SoldUn SoldSoldUn SoldUn SoldUn SoldUn SoldUn SoldUn SoldUn SoldUn SoldUn SoldUn SoldUn SoldUn SoldUn SoldUn SoldUn SoldUn SoldUn SoldUn SoldUn SoldUn SoldSoldSoldSoldSoldUn SoldUn SoldUn SoldUn SoldUn SoldUn SoldSoldUn SoldUn SoldUn SoldUn SoldSoldUn SoldUn SoldUn SoldUn SoldUn SoldUn SoldUn SoldSoldUn SoldUn SoldUn SoldUn SoldSoldSoldUn SoldUn SoldUn SoldUn SoldUn SoldUn SoldUn SoldUn SoldUn SoldUn SoldUn SoldSoldUn SoldUn SoldUn SoldSoldUn SoldUn SoldUn SoldUn SoldUn SoldUn SoldSoldUn SoldSoldUn SoldUn SoldSoldUn SoldSoldUn SoldSoldUn SoldSoldUn SoldSoldUn SoldUn SoldUn SoldUn SoldUn SoldUn SoldUn SoldUn SoldUn SoldSoldUn SoldUn SoldUn SoldUn SoldSoldUn SoldSoldUn SoldUn SoldUn SoldUn SoldUn SoldUn SoldSoldUn SoldUn SoldUn SoldSoldUn SoldSoldSoldUn SoldSoldUn SoldUn SoldUn SoldUn SoldUn SoldUn SoldUn SoldUn SoldSoldUn SoldUn SoldSoldUn SoldUn SoldUn SoldUn SoldSoldUn SoldSoldUn SoldUn SoldUn SoldUn SoldUn SoldSoldUn SoldSoldUn SoldUn SoldUn SoldUn SoldUn SoldSoldUn SoldUn SoldSoldSoldUn SoldUn SoldUn SoldUn SoldUn SoldUn SoldSoldUn SoldUn SoldSoldUn SoldUn SoldUn SoldSoldUn SoldUn SoldUn SoldUn SoldUn SoldUn SoldUn SoldUn SoldUn SoldSoldUn SoldSoldUn SoldUn SoldUn SoldUn SoldUn SoldUn SoldUn SoldUn SoldUn SoldSoldUn SoldSoldUn SoldUn SoldSoldUn SoldUn SoldUn SoldUn SoldUn SoldUn SoldUn SoldUn SoldUn SoldUn SoldUn SoldUn SoldUn SoldUn SoldUn SoldSoldUn SoldUn SoldSoldSoldSoldUn SoldUn SoldSoldUn SoldUn SoldUn SoldSoldUn SoldUn SoldSoldUn SoldUn SoldSoldUn SoldSoldUn SoldUn SoldUn SoldUn SoldUn SoldSoldUn SoldSoldUn SoldSoldUn SoldSoldUn SoldUn SoldUn SoldUn SoldSoldUn SoldUn SoldSoldUn SoldUn SoldUn SoldUn SoldUn SoldUn SoldUn SoldUn SoldUn SoldUn SoldUn SoldUn SoldUn SoldUn SoldUn SoldSoldUn SoldUn SoldSoldUn SoldUn SoldUn SoldSoldSoldUn SoldUn SoldSoldUn SoldUn SoldSoldUn SoldUn SoldUn SoldSoldUn SoldUn SoldUn SoldUn SoldUn SoldUn SoldUn SoldUn SoldUn SoldUn SoldUn SoldSoldSoldUn SoldUn SoldUn SoldUn SoldUn SoldSoldUn SoldUn SoldUn SoldUn SoldSoldUn SoldUn SoldUn SoldUn SoldUn SoldUn SoldSoldUn SoldUn SoldUn SoldUn SoldUn SoldUn SoldUn SoldUn SoldUn SoldSoldSoldUn SoldUn SoldSoldUn SoldSoldUn SoldSoldUn SoldUn SoldSoldSoldUn SoldUn SoldUn SoldUn SoldUn SoldUn SoldUn SoldUn SoldSoldUn SoldSoldUn SoldSoldUn SoldSoldSoldSoldUn SoldUn SoldSoldUn SoldSoldUn SoldSoldUn SoldUn SoldSoldUn SoldUn SoldSoldUn SoldUn SoldSoldSoldUn SoldUn SoldUn SoldUn SoldUn SoldUn SoldUn SoldSoldUn SoldUn SoldUn SoldUn SoldUn SoldUn SoldSoldUn SoldSoldUn SoldUn SoldSoldUn SoldUn SoldUn SoldUn SoldSoldUn SoldUn SoldUn SoldUn SoldUn SoldUn SoldUn SoldUn SoldUn SoldUn SoldUn SoldUn SoldSoldUn SoldUn SoldSoldUn SoldSoldUn SoldUn SoldUn SoldUn SoldUn SoldUn SoldUn SoldUn SoldUn SoldUn SoldSoldUn SoldUn SoldUn SoldUn SoldUn SoldSoldUn SoldUn SoldUn SoldSoldSoldUn SoldSoldUn SoldSoldSoldUn SoldUn SoldUn SoldUn SoldUn SoldUn SoldUn SoldUn SoldUn SoldSoldUn SoldUn SoldSoldUn SoldUn SoldUn SoldUn SoldUn SoldUn SoldUn SoldUn SoldSoldUn SoldUn SoldUn SoldUn SoldUn SoldUn SoldSoldSoldUn SoldUn SoldUn SoldUn SoldUn SoldSoldUn SoldUn SoldUn SoldUn SoldUn SoldUn SoldUn SoldUn SoldUn SoldSoldSoldUn SoldSoldUn SoldUn SoldUn SoldUn SoldSoldUn SoldUn SoldSoldSoldUn SoldUn SoldUn SoldUn SoldUn SoldUn SoldUn SoldSoldSoldUn SoldUn SoldUn SoldUn SoldUn SoldUn SoldUn SoldUn SoldUn SoldUn SoldUn SoldUn SoldUn SoldUn SoldSoldSoldUn SoldUn SoldUn SoldSoldUn SoldUn SoldUn SoldSoldUn SoldUn SoldSoldUn SoldUn SoldUn SoldUn SoldSoldSoldUn SoldSoldUn SoldUn SoldSoldSoldUn SoldUn SoldUn SoldUn SoldUn SoldUn SoldUn SoldUn SoldUn SoldUn SoldUn SoldUn SoldSoldUn SoldUn SoldUn SoldSoldUn SoldUn SoldUn SoldUn SoldUn SoldSoldSoldUn SoldUn SoldSoldUn SoldUn SoldUn SoldUn SoldUn SoldUn SoldSoldUn SoldUn SoldUn SoldUn SoldUn SoldSoldUn SoldUn SoldUn SoldUn SoldUn SoldSoldUn SoldUn SoldSoldSoldSoldUn SoldUn SoldUn SoldSoldUn SoldUn SoldUn SoldUn SoldUn SoldSoldUn SoldUn SoldUn SoldUn SoldUn SoldSoldUn SoldUn SoldUn SoldSoldUn SoldSoldSoldUn SoldUn SoldUn SoldUn SoldUn SoldUn SoldUn SoldSoldSoldUn SoldUn SoldUn SoldUn SoldUn SoldUn SoldUn SoldUn SoldUn SoldUn SoldUn SoldUn SoldSoldUn SoldUn SoldUn SoldSoldUn SoldUn SoldUn SoldUn SoldUn SoldUn SoldUn SoldUn SoldUn SoldSoldSoldUn SoldUn SoldUn SoldUn SoldUn SoldSoldSoldUn SoldUn SoldUn SoldUn SoldUn SoldUn SoldUn SoldUn SoldSoldUn SoldUn SoldSoldSoldSoldUn SoldUn SoldSoldUn SoldUn SoldUn SoldUn SoldUn SoldSoldUn SoldSoldUn SoldSoldUn SoldSoldUn SoldUn SoldUn SoldUn SoldUn SoldUn SoldUn SoldSoldUn SoldUn SoldUn SoldUn SoldUn SoldUn SoldSoldSoldUn SoldUn SoldUn SoldUn SoldUn SoldUn SoldUn SoldUn SoldSoldUn SoldUn SoldUn SoldUn SoldUn SoldUn SoldSoldUn SoldUn SoldSoldUn SoldUn SoldSoldSoldUn SoldUn SoldUn SoldUn SoldSoldUn SoldUn SoldUn SoldUn SoldUn SoldUn SoldUn SoldUn SoldUn SoldSoldSoldUn SoldSoldUn SoldUn SoldUn SoldUn SoldUn SoldUn SoldSoldUn SoldUn SoldUn SoldSoldUn SoldUn SoldSoldSoldUn SoldUn SoldUn SoldUn SoldUn SoldUn SoldUn SoldUn SoldUn SoldUn SoldUn SoldSoldSoldSoldUn SoldSoldUn SoldUn SoldSoldUn SoldUn SoldUn SoldUn SoldUn SoldUn SoldUn SoldUn SoldUn SoldUn SoldUn SoldSoldUn SoldSoldUn SoldUn SoldUn SoldUn SoldUn SoldUn SoldUn SoldUn SoldUn SoldUn SoldSoldSoldUn SoldSoldUn SoldUn SoldUn SoldSoldUn SoldUn SoldUn SoldSoldSoldUn SoldUn SoldUn SoldUn SoldSoldSoldUn SoldUn SoldUn SoldUn SoldSoldUn SoldUn SoldSoldSoldUn SoldUn SoldUn SoldUn SoldUn SoldUn SoldUn SoldSoldSoldUn SoldSoldUn SoldUn SoldUn SoldUn SoldUn SoldUn SoldUn SoldSoldUn SoldUn SoldUn SoldUn SoldUn SoldUn SoldUn SoldUn SoldSoldUn SoldUn SoldUn SoldUn SoldUn SoldUn SoldSoldSoldUn SoldSoldUn SoldUn SoldUn SoldUn SoldUn SoldUn SoldUn SoldUn SoldSoldUn SoldUn SoldUn SoldUn SoldUn SoldUn SoldUn SoldUn SoldUn SoldUn SoldUn SoldUn SoldUn SoldSoldUn SoldUn SoldUn SoldUn SoldSoldUn SoldUn SoldUn SoldSoldSoldUn SoldSoldUn SoldUn SoldUn SoldUn SoldSoldUn SoldUn SoldUn SoldUn SoldUn SoldUn SoldUn SoldUn SoldUn SoldUn SoldUn SoldUn SoldUn SoldUn SoldUn SoldUn SoldUn SoldUn SoldUn SoldUn SoldUn SoldUn SoldSoldUn SoldSoldSoldSoldUn SoldUn SoldSoldUn SoldUn SoldUn SoldUn SoldUn SoldUn SoldUn SoldUn SoldSoldUn SoldUn SoldUn SoldSoldUn SoldUn SoldUn SoldUn SoldUn SoldSoldUn SoldSoldSoldUn SoldUn SoldUn SoldUn SoldUn SoldUn SoldSoldUn SoldSoldSoldSoldUn SoldUn SoldSoldUn SoldUn SoldUn SoldUn SoldUn SoldSoldSoldSoldSoldUn SoldUn SoldUn SoldUn SoldUn SoldUn SoldUn SoldUn SoldUn SoldUn SoldUn SoldUn SoldUn SoldUn SoldUn SoldUn SoldUn SoldUn SoldUn SoldUn SoldSoldUn SoldUn SoldUn SoldUn SoldSoldUn SoldUn SoldSoldUn SoldSoldSoldUn SoldUn SoldSoldSoldUn SoldSoldUn SoldUn SoldSoldUn SoldUn SoldSoldUn SoldUn SoldSoldUn SoldUn SoldUn SoldUn SoldSoldSoldUn SoldUn SoldUn SoldUn SoldUn SoldUn SoldUn SoldUn SoldUn SoldSoldUn SoldUn SoldUn SoldUn SoldUn SoldSoldUn SoldUn SoldUn SoldUn SoldSoldUn SoldUn SoldUn SoldUn SoldUn SoldUn SoldUn SoldUn SoldSoldUn SoldSoldSoldSoldUn SoldUn SoldUn SoldUn SoldUn SoldUn SoldUn SoldUn SoldUn SoldUn SoldUn SoldUn SoldUn SoldUn SoldSoldUn SoldUn SoldUn SoldUn SoldUn SoldSoldUn SoldUn SoldUn SoldUn SoldUn SoldSoldUn SoldSoldSoldUn SoldSoldUn SoldUn SoldUn SoldUn SoldUn SoldUn SoldUn SoldUn SoldUn SoldSoldUn SoldUn SoldSoldUn SoldUn SoldSoldUn SoldUn SoldUn SoldUn SoldUn SoldUn SoldSoldUn SoldUn SoldUn SoldUn SoldUn SoldSoldUn SoldSoldUn SoldSoldSoldUn SoldUn SoldUn SoldUn SoldUn SoldUn SoldUn SoldUn SoldUn SoldUn SoldUn SoldUn SoldUn SoldUn SoldSoldUn SoldUn SoldSoldUn SoldUn SoldUn SoldUn SoldUn SoldSoldUn SoldUn SoldUn SoldUn SoldSoldUn SoldSoldSoldSoldUn SoldSoldSoldUn SoldUn SoldUn SoldSoldUn SoldSoldSoldUn SoldUn SoldUn SoldUn SoldUn SoldSoldUn SoldUn SoldUn SoldUn SoldUn SoldUn SoldUn SoldSoldUn SoldSoldUn SoldUn SoldUn SoldUn SoldUn SoldUn SoldSoldSoldUn SoldUn SoldUn SoldUn SoldSoldUn SoldSoldUn SoldSoldUn SoldUn SoldUn SoldSoldUn SoldUn SoldSoldUn SoldUn SoldUn SoldUn SoldUn SoldSoldUn SoldUn SoldUn SoldUn SoldUn SoldSoldSoldUn SoldUn SoldUn SoldUn SoldUn SoldUn SoldUn SoldUn SoldUn SoldUn SoldSoldUn SoldUn SoldSoldUn SoldUn SoldSoldUn SoldUn SoldUn SoldUn SoldUn SoldUn SoldUn SoldUn SoldUn SoldUn SoldUn SoldUn SoldUn SoldUn SoldUn SoldUn SoldUn SoldUn SoldUn SoldUn SoldSoldUn SoldUn SoldUn SoldUn SoldUn SoldUn SoldUn SoldUn SoldUn SoldSoldUn SoldUn SoldUn SoldUn SoldUn SoldUn SoldUn SoldUn SoldUn SoldUn SoldUn SoldUn SoldSoldSoldUn SoldUn SoldUn SoldUn SoldUn SoldUn SoldUn SoldSoldUn SoldSoldSoldUn SoldUn SoldUn SoldUn SoldUn SoldUn SoldSoldSoldUn SoldUn SoldUn SoldSoldUn SoldUn SoldUn SoldUn SoldUn SoldUn SoldUn SoldUn SoldUn SoldUn SoldUn SoldUn SoldUn SoldUn SoldUn SoldUn SoldUn SoldUn SoldSoldUn SoldUn SoldUn SoldUn SoldSoldUn SoldUn SoldUn SoldUn SoldSoldUn SoldUn SoldUn SoldUn SoldUn SoldUn SoldUn SoldUn SoldUn SoldUn SoldUn SoldUn SoldUn SoldUn SoldUn SoldUn SoldSoldUn SoldSoldUn SoldUn SoldUn SoldSoldUn SoldUn SoldUn SoldUn SoldUn SoldSoldUn SoldUn SoldUn SoldUn SoldUn SoldUn SoldSoldUn SoldUn SoldUn SoldUn SoldUn SoldSoldSoldUn SoldUn SoldUn SoldUn SoldUn SoldSoldUn SoldUn SoldSoldUn SoldUn SoldSoldUn SoldUn SoldUn SoldUn SoldUn SoldUn SoldSoldUn SoldUn SoldUn SoldUn SoldUn SoldUn SoldUn SoldUn SoldUn SoldUn SoldUn SoldUn SoldUn SoldUn SoldUn SoldUn SoldUn SoldUn SoldUn SoldUn SoldSoldUn SoldUn SoldSoldUn SoldSoldSoldUn SoldUn SoldUn SoldUn SoldUn SoldUn SoldUn SoldUn SoldUn SoldUn SoldUn SoldUn SoldSoldSoldUn SoldUn SoldUn SoldUn SoldUn SoldSoldUn SoldUn SoldUn SoldUn SoldUn SoldUn SoldUn SoldUn SoldUn SoldUn SoldSoldUn SoldUn SoldUn SoldUn SoldUn SoldUn SoldUn SoldUn SoldUn SoldUn SoldUn SoldUn SoldUn SoldUn SoldUn SoldUn SoldUn SoldSoldUn SoldUn SoldUn SoldUn SoldUn SoldUn SoldSoldSoldSoldUn SoldUn SoldSoldUn SoldUn SoldUn SoldUn SoldSoldUn SoldSoldSoldUn SoldUn SoldUn SoldUn SoldUn SoldUn SoldUn SoldSoldUn SoldUn SoldUn SoldUn SoldUn SoldUn SoldUn SoldUn SoldUn SoldUn SoldUn SoldSoldUn SoldSoldUn SoldSoldUn SoldUn SoldUn SoldUn SoldUn SoldSoldUn SoldUn SoldUn SoldUn SoldUn SoldUn SoldUn SoldUn SoldUn SoldUn SoldSoldSoldUn SoldUn SoldUn SoldUn SoldSoldSoldSoldUn SoldUn SoldUn SoldUn SoldSoldSoldUn SoldUn SoldUn SoldUn SoldUn SoldUn SoldSoldUn SoldUn SoldUn SoldUn SoldUn SoldSoldUn SoldUn SoldUn SoldSoldUn SoldSoldUn SoldUn SoldUn SoldUn SoldUn SoldUn SoldUn SoldUn SoldUn SoldUn SoldUn SoldSoldUn SoldUn SoldSoldUn SoldUn SoldUn SoldUn SoldSoldUn SoldUn SoldUn SoldUn SoldUn SoldSoldSoldUn SoldSoldUn SoldUn SoldUn SoldUn SoldUn SoldSoldUn SoldUn SoldUn SoldSoldUn SoldUn SoldUn SoldUn SoldSoldUn SoldUn SoldSoldUn SoldUn SoldSoldUn SoldUn SoldUn SoldUn SoldUn SoldUn SoldUn SoldSoldUn SoldUn SoldUn SoldUn SoldUn SoldUn SoldSoldUn SoldSoldUn SoldUn SoldSoldSoldUn SoldUn SoldSoldSoldUn SoldUn SoldUn SoldSoldUn SoldUn SoldUn SoldUn SoldUn SoldUn SoldUn SoldUn SoldSoldSoldUn SoldUn SoldUn SoldUn SoldSoldUn SoldUn SoldUn SoldUn SoldSoldUn SoldSoldUn SoldUn SoldUn SoldUn SoldUn SoldUn SoldUn SoldUn SoldUn SoldUn SoldUn SoldUn SoldUn SoldUn SoldSoldSoldUn SoldUn SoldSoldUn SoldUn SoldUn SoldSoldSoldUn SoldSoldUn SoldUn SoldUn SoldUn SoldUn SoldUn SoldUn SoldUn SoldUn SoldUn SoldSoldUn SoldUn SoldUn SoldUn SoldUn SoldUn SoldUn SoldUn SoldUn SoldUn SoldUn SoldUn SoldUn SoldSoldSoldUn SoldUn SoldUn SoldUn SoldUn SoldUn SoldUn SoldUn SoldSoldSoldSoldUn SoldUn SoldUn SoldUn SoldSoldUn SoldUn SoldUn SoldUn SoldUn SoldSoldUn SoldUn SoldSoldUn SoldUn SoldSoldSoldSoldUn SoldUn SoldUn SoldUn SoldSoldUn SoldUn SoldUn SoldUn SoldUn SoldSoldUn SoldUn SoldUn SoldSoldUn SoldUn SoldUn SoldUn SoldUn SoldUn SoldUn SoldUn SoldUn SoldUn SoldUn SoldUn SoldUn SoldUn SoldUn SoldSoldUn SoldUn SoldSoldUn SoldUn SoldUn SoldUn SoldUn SoldUn SoldUn SoldUn SoldUn SoldUn SoldUn SoldUn SoldUn SoldUn SoldSoldUn SoldUn SoldUn SoldUn SoldUn SoldSoldSoldSoldUn SoldUn SoldSoldUn SoldSoldUn SoldUn SoldUn SoldUn SoldUn SoldUn SoldUn SoldUn SoldUn SoldUn SoldUn SoldUn SoldUn SoldSoldUn SoldUn SoldUn SoldSoldUn SoldUn SoldUn SoldUn SoldUn SoldUn SoldSoldUn SoldUn SoldUn SoldUn SoldUn SoldSoldUn SoldUn SoldUn SoldUn SoldUn SoldUn SoldUn SoldUn SoldUn SoldUn SoldUn SoldSoldUn SoldSoldUn SoldSoldUn SoldSoldUn SoldUn SoldUn SoldSoldUn SoldUn SoldSoldUn SoldUn SoldUn SoldUn SoldUn SoldUn SoldUn SoldSoldSoldSoldUn SoldUn SoldUn SoldUn SoldSoldUn SoldUn SoldUn SoldSoldUn SoldSoldSoldUn SoldSoldUn SoldSoldUn SoldUn SoldSoldUn SoldUn SoldUn SoldSoldUn SoldUn SoldUn SoldUn SoldUn SoldUn SoldUn SoldUn SoldUn SoldUn SoldUn SoldSoldSoldSoldSoldUn SoldUn SoldUn SoldSoldUn SoldSoldUn SoldUn SoldUn SoldSoldUn SoldUn SoldUn SoldUn SoldUn SoldUn SoldUn SoldSoldUn SoldUn SoldUn SoldUn SoldUn SoldUn SoldUn SoldUn SoldUn SoldUn SoldUn SoldUn SoldUn SoldUn SoldUn SoldUn SoldUn SoldUn SoldSoldUn SoldSoldUn SoldUn SoldUn SoldUn SoldUn SoldUn SoldUn SoldUn SoldUn SoldUn SoldUn SoldUn SoldSoldUn SoldSoldUn SoldSoldUn SoldSoldUn SoldUn SoldUn SoldSoldSoldUn SoldUn SoldSoldUn SoldSoldUn SoldUn SoldUn SoldUn SoldUn SoldUn SoldSoldUn SoldUn SoldUn SoldUn SoldUn SoldUn SoldUn SoldUn SoldSoldUn SoldUn SoldUn SoldUn SoldUn SoldUn SoldSoldUn SoldUn SoldUn SoldUn SoldUn SoldUn SoldUn SoldUn SoldUn SoldUn SoldUn SoldUn SoldUn SoldUn SoldUn SoldUn SoldUn SoldUn SoldUn SoldUn SoldUn SoldUn SoldUn SoldUn SoldUn SoldUn SoldUn SoldUn SoldUn SoldUn SoldUn SoldSoldUn SoldUn SoldUn SoldUn SoldSoldUn SoldUn SoldSoldUn SoldUn SoldUn SoldSoldUn SoldUn SoldUn SoldUn SoldUn SoldSoldSoldUn SoldSoldSoldUn SoldUn SoldSoldUn SoldUn SoldUn SoldSoldUn SoldUn SoldUn SoldSoldUn SoldSoldUn SoldUn SoldUn SoldSoldUn SoldUn SoldUn SoldUn SoldUn SoldUn SoldUn SoldUn SoldUn SoldUn SoldUn SoldUn SoldUn SoldUn SoldUn SoldUn SoldUn SoldSoldUn SoldUn SoldUn SoldUn SoldUn SoldUn SoldUn SoldUn SoldUn SoldUn SoldUn SoldUn SoldUn SoldUn SoldUn SoldUn SoldUn SoldSoldUn SoldUn SoldSoldSoldUn SoldUn SoldUn SoldUn SoldUn SoldUn SoldSoldUn SoldUn SoldUn SoldSoldUn SoldUn SoldUn SoldUn SoldSoldUn SoldUn SoldUn SoldUn SoldUn SoldUn SoldUn SoldUn SoldUn SoldUn SoldUn SoldSoldSoldSoldUn SoldUn SoldUn SoldUn SoldUn SoldSoldUn SoldSoldSoldUn SoldUn SoldUn SoldUn SoldSoldUn SoldUn SoldUn SoldUn SoldUn SoldSoldSoldUn SoldUn SoldUn SoldUn SoldSoldUn SoldUn SoldUn SoldUn SoldUn SoldUn SoldUn SoldUn SoldSoldUn SoldUn SoldSoldUn SoldUn SoldSoldSoldUn SoldUn SoldUn SoldSoldUn SoldUn SoldUn SoldSoldUn SoldSoldUn SoldUn SoldSoldUn SoldUn SoldUn SoldUn SoldUn SoldUn SoldUn SoldUn SoldUn SoldSoldSoldUn SoldUn SoldUn SoldSoldUn SoldUn SoldSoldUn SoldSoldUn SoldSoldUn SoldUn SoldUn SoldUn SoldUn SoldSoldUn SoldUn SoldSoldUn SoldSoldUn SoldUn SoldUn SoldUn SoldUn SoldUn SoldUn SoldUn SoldUn SoldUn SoldUn SoldUn SoldUn SoldSoldUn SoldUn SoldUn SoldUn SoldUn SoldUn SoldUn SoldUn SoldUn SoldUn SoldSoldUn SoldUn SoldUn SoldUn SoldSoldUn SoldUn SoldSoldUn SoldUn SoldUn SoldUn SoldUn SoldUn SoldUn SoldUn SoldUn SoldUn SoldUn SoldUn SoldUn SoldUn SoldUn SoldUn SoldSoldUn SoldSoldSoldUn SoldUn SoldUn SoldUn SoldUn SoldUn SoldUn SoldUn SoldUn SoldUn SoldUn SoldSoldUn SoldUn SoldSoldUn SoldUn SoldUn SoldUn SoldUn SoldUn SoldUn SoldUn SoldUn SoldSoldSoldUn SoldUn SoldUn SoldSoldUn SoldUn SoldUn SoldUn SoldUn SoldSoldSoldUn SoldSoldUn SoldUn SoldUn SoldSoldUn SoldSoldUn SoldUn SoldUn SoldUn SoldSoldUn SoldUn SoldSoldUn SoldUn SoldUn SoldSoldUn SoldUn SoldUn SoldUn SoldUn SoldUn SoldUn SoldUn SoldUn SoldUn SoldSoldUn SoldUn SoldSoldUn SoldUn SoldUn SoldUn SoldSoldUn SoldUn SoldSoldUn SoldSoldUn SoldUn SoldSoldUn SoldUn SoldUn SoldUn SoldUn SoldUn SoldUn SoldUn SoldSoldUn SoldUn SoldUn SoldUn SoldUn SoldUn SoldUn SoldSoldUn SoldUn SoldUn SoldSoldUn SoldUn SoldUn SoldUn SoldUn SoldUn SoldUn SoldUn SoldSoldUn SoldSoldUn SoldSoldUn SoldUn SoldUn SoldUn SoldUn SoldUn SoldUn SoldUn SoldUn SoldSoldUn SoldUn SoldUn SoldSoldUn SoldUn SoldSoldUn SoldUn SoldUn SoldUn SoldUn SoldSoldUn SoldSoldUn SoldUn SoldUn SoldUn SoldUn SoldUn SoldUn SoldUn SoldUn SoldUn SoldUn SoldSoldSoldUn SoldSoldUn SoldUn SoldUn SoldUn SoldUn SoldUn SoldSoldUn SoldSoldSoldUn SoldUn SoldUn SoldUn SoldUn SoldUn SoldUn SoldUn SoldUn SoldUn SoldUn SoldUn SoldUn SoldSoldUn SoldSoldUn SoldSoldUn SoldUn SoldSoldUn SoldSoldUn SoldUn SoldUn SoldSoldUn SoldUn SoldUn SoldUn SoldUn SoldSoldUn SoldSoldSoldSoldUn SoldUn SoldSoldSoldSoldSoldUn SoldSoldUn SoldUn SoldUn SoldUn SoldUn SoldSoldUn SoldSoldUn SoldSoldSoldUn SoldUn SoldUn SoldUn SoldUn SoldUn SoldUn SoldSoldUn SoldSoldUn SoldUn SoldSoldSoldUn SoldUn SoldUn SoldUn SoldUn SoldUn SoldUn SoldUn SoldUn SoldUn SoldUn SoldUn SoldUn SoldUn SoldUn SoldSoldUn SoldUn SoldUn SoldSoldUn SoldUn SoldSoldUn SoldSoldSoldUn SoldUn SoldUn SoldUn SoldUn SoldUn SoldUn SoldSoldSoldSoldUn SoldUn SoldUn SoldUn SoldUn SoldUn SoldUn SoldUn SoldUn SoldUn SoldUn SoldUn SoldUn SoldUn SoldUn SoldUn SoldSoldUn SoldUn SoldUn SoldUn SoldSoldUn SoldUn SoldSoldSoldUn SoldUn SoldSoldUn SoldUn SoldUn SoldUn SoldUn SoldSoldUn SoldUn SoldUn SoldUn SoldUn SoldSoldSoldUn SoldUn SoldUn SoldUn SoldUn SoldUn SoldUn SoldSoldUn SoldUn SoldUn SoldUn SoldSoldUn SoldUn SoldUn SoldSoldUn SoldUn SoldUn SoldUn SoldUn SoldSoldUn SoldUn SoldUn SoldSoldUn SoldUn SoldUn SoldSoldUn SoldSoldUn SoldUn SoldUn SoldSoldUn SoldUn SoldUn SoldSoldUn SoldUn SoldSoldSoldSoldUn SoldUn SoldUn SoldUn SoldSoldSoldSoldUn SoldSoldSoldUn SoldUn SoldUn SoldUn SoldUn SoldUn SoldUn SoldUn SoldUn SoldUn SoldUn SoldUn SoldUn SoldUn SoldSoldUn SoldUn SoldUn SoldUn SoldUn SoldUn SoldUn SoldUn SoldUn SoldUn SoldSoldUn SoldUn SoldUn SoldUn SoldUn SoldUn SoldUn SoldUn SoldUn SoldUn SoldUn SoldUn SoldUn SoldUn SoldUn SoldUn SoldUn SoldUn SoldSoldUn SoldUn SoldUn SoldUn SoldUn SoldSoldUn SoldUn SoldUn SoldUn SoldUn SoldUn SoldUn SoldUn SoldSoldUn SoldUn SoldUn SoldUn SoldUn SoldUn SoldUn SoldUn SoldUn SoldUn SoldUn SoldSoldUn SoldUn SoldUn SoldSoldSoldUn SoldUn SoldSoldUn SoldUn SoldUn SoldUn SoldUn SoldUn SoldUn SoldUn SoldUn SoldSoldSoldUn SoldUn SoldUn SoldSoldUn SoldUn SoldUn SoldSoldSoldUn SoldSoldUn SoldUn SoldUn SoldUn SoldSoldUn SoldUn SoldUn SoldUn SoldUn SoldUn SoldUn SoldUn SoldUn SoldUn SoldUn SoldUn SoldUn SoldUn SoldUn SoldUn SoldUn SoldSoldUn SoldUn SoldUn SoldUn SoldUn SoldUn SoldUn SoldUn SoldUn SoldSoldUn SoldUn SoldUn SoldUn SoldSoldUn SoldSoldUn SoldUn SoldSoldUn SoldUn SoldUn SoldSoldUn SoldUn SoldUn SoldUn SoldSoldUn SoldUn SoldUn SoldUn SoldSoldSoldUn SoldUn SoldUn SoldSoldUn SoldUn SoldSoldUn SoldUn SoldUn SoldUn SoldUn SoldUn SoldSoldUn SoldUn SoldUn SoldSoldUn SoldUn SoldSoldUn SoldUn SoldSoldUn SoldUn SoldUn SoldUn SoldSoldUn SoldUn SoldUn SoldSoldUn SoldUn SoldSoldSoldUn SoldSoldSoldUn SoldUn SoldUn SoldUn SoldUn SoldUn SoldUn SoldUn SoldUn SoldSoldUn SoldSoldUn SoldUn SoldUn SoldUn SoldUn SoldUn SoldUn SoldUn SoldUn SoldSoldUn SoldUn SoldUn SoldUn SoldSoldUn SoldSoldUn SoldUn SoldUn SoldUn SoldUn SoldUn SoldUn SoldUn SoldUn SoldSoldUn SoldUn SoldSoldUn SoldUn SoldUn SoldUn SoldUn SoldUn SoldUn SoldSoldUn SoldSoldUn SoldUn SoldUn SoldUn SoldUn SoldUn SoldUn SoldSoldSoldUn SoldUn SoldUn SoldUn SoldUn SoldUn SoldUn SoldUn SoldUn SoldUn SoldUn SoldSoldUn SoldSoldUn SoldUn SoldSoldUn SoldSoldSoldSoldSoldUn SoldUn SoldSoldUn SoldUn SoldUn SoldUn SoldUn SoldUn SoldUn SoldUn SoldUn SoldUn SoldUn SoldSoldUn SoldUn SoldUn SoldSoldUn SoldSoldUn SoldUn SoldSoldUn SoldUn SoldUn SoldUn SoldUn SoldUn SoldUn SoldUn SoldUn SoldUn SoldUn SoldUn SoldSoldUn SoldUn SoldUn SoldUn SoldSoldUn SoldUn SoldUn SoldUn SoldUn SoldUn SoldUn SoldUn SoldUn SoldUn SoldUn SoldUn SoldUn SoldUn SoldUn SoldUn SoldUn SoldUn SoldUn SoldSoldUn SoldSoldUn SoldUn SoldSoldSoldSoldUn SoldSoldSoldUn SoldUn SoldUn SoldSoldUn SoldUn SoldSoldUn SoldUn SoldSoldSoldUn SoldSoldUn SoldUn SoldUn SoldSoldSoldUn SoldUn SoldSoldUn SoldUn SoldUn SoldSoldUn SoldUn SoldSoldUn SoldUn SoldUn SoldUn SoldSoldUn SoldUn SoldUn SoldUn SoldUn SoldSoldUn SoldUn SoldUn SoldUn SoldUn SoldUn SoldUn SoldSoldUn SoldUn SoldUn SoldUn SoldUn SoldSoldSoldSoldUn SoldUn SoldUn SoldUn SoldUn SoldUn SoldUn SoldSoldSoldUn SoldUn SoldUn SoldUn SoldUn SoldSoldSoldUn SoldUn SoldUn SoldUn SoldUn SoldSoldUn SoldUn SoldUn SoldSoldUn SoldUn SoldUn SoldSoldUn SoldUn SoldUn SoldUn SoldUn SoldUn SoldUn SoldUn SoldUn SoldUn SoldUn SoldSoldUn SoldSoldUn SoldUn SoldUn SoldSoldSoldSoldUn SoldUn SoldSoldUn SoldUn SoldUn SoldUn SoldUn SoldUn SoldSoldSoldUn SoldSoldSoldUn SoldUn SoldUn SoldSoldUn SoldUn SoldUn SoldSoldUn SoldUn SoldUn SoldUn SoldUn SoldSoldSoldUn SoldUn SoldUn SoldUn SoldUn SoldUn SoldUn SoldUn SoldSoldUn SoldUn SoldUn SoldSoldSoldSoldUn SoldUn SoldUn SoldSoldSoldUn SoldUn SoldUn SoldUn SoldUn SoldUn SoldSoldUn SoldUn SoldUn SoldUn SoldUn SoldSoldUn SoldUn SoldSoldUn SoldUn SoldUn SoldUn SoldSoldUn SoldSoldSoldUn SoldUn SoldUn SoldUn SoldUn SoldUn SoldUn SoldUn SoldSoldSoldUn SoldUn SoldUn SoldUn SoldSoldUn SoldUn SoldSoldUn SoldUn SoldUn SoldSoldUn SoldUn SoldUn SoldSoldUn SoldSoldUn SoldSoldUn SoldUn SoldUn SoldUn SoldUn SoldUn SoldSoldSoldUn SoldUn SoldUn SoldUn SoldSoldUn SoldUn SoldUn SoldUn SoldUn SoldUn SoldUn SoldSoldUn SoldUn SoldUn SoldUn SoldUn SoldUn SoldUn SoldUn SoldUn SoldUn SoldUn SoldUn SoldUn SoldUn SoldUn SoldUn SoldUn SoldUn SoldUn SoldUn SoldUn SoldSoldUn SoldUn SoldUn SoldUn SoldSoldSoldUn SoldSoldUn SoldUn SoldSoldSoldUn SoldUn SoldUn SoldSoldUn SoldUn SoldUn SoldUn SoldUn SoldSoldUn SoldUn SoldSoldSoldUn SoldSoldSoldUn SoldUn SoldUn SoldUn SoldUn SoldUn SoldUn SoldUn SoldSoldUn SoldUn SoldUn SoldSoldUn SoldSoldUn SoldSoldSoldUn SoldSoldSoldUn SoldSoldUn SoldSoldUn SoldUn SoldUn SoldUn SoldUn SoldUn SoldUn SoldUn SoldUn SoldUn SoldUn SoldUn SoldUn SoldSoldUn SoldUn SoldSoldUn SoldUn SoldUn SoldUn SoldSoldSoldUn SoldUn SoldSoldSoldUn SoldUn SoldUn SoldUn SoldSoldUn SoldUn SoldUn SoldUn SoldSoldUn SoldUn SoldUn SoldUn SoldUn SoldUn SoldUn SoldSoldUn SoldUn SoldUn SoldUn SoldUn SoldSoldUn SoldUn SoldUn SoldUn SoldUn SoldUn SoldUn SoldSoldUn SoldUn SoldUn SoldUn SoldSoldUn SoldUn SoldUn SoldSoldUn SoldSoldUn SoldUn SoldUn SoldUn SoldUn SoldUn SoldSoldUn SoldUn SoldSoldUn SoldSoldUn SoldUn SoldUn SoldSoldSoldSoldUn SoldSoldUn SoldUn SoldUn SoldSoldUn SoldUn SoldUn SoldSoldUn SoldUn SoldSoldSoldSoldUn SoldUn SoldUn SoldUn SoldUn SoldUn SoldUn SoldUn SoldUn SoldUn SoldSoldUn SoldUn SoldUn SoldSoldUn SoldUn SoldUn SoldSoldSoldUn SoldUn SoldUn SoldUn SoldSoldUn SoldUn SoldSoldSoldUn SoldUn SoldUn SoldUn SoldSoldUn SoldUn SoldUn SoldUn SoldUn SoldUn SoldUn SoldSoldSoldUn SoldUn SoldUn SoldUn SoldUn SoldSoldSoldUn SoldUn SoldUn SoldUn SoldSoldUn SoldUn SoldSoldUn SoldUn SoldSoldUn SoldUn SoldUn SoldUn SoldUn SoldUn SoldUn SoldUn SoldUn SoldUn SoldUn SoldUn SoldUn SoldSoldUn SoldSoldUn SoldUn SoldUn SoldUn SoldSoldUn SoldUn SoldUn SoldUn SoldUn SoldUn SoldSoldUn SoldSoldUn SoldSoldUn SoldUn SoldSoldUn SoldSoldSoldUn SoldUn SoldUn SoldUn SoldUn SoldUn SoldUn SoldUn SoldUn SoldSoldUn SoldUn SoldUn SoldUn SoldUn SoldSoldUn SoldUn SoldUn SoldUn SoldUn SoldSoldUn SoldUn SoldUn SoldUn SoldUn SoldUn SoldUn SoldUn SoldUn SoldUn SoldSoldUn SoldUn SoldSoldUn SoldUn SoldUn SoldUn SoldUn SoldUn SoldUn SoldUn SoldUn SoldUn SoldUn SoldSoldUn SoldSoldUn SoldUn SoldUn SoldSoldUn SoldSoldSoldUn SoldUn SoldUn SoldUn SoldUn SoldUn SoldUn SoldUn SoldUn SoldSoldUn SoldUn SoldSoldSoldUn SoldUn SoldUn SoldUn SoldUn SoldUn SoldSoldUn SoldUn SoldUn SoldUn SoldUn SoldUn SoldUn SoldUn SoldUn SoldUn SoldSoldUn SoldSoldSoldUn SoldUn SoldUn SoldUn SoldUn SoldSoldUn SoldSoldUn SoldUn SoldUn SoldUn SoldUn SoldUn SoldUn SoldSoldUn SoldUn SoldUn SoldSoldSoldUn SoldUn SoldUn SoldUn SoldSoldUn SoldUn SoldUn SoldUn SoldUn SoldUn SoldUn SoldSoldUn SoldUn SoldUn SoldUn SoldUn SoldUn SoldSoldUn SoldUn SoldSoldUn SoldSoldSoldUn SoldSoldUn SoldSoldUn SoldUn SoldUn SoldUn SoldUn SoldUn SoldUn SoldUn SoldUn SoldUn SoldUn SoldUn SoldUn SoldUn SoldUn SoldUn SoldSoldUn SoldUn SoldUn SoldUn SoldUn SoldUn SoldSoldUn SoldSoldSoldUn SoldUn SoldSoldSoldUn SoldSoldUn SoldUn SoldUn SoldUn SoldUn SoldSoldUn SoldUn SoldUn SoldSoldUn SoldUn SoldSoldUn SoldUn SoldUn SoldUn SoldUn SoldUn SoldUn SoldUn SoldUn SoldUn SoldUn SoldUn SoldUn SoldUn SoldUn SoldUn SoldUn SoldUn SoldSoldUn SoldUn SoldUn SoldUn SoldUn SoldSoldUn SoldSoldUn SoldUn SoldUn SoldUn SoldUn SoldUn SoldUn SoldSoldSoldSoldUn SoldUn SoldUn SoldUn SoldUn SoldSoldUn SoldUn SoldUn SoldUn SoldUn SoldSoldUn SoldUn SoldUn SoldUn SoldSoldUn SoldUn SoldUn SoldUn SoldSoldUn SoldUn SoldSoldUn SoldUn SoldUn SoldUn SoldUn SoldUn SoldUn SoldUn SoldUn SoldSoldUn SoldUn SoldUn SoldUn SoldUn SoldUn SoldUn SoldUn SoldUn SoldUn SoldUn SoldSoldUn SoldUn SoldUn SoldUn SoldUn SoldUn SoldUn SoldUn SoldUn SoldUn SoldUn SoldUn SoldUn SoldUn SoldUn SoldUn SoldSoldUn SoldUn SoldUn SoldUn SoldSoldUn SoldUn SoldUn SoldUn SoldUn SoldUn SoldUn SoldUn SoldUn SoldUn SoldUn SoldUn SoldUn SoldUn SoldUn SoldUn SoldUn SoldUn SoldSoldSoldUn SoldUn SoldUn SoldUn SoldUn SoldUn SoldSoldSoldUn SoldUn SoldUn SoldSoldUn SoldUn SoldUn SoldSoldSoldUn SoldSoldUn SoldUn SoldSoldSoldUn SoldUn SoldUn SoldUn SoldUn SoldSoldSoldUn SoldUn SoldUn SoldUn SoldUn SoldUn SoldSoldUn SoldSoldUn SoldUn SoldUn SoldUn SoldUn SoldUn SoldUn SoldUn SoldUn SoldSoldUn SoldUn SoldUn SoldUn SoldUn SoldUn SoldUn SoldUn SoldUn SoldSoldUn SoldUn SoldSoldUn SoldSoldUn SoldUn SoldUn SoldUn SoldUn SoldSoldUn SoldUn SoldSoldUn SoldSoldUn SoldSoldUn SoldUn SoldSoldUn SoldSoldUn SoldUn SoldUn SoldUn SoldUn SoldUn SoldUn SoldUn SoldUn SoldUn SoldUn SoldSoldSoldUn SoldUn SoldUn SoldUn SoldUn SoldUn SoldUn SoldUn SoldUn SoldUn SoldUn SoldUn SoldUn SoldSoldUn SoldUn SoldUn SoldUn SoldUn SoldUn SoldUn SoldUn SoldUn SoldUn SoldUn SoldSoldUn SoldUn SoldUn SoldUn SoldUn SoldUn SoldSoldSoldUn SoldUn SoldSoldUn SoldUn SoldUn SoldUn SoldUn SoldUn SoldUn SoldUn SoldUn SoldUn SoldSoldUn SoldSoldUn SoldUn SoldUn SoldUn SoldUn SoldSoldUn SoldUn SoldSoldUn SoldUn SoldUn SoldSoldUn SoldUn SoldUn SoldUn SoldUn SoldUn SoldUn SoldUn SoldUn SoldUn SoldUn SoldUn SoldUn SoldSoldUn SoldUn SoldSoldSoldUn SoldUn SoldUn SoldUn SoldUn SoldUn SoldUn SoldUn SoldUn SoldUn SoldUn SoldUn SoldUn SoldSoldUn SoldUn SoldSoldUn SoldUn SoldSoldUn SoldUn SoldUn SoldUn SoldUn SoldUn SoldSoldUn SoldUn SoldUn SoldUn SoldUn SoldUn SoldUn SoldSoldSoldUn SoldUn SoldSoldUn SoldUn SoldSoldUn SoldUn SoldUn SoldUn SoldUn SoldSoldUn SoldUn SoldUn SoldUn SoldSoldUn SoldSoldUn SoldUn SoldUn SoldSoldUn SoldUn SoldUn SoldUn SoldUn SoldSoldUn SoldUn SoldSoldSoldUn SoldUn SoldUn SoldUn SoldUn SoldSoldUn SoldUn SoldUn SoldUn SoldUn SoldUn SoldUn SoldUn SoldUn SoldUn SoldUn SoldUn SoldUn SoldSoldUn SoldSoldUn SoldUn SoldUn SoldUn SoldUn SoldUn SoldUn SoldSoldUn SoldSoldSoldUn SoldUn SoldUn SoldUn SoldUn SoldSoldUn SoldUn SoldUn SoldUn SoldSoldUn SoldUn SoldUn SoldUn SoldSoldSoldSoldUn SoldUn SoldUn SoldSoldUn SoldUn SoldUn SoldSoldUn SoldUn SoldUn SoldUn SoldSoldSoldUn SoldUn SoldUn SoldSoldSoldSoldSoldUn SoldUn SoldUn SoldUn SoldUn SoldUn SoldUn SoldUn SoldUn SoldSoldUn SoldUn SoldUn SoldUn SoldUn SoldUn SoldUn SoldUn SoldUn SoldUn SoldUn SoldUn SoldUn SoldUn SoldSoldUn SoldUn SoldUn SoldUn SoldUn SoldUn SoldUn SoldUn SoldUn SoldUn SoldUn SoldUn SoldSoldSoldSoldUn SoldUn SoldUn SoldUn SoldUn SoldUn SoldUn SoldSoldUn SoldSoldUn SoldUn SoldSoldUn SoldUn SoldUn SoldSoldUn SoldSoldUn SoldUn SoldUn SoldUn SoldUn SoldUn SoldSoldUn SoldUn SoldUn SoldUn SoldSoldUn SoldUn SoldUn SoldSoldUn SoldUn SoldSoldUn SoldUn SoldUn SoldUn SoldUn SoldUn SoldSoldUn SoldUn SoldSoldSoldUn SoldUn SoldSoldSoldUn SoldUn SoldUn SoldSoldUn SoldUn SoldSoldUn SoldUn SoldUn SoldSoldSoldUn SoldUn SoldUn SoldUn SoldUn SoldUn SoldUn SoldUn SoldUn SoldSoldUn SoldUn SoldUn SoldUn SoldUn SoldUn SoldUn SoldUn SoldUn SoldUn SoldUn SoldSoldSoldSoldUn SoldSoldUn SoldUn SoldUn SoldUn SoldUn SoldUn SoldSoldSoldUn SoldUn SoldUn SoldSoldSoldUn SoldUn SoldUn SoldUn SoldUn SoldUn SoldUn SoldUn SoldUn SoldUn SoldUn SoldSoldUn SoldUn SoldUn SoldUn SoldUn SoldUn SoldUn SoldSoldUn SoldUn SoldUn SoldUn SoldUn SoldUn SoldUn SoldUn SoldSoldUn SoldUn SoldUn SoldSoldUn SoldUn SoldUn SoldUn SoldUn SoldUn SoldUn SoldUn SoldUn SoldUn SoldUn SoldUn SoldUn SoldUn SoldUn SoldSoldUn SoldUn SoldUn SoldUn SoldSoldUn SoldUn SoldUn SoldUn SoldUn SoldUn SoldUn SoldUn SoldSoldUn SoldUn SoldUn SoldSoldUn SoldUn SoldUn SoldSoldUn SoldUn SoldUn SoldUn SoldUn SoldUn SoldUn SoldUn SoldUn SoldUn SoldUn SoldUn SoldUn SoldUn SoldUn SoldUn SoldUn SoldUn SoldUn SoldSoldUn SoldSoldUn SoldUn SoldUn SoldUn SoldUn SoldUn SoldUn SoldUn SoldUn SoldSoldUn SoldSoldUn SoldUn SoldUn SoldUn Sold\n"
     ]
    }
   ],
   "source": [
    "total_sold = df[\"Car Sale Status\"].sum()\n",
    "print(\"Total Cars Sold:\", total_sold)"
   ]
  },
  {
   "cell_type": "markdown",
   "id": "5619d5a4",
   "metadata": {},
   "source": [
    "### Visualizing"
   ]
  },
  {
   "cell_type": "code",
   "execution_count": 65,
   "id": "313611d5",
   "metadata": {},
   "outputs": [
    {
     "data": {
      "image/png": "[encoded data removed]",
      "text/plain": [
       "<Figure size 1000x600 with 1 Axes>"
      ]
     },
     "metadata": {},
     "output_type": "display_data"
    }
   ],
   "source": [
    "plt.figure(figsize=(10, 6))\n",
    "sns.histplot(df['Purchased Price-$'], bins=30, kde=True, color='lightcoral')\n",
    "plt.title(\"Distribution of Purchased Car Prices\", fontsize=16)\n",
    "plt.xlabel(\"Purchased Price-$\", fontsize=12)\n",
    "plt.ylabel(\"Count\", fontsize=12)\n",
    "plt.show()"
   ]
  },
  {
   "cell_type": "code",
   "execution_count": 81,
   "id": "c276d0b9",
   "metadata": {},
   "outputs": [
    {
     "data": {
      "image/png": "[encoded data removed]",
      "text/plain": [
       "<Figure size 800x600 with 2 Axes>"
      ]
     },
     "metadata": {},
     "output_type": "display_data"
    }
   ],
   "source": [
    "numeric_cols = ['Purchased Price-$', 'Sold Price-$', 'Feedback']\n",
    "correlation_matrix = df[numeric_cols].corr()\n",
    "plt.figure(figsize=(8, 6))\n",
    "sns.heatmap(correlation_matrix, annot=True, cmap='plasma', fmt=\".2f\")\n",
    "plt.title(\"Correlation Matrix\", fontsize=16)\n",
    "plt.show()"
   ]
  },
  {
   "cell_type": "code",
   "execution_count": 70,
   "id": "61c0fec1",
   "metadata": {},
   "outputs": [
    {
     "data": {
      "image/png": "[encoded data removed]",
      "text/plain": [
       "<Figure size 640x480 with 1 Axes>"
      ]
     },
     "metadata": {},
     "output_type": "display_data"
    }
   ],
   "source": [
    "status = df[\"Car Sale Status\"].value_counts()\n",
    "status.plot(kind='pie', colors=['crimson', 'royalblue', 'gold', 'limegreen'], autopct='%1.1f%%', explode=[0.05]*len(status))\n",
    "plt.ylabel('')\n",
    "plt.title('Car Sale Status Distribution')\n",
    "plt.show()"
   ]
  },
  {
   "cell_type": "code",
   "execution_count": 71,
   "id": "5f5bbc09",
   "metadata": {},
   "outputs": [
    {
     "data": {
      "image/png": "[encoded data removed]",
      "text/plain": [
       "<Figure size 640x480 with 2 Axes>"
      ]
     },
     "metadata": {},
     "output_type": "display_data"
    }
   ],
   "source": [
    "sns.heatmap(df.corr(numeric_only = True));"
   ]
  },
  {
   "cell_type": "code",
   "execution_count": 74,
   "id": "c23005c7",
   "metadata": {},
   "outputs": [
    {
     "name": "stderr",
     "output_type": "stream",
     "text": [
      "C:\\Users\\owner\\AppData\\Local\\Temp\\ipykernel_18116\\3670474237.py:2: FutureWarning: \n",
      "\n",
      "Passing `palette` without assigning `hue` is deprecated and will be removed in v0.14.0. Assign the `x` variable to `hue` and set `legend=False` for the same effect.\n",
      "\n",
      "  sns.countplot(data=df, x='Car Name', palette='pastel', order=df['Car Name'].value_counts().index)\n"
     ]
    },
    {
     "data": {
      "image/png": "[encoded data removed]",
      "text/plain": [
       "<Figure size 1000x600 with 1 Axes>"
      ]
     },
     "metadata": {},
     "output_type": "display_data"
    }
   ],
   "source": [
    "plt.figure(figsize=(10, 6))\n",
    "sns.countplot(data=df, x='Car Name', palette='pastel', order=df['Car Name'].value_counts().index)\n",
    "plt.title(\"Distribution of Interior Styles\", fontsize=16)\n",
    "plt.xlabel(\"Car Name\", fontsize=12)\n",
    "plt.ylabel(\"Count\", fontsize=12)\n",
    "plt.xticks(rotation=0)\n",
    "plt.show()"
   ]
  },
  {
   "cell_type": "code",
   "execution_count": 75,
   "id": "b34fcc09",
   "metadata": {},
   "outputs": [
    {
     "data": {
      "image/png": "[encoded data removed]",
      "text/plain": [
       "<Figure size 640x480 with 1 Axes>"
      ]
     },
     "metadata": {},
     "output_type": "display_data"
    }
   ],
   "source": [
    "sns.countplot( x = 'Number of Seats', data = df)\n",
    "plt.show()"
   ]
  },
  {
   "cell_type": "code",
   "execution_count": 83,
   "id": "baf99eb9",
   "metadata": {},
   "outputs": [
    {
     "data": {
      "image/png": "[encoded data removed]",
      "text/plain": [
       "<Figure size 1000x600 with 1 Axes>"
      ]
     },
     "metadata": {},
     "output_type": "display_data"
    }
   ],
   "source": [
    "plt.figure(figsize=(10, 6))\n",
    "plt.plot(df['Purchased Price-$'], df['Sold Price-$'], marker='o', linestyle='-', color='teal')\n",
    "plt.title(\" Purchased Price-$ vs Sold Price-$\", fontsize=16)\n",
    "plt.xlabel(\"Purchased Price-$\", fontsize=12)\n",
    "plt.ylabel(\"Sold Price-$\", fontsize=12)\n",
    "plt.grid(True)\n",
    "plt.show()"
   ]
  },
  {
   "cell_type": "code",
   "execution_count": 84,
   "id": "d3e0a775",
   "metadata": {},
   "outputs": [
    {
     "data": {
      "image/png": "[encoded data removed]",
      "text/plain": [
       "<Figure size 640x480 with 1 Axes>"
      ]
     },
     "metadata": {},
     "output_type": "display_data"
    }
   ],
   "source": [
    "sns.boxplot(data=df[['Manufactured Year']])\n",
    "plt.show()"
   ]
  }
 ],
 "metadata": {
  "kernelspec": {
   "display_name": "Python 3",
   "language": "python",
   "name": "python3"
  },
  "language_info": {
   "codemirror_mode": {
    "name": "ipython",
    "version": 3
   },
   "file_extension": ".py",
   "mimetype": "text/x-python",
   "name": "python",
   "nbconvert_exporter": "python",
   "pygments_lexer": "ipython3",
   "version": "3.12.10"
  },
  "widgets": {
   "application/vnd.jupyter.widget-state+json": {
    "state": {},
    "version_major": 2,
    "version_minor": 0
   }
  }
 },
 "nbformat": 4,
 "nbformat_minor": 5
}
